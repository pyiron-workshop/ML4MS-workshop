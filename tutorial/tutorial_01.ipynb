{
 "cells": [
  {
   "cell_type": "markdown",
   "id": "8107054a-2f06-4a51-b724-a06913231430",
   "metadata": {},
   "source": [
    "## <font style=\"font-family:roboto;color:#455e6c\"> Introduction to atomistic simulations with pyiron </font>  "
   ]
  },
  {
   "cell_type": "markdown",
   "id": "79a7684c-0c1a-40d3-be2c-853c12dd08d3",
   "metadata": {},
   "source": [
    "<div class=\"admonition note\" name=\"html-admonition\" style=\"background:#e3f2fd; padding: 10px\">\n",
    "<font style=\"font-family:roboto;color:#455e6c\"> Sarath Menon, Jörg Neugebauer </font> </br>\n",
    "<font style=\"font-family:roboto;color:#455e6c\"> Max Planck Institute for Sustainable Materials, Dusseldorf, Germany </font> </br>\n",
    "<font style=\"font-family:roboto;color:#455e6c\"> <b> Machine Learning Modalities for Materials Science Workshop, Jožef Stefan Institute, Ljubljana </b> </font> </br>\n",
    "<font style=\"font-family:roboto;color:#455e6c\"> 14 May 2024 </font>\n",
    "</div>"
   ]
  },
  {
   "cell_type": "markdown",
   "id": "567c08e6-d815-4316-9895-66b69352ee9f",
   "metadata": {},
   "source": [
    "### <font style=\"font-family:roboto;color:#455e6c\"> Jupyter Crash Course </font>  \n",
    "\n",
    "1. Select cells by clicking on them.\n",
    "2. Navigate through with `up` and `down` keys (or `k` and `j` for you vimmers).\n",
    "3. Press Enter to edit a cell.\n",
    "4. Press Shift-Enter to execute it.\n",
    "5. Create new cells above or below the current one with `a` or `b`.\n",
    "6. Copy, cut and paste them with `c`, `x` and `v`.\n",
    "7. Press `m` to turn a cell into a markdown cell.\n",
    "8. See the `Help` in the toolbar for more."
   ]
  },
  {
   "cell_type": "markdown",
   "id": "31110557-6779-45d5-87a8-b34ca72bcc04",
   "metadata": {},
   "source": [
    "Before the excercise, you should:\n",
    "\n",
    "* Basic understanding of python especially with numerical libraries like numpy and plotting tools like matplotlib\n",
    "* Understand how Jupyter Notebooks work (see above)\n",
    "\n",
    "The aim of this exercise is to make you familiar with:\n",
    "\n",
    "* A general overview of what pyiron can do\n",
    "* How to set up atomic structures and run atomistic simulation codes through pyiron"
   ]
  },
  {
   "cell_type": "markdown",
   "id": "357266ff-e392-41d9-9015-b4979755f8ca",
   "metadata": {},
   "source": [
    "### <font style=\"font-family:roboto;color:#455e6c\"> Importing necessary libraries </font>  \n",
    "As a first step we import the libraries [numpy](http://www.numpy.org/) for data analysis and [matplotlib](https://matplotlib.org/) for visualization."
   ]
  },
  {
   "cell_type": "code",
   "execution_count": null,
   "id": "363de4f4-51ec-4dd6-84e3-dd5b2397f051",
   "metadata": {},
   "outputs": [],
   "source": [
    "%config IPCompleter.evaluation='unsafe'"
   ]
  },
  {
   "cell_type": "code",
   "execution_count": null,
   "id": "d3d6a5b0-ea72-40a5-82d1-c8e22f37a9b8",
   "metadata": {},
   "outputs": [],
   "source": [
    "import warnings\n",
    "warnings.filterwarnings(\"ignore\", category=DeprecationWarning) "
   ]
  },
  {
   "cell_type": "code",
   "execution_count": null,
   "id": "25102d51-efce-4bc6-adbd-cc5a3061f8d8",
   "metadata": {},
   "outputs": [],
   "source": [
    "import numpy as np\n",
    "import matplotlib.pylab as plt"
   ]
  },
  {
   "cell_type": "markdown",
   "id": "e59ad9db-95ab-422e-a06e-0c2a9bdaa237",
   "metadata": {},
   "source": [
    "Fundamentally, we only need to import one module from `pyiron`: the `Project` class"
   ]
  },
  {
   "cell_type": "code",
   "execution_count": null,
   "id": "breathing-great",
   "metadata": {},
   "outputs": [],
   "source": [
    "from pyiron import Project"
   ]
  },
  {
   "cell_type": "markdown",
   "id": "79eefe7f-93cc-4f52-b881-f80029da2a2a",
   "metadata": {},
   "source": [
    "The Project object introduced below is central in pyiron. It allows to name the project as well as to derive all other objects such as structures, jobs etc. without having to import them. Thus, by code completion *Tab* the respective commands can be found easily.\n",
    "\n",
    "We now create a pyiron Project named 'tutorial'."
   ]
  },
  {
   "cell_type": "markdown",
   "id": "aff61fc5-3c0f-40fd-890f-5e10b22f5001",
   "metadata": {},
   "source": [
    "### <font style=\"font-family:roboto;color:#455e6c\"> Working with atomistic structures </font>  "
   ]
  },
  {
   "cell_type": "markdown",
   "id": "e1f50039-423b-40b2-9927-f0836b9a7a54",
   "metadata": {},
   "source": [
    "#### <font style=\"font-family:roboto;color:#455e6c\"> Creation of a project instance </font>  "
   ]
  },
  {
   "cell_type": "code",
   "execution_count": null,
   "id": "experienced-stocks",
   "metadata": {},
   "outputs": [],
   "source": [
    "pr = Project(\"tutorial\")"
   ]
  },
  {
   "cell_type": "markdown",
   "id": "baa8c07b-3835-42b7-9a68-2b5a3f4ef274",
   "metadata": {},
   "source": [
    "The project name also applies for the directory that is created for the project. All data generated by this `Project` object resides in this directory."
   ]
  },
  {
   "cell_type": "code",
   "execution_count": null,
   "id": "lined-stupid",
   "metadata": {},
   "outputs": [],
   "source": [
    "pr.path"
   ]
  },
  {
   "cell_type": "code",
   "execution_count": null,
   "id": "occupational-logistics",
   "metadata": {},
   "outputs": [],
   "source": [
    "pr"
   ]
  },
  {
   "cell_type": "markdown",
   "id": "f7c76d98-9539-41be-aa00-3d6991399282",
   "metadata": {},
   "source": [
    "The `groups` and `nodes` will be populated later, as we add jobs and sub project to it."
   ]
  },
  {
   "cell_type": "markdown",
   "id": "fd54660a-be2c-4bc4-b028-36bc956ebbba",
   "metadata": {},
   "source": [
    "#### <font style=\"font-family:roboto;color:#455e6c\"> Creating atomic structures </font>  "
   ]
  },
  {
   "cell_type": "markdown",
   "id": "b262fa41-266c-49c6-aef7-a3830fd940b8",
   "metadata": {},
   "source": [
    "Every atomistic simulation needs an atomic structure. For more details on generating and manipulating structures, please have a look at our [structures example](https://pyiron.readthedocs.io/en/latest/source/notebooks/structures.html). In this section however, we show how to generate and manipulate bulk crystals, surfaces, etc. pyiron's structure class is derived from the popular [`ase` package](https://wiki.fysik.dtu.dk/ase/ase/build/build.html) and any `ase` function to manipulate structures can also be applied here."
   ]
  },
  {
   "cell_type": "markdown",
   "id": "3a22994f-0bac-401f-ad56-687628297d73",
   "metadata": {},
   "source": [
    "Creating a bulk fcc cubic unitcell"
   ]
  },
  {
   "cell_type": "code",
   "execution_count": null,
   "id": "rolled-province",
   "metadata": {},
   "outputs": [],
   "source": [
    "Al_unitcell_cubic = pr.create.structure.bulk('Al', cubic=True)\n",
    "Al_unitcell_cubic"
   ]
  },
  {
   "cell_type": "markdown",
   "id": "58c0f406-b2b4-4117-b5f8-e69179b198bd",
   "metadata": {},
   "source": [
    "Creating a super cell."
   ]
  },
  {
   "cell_type": "code",
   "execution_count": null,
   "id": "virtual-jimmy",
   "metadata": {},
   "outputs": [],
   "source": [
    "Al_supercell_3_3_3 = Al_unitcell_cubic.repeat([3, 3, 3])\n",
    "Al_supercell_3_3_3.plot3d(particle_size=2)"
   ]
  },
  {
   "cell_type": "markdown",
   "id": "25321adc-6468-4d31-b978-4a98da098cb6",
   "metadata": {},
   "source": [
    "Creating a vacancy is easy, just delete an atom."
   ]
  },
  {
   "cell_type": "code",
   "execution_count": null,
   "id": "tired-novel",
   "metadata": {},
   "outputs": [],
   "source": [
    "Al_vacancy = Al_supercell_3_3_3.copy()\n",
    "del Al_vacancy[0] # Deleting the first atom\n",
    "print(Al_supercell_3_3_3.get_chemical_formula(), Al_vacancy.get_chemical_formula())\n",
    "Al_vacancy.plot3d(particle_size=2)"
   ]
  },
  {
   "cell_type": "markdown",
   "id": "3780066f-d9ea-4c9e-874f-e4e07c5beb87",
   "metadata": {},
   "source": [
    "### <font style=\"font-family:roboto;color:#455e6c\"> Running an atomistic calculation using interatomic potentials (with LAMMPS) </font>  \n",
    "\n",
    "\n",
    "Once we have an atomic structure, we can set up a simulation \"job\" of any atomistic simulation that is intergrated within pyiron. In this section, we are going to use the popular [LAMMPS code](https://lammps.sandia.gov/)."
   ]
  },
  {
   "cell_type": "code",
   "execution_count": null,
   "id": "associate-amendment",
   "metadata": {},
   "outputs": [],
   "source": [
    "# Create a job\n",
    "job_lammps = pr.create.job.Lammps(\"lammps_job\")"
   ]
  },
  {
   "cell_type": "markdown",
   "id": "6dfdfb52-7a0b-4165-9b3d-8609cfff648c",
   "metadata": {},
   "source": [
    "Every atomistic simulation code needs an input atomic structure. We use the Al supercell structure we created earlier"
   ]
  },
  {
   "cell_type": "code",
   "execution_count": null,
   "id": "serial-plymouth",
   "metadata": {},
   "outputs": [],
   "source": [
    "# Assign an atomic structure to the job\n",
    "job_lammps.structure = pr.create.structure.bulk('Al', cubic=True).repeat(3)"
   ]
  },
  {
   "cell_type": "markdown",
   "id": "9e1c7e58-3103-4c26-97d0-394a8024ad14",
   "metadata": {},
   "source": [
    "Once the structure is assigned, an appropriate potential should also be chosen. This list of available for the structure containing Al can be found below.  This list originates from the NIST Interatomic Potential Database."
   ]
  },
  {
   "cell_type": "code",
   "execution_count": null,
   "id": "weekly-imagination",
   "metadata": {},
   "outputs": [],
   "source": [
    "# See available potentials\n",
    "job_lammps.list_potentials()[20:30] # to include the selected potential in the list"
   ]
  },
  {
   "cell_type": "code",
   "execution_count": null,
   "id": "other-horse",
   "metadata": {},
   "outputs": [],
   "source": [
    "# Choose one of these potentials\n",
    "job_lammps.potential = \"2005--Mendelev-M-I--Al-Fe--LAMMPS--ipr1\""
   ]
  },
  {
   "cell_type": "markdown",
   "id": "358ac28a-e729-4633-9deb-e81bf35a1686",
   "metadata": {},
   "source": [
    "At this stage, the computational parameters for the simulation needs to be specified. pyiron parses generic computational parameters into code specific parameters allowing for an easy transition between simulation codes"
   ]
  },
  {
   "cell_type": "code",
   "execution_count": null,
   "id": "purple-reply",
   "metadata": {},
   "outputs": [],
   "source": [
    "# specify calculation details: in this case: MD at 800 K in the NPT ensemble (pressure=0) for 10000 steps\n",
    "job_lammps.calc_md(temperature=800, pressure=0, n_ionic_steps=10000)"
   ]
  },
  {
   "cell_type": "markdown",
   "id": "4e178e65-f7d3-4655-ba45-b46d44439c73",
   "metadata": {},
   "source": [
    "We can now see how pyiron sets-up the corresponding LAMMPS input"
   ]
  },
  {
   "cell_type": "code",
   "execution_count": null,
   "id": "handy-headquarters",
   "metadata": {},
   "outputs": [],
   "source": [
    "job_lammps.input.control"
   ]
  },
  {
   "cell_type": "markdown",
   "id": "5b57ee62-2cc6-4839-8c22-4a8b44934df9",
   "metadata": {},
   "source": [
    "Once the `run()` commmand is called, pyiron creates necessary input files, calls the simulation code, and finally parses and stores the output."
   ]
  },
  {
   "cell_type": "code",
   "execution_count": null,
   "id": "mediterranean-progressive",
   "metadata": {},
   "outputs": [],
   "source": [
    "job_lammps.run()"
   ]
  },
  {
   "cell_type": "markdown",
   "id": "0055f417-58b3-4449-815c-5f307d0ae1dc",
   "metadata": {},
   "source": [
    "When printing the project, the saved job will also appear under `nodes` now."
   ]
  },
  {
   "cell_type": "code",
   "execution_count": null,
   "id": "conventional-smooth",
   "metadata": {},
   "outputs": [],
   "source": [
    "pr"
   ]
  },
  {
   "cell_type": "markdown",
   "id": "cd9d2b51-2d86-4b90-ac7d-ee851547073b",
   "metadata": {},
   "source": [
    "You can get a quick overview with the `job_table` method."
   ]
  },
  {
   "cell_type": "code",
   "execution_count": null,
   "id": "sufficient-greensboro",
   "metadata": {},
   "outputs": [],
   "source": [
    "pr.job_table()"
   ]
  },
  {
   "cell_type": "markdown",
   "id": "6a62baec-8718-4150-90a7-a06e4a730efb",
   "metadata": {},
   "source": [
    "Once it is finished we can access the parsed output."
   ]
  },
  {
   "cell_type": "code",
   "execution_count": null,
   "id": "fed2e171-b307-4684-84cc-c68bcbe0f5a7",
   "metadata": {},
   "outputs": [],
   "source": [
    "job_lammps['output']"
   ]
  },
  {
   "cell_type": "code",
   "execution_count": null,
   "id": "cfda431c-a822-4493-8983-7d6bb5ff8a7c",
   "metadata": {},
   "outputs": [],
   "source": [
    "plt.plot(job_lammps['output/generic/energy_pot']);"
   ]
  },
  {
   "cell_type": "code",
   "execution_count": null,
   "id": "f083946d-5be6-4611-8845-cb816d6cda44",
   "metadata": {},
   "outputs": [],
   "source": [
    "job_lammps.animate_structure()"
   ]
  },
  {
   "cell_type": "markdown",
   "id": "b2eea31f-4e10-45ef-abf5-e07b7a194f37",
   "metadata": {},
   "source": [
    "### <font style=\"font-family:roboto;color:#455e6c\"> Software used in this notebook </font>  \n",
    "\n",
    "- [pyiron_atomistics](https://github.com/pyiron/pyiron_atomistics)\n",
    "- [LAMMPS](https://www.lammps.org/)\n",
    "- [ASE](https://wiki.fysik.dtu.dk/ase/index.html)"
   ]
  }
 ],
 "metadata": {
  "kernelspec": {
   "display_name": "Python 3 (ipykernel)",
   "language": "python",
   "name": "python3"
  },
  "language_info": {
   "codemirror_mode": {
    "name": "ipython",
    "version": 3
   },
   "file_extension": ".py",
   "mimetype": "text/x-python",
   "name": "python",
   "nbconvert_exporter": "python",
   "pygments_lexer": "ipython3",
   "version": "3.11.9"
  }
 },
 "nbformat": 4,
 "nbformat_minor": 5
}
