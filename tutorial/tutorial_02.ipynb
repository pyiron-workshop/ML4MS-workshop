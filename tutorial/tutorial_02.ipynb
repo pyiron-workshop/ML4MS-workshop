{
 "cells": [
  {
   "cell_type": "markdown",
   "id": "0c652f4c-e904-4013-b3fc-ffd99ad92c7e",
   "metadata": {},
   "source": [
    "# <font style=\"font-family:roboto;color:#455e6c\"> Parametrising a Machine Learning Interatomic Potential </font>  "
   ]
  },
  {
   "cell_type": "markdown",
   "id": "422cf799-b617-4388-8c8c-0c49c7dda42d",
   "metadata": {},
   "source": [
    "<div class=\"admonition note\" name=\"html-admonition\" style=\"background:#e3f2fd; padding: 10px\">\n",
    "<font style=\"font-family:roboto;color:#455e6c\"> Sarath Menon, Jörg Neugebauer </font> </br>\n",
    "<font style=\"font-family:roboto;color:#455e6c\"> Max Planck Institute for Sustainable Materials, Dusseldorf, Germany </font> </br>\n",
    "<font style=\"font-family:roboto;color:#455e6c\"> <b> Machine Learning Modalities for Materials Science Workshop, Jožef Stefan Institute, Ljubljana </b> </font> </br>\n",
    "<font style=\"font-family:roboto;color:#455e6c\"> 14 May 2024 </font>\n",
    "</div>"
   ]
  },
  {
   "cell_type": "markdown",
   "id": "3147336c-fc88-44f5-9048-1d6dec8f0c5b",
   "metadata": {},
   "source": [
    "In this notebook we will show the strategies for the generation of a DFT data set for fitting of a machine learning interatomic potential. We will then fit an [Atomic Cluster Expansion](https://doi.org/10.1103/PhysRevB.99.014104) interatomic potential using the [pacemaker](https://www.nature.com/articles/s41524-021-00559-9) software."
   ]
  },
  {
   "cell_type": "code",
   "execution_count": null,
   "id": "5223f190-d069-441b-a551-36329e6c0482",
   "metadata": {},
   "outputs": [],
   "source": [
    "%config IPCompleter.evaluation='unsafe'"
   ]
  },
  {
   "cell_type": "code",
   "execution_count": null,
   "id": "e490be6b-2ec1-4330-8187-5c261106d802",
   "metadata": {},
   "outputs": [],
   "source": [
    "from pyiron import Project\n",
    "import numpy as np\n",
    "import matplotlib.pyplot as plt"
   ]
  },
  {
   "cell_type": "markdown",
   "id": "bb98d6de-7634-43f3-80d2-43ae65fe9676",
   "metadata": {},
   "source": [
    "We start by creating a project"
   ]
  },
  {
   "cell_type": "code",
   "execution_count": null,
   "id": "363c282e-4902-43b1-b2e0-1ce8a69445e1",
   "metadata": {},
   "outputs": [],
   "source": [
    "pr = Project('dataset_generation')"
   ]
  },
  {
   "cell_type": "markdown",
   "id": "a92cc7ec-ede6-4697-adcd-66aae30f7450",
   "metadata": {},
   "source": [
    "In this notebook, we will use aluminium as an example, similar to the last notebook. Data sets for fitting ML potentials should contain local and global minima\n",
    "of the potential energy surface, such as relaxed stable and metastable\n",
    "bulk structures. There are many strategies that can be employed to generate datasets, we will look at some of them here."
   ]
  },
  {
   "cell_type": "markdown",
   "id": "a731a8a8-d860-434d-9226-5d1c6fd25468",
   "metadata": {},
   "source": [
    "## <font style=\"font-family:roboto;color:#455e6c\"> Generating bulk structures </font> "
   ]
  },
  {
   "cell_type": "markdown",
   "id": "4f8685e9-8825-4078-b4e0-a46d6285b890",
   "metadata": {},
   "source": [
    "One of the strategies employed is to generate bulk structure of Al which is then fully relaxed, and stored for ML fitting. Here, we will show the example of fcc Al."
   ]
  },
  {
   "cell_type": "code",
   "execution_count": null,
   "id": "eddda442-90d0-4620-a8ce-491ede1419e8",
   "metadata": {},
   "outputs": [],
   "source": [
    "Al = pr.create.structure.bulk('Al', cubic=True)"
   ]
  },
  {
   "cell_type": "markdown",
   "id": "a5e11279-895c-48cc-a68e-38256599b2c6",
   "metadata": {},
   "source": [
    "For more details on generating and manipulating structures, please have a look at our [structures example](https://pyiron.readthedocs.io/en/latest/source/notebooks/structures.html). In this section however, we show how to generate and manipulate bulk crystals, surfaces, etc. pyiron's structure class is derived from the popular [`ase` package](https://wiki.fysik.dtu.dk/ase/ase/build/build.html) and any `ase` function to manipulate structures can also be applied here."
   ]
  },
  {
   "cell_type": "markdown",
   "id": "1f41f946-3f05-405c-b85b-80421038dc85",
   "metadata": {},
   "source": [
    "Now we have to relax this structure. Ideally, high convergence DFT calculations are needed, eg with VASP or QuantumEspresso. Here we will simply use LAMMPS with an emperical potential to demonstrate the calculations."
   ]
  },
  {
   "cell_type": "code",
   "execution_count": null,
   "id": "4742b5fb-5136-4aad-b850-b58a369aade7",
   "metadata": {},
   "outputs": [],
   "source": [
    "job = pr.create.job.Lammps('Al_bulk', delete_aborted_job=True)\n",
    "job.structure = Al"
   ]
  },
  {
   "cell_type": "code",
   "execution_count": null,
   "id": "e243dab6-2514-4c85-b548-1b8223b1f344",
   "metadata": {},
   "outputs": [],
   "source": [
    "job.potential = \"2005--Mendelev-M-I--Al-Fe--LAMMPS--ipr1\""
   ]
  },
  {
   "cell_type": "markdown",
   "id": "8d87da19-cdfc-412e-832f-b1105423c0f6",
   "metadata": {},
   "source": [
    "Now relax the structure"
   ]
  },
  {
   "cell_type": "code",
   "execution_count": null,
   "id": "4c59f884-846e-4392-8870-2b6e7c7540c9",
   "metadata": {},
   "outputs": [],
   "source": [
    "job.calc_minimize(pressure=0)"
   ]
  },
  {
   "cell_type": "markdown",
   "id": "4a189894-a846-48e6-bfca-fc6d8bd11f80",
   "metadata": {},
   "source": [
    "And run the job"
   ]
  },
  {
   "cell_type": "code",
   "execution_count": null,
   "id": "986dd3ad-cae2-45c3-b4ec-4ab052787094",
   "metadata": {},
   "outputs": [],
   "source": [
    "job.run()"
   ]
  },
  {
   "cell_type": "markdown",
   "id": "f209bae7-2f2c-45e7-80b5-a133f1f4a417",
   "metadata": {},
   "source": [
    "Another step done to collect structures for fitting is to run a EV curve . We can use the Murnaghan job from pyiron for this. First we set up a LAMMPS job again."
   ]
  },
  {
   "cell_type": "code",
   "execution_count": null,
   "id": "a7226f7e-9d02-4dc8-993e-6a74616568f7",
   "metadata": {},
   "outputs": [],
   "source": [
    "job = pr.create.job.Lammps('Al_bulk', delete_existing_job=True, delete_aborted_job=True)\n",
    "job.structure = Al\n",
    "job.potential = \"2005--Mendelev-M-I--Al-Fe--LAMMPS--ipr1\"\n",
    "job.calc_minimize()"
   ]
  },
  {
   "cell_type": "markdown",
   "id": "abc44cd4-8a7c-49d8-93cc-92bd8169df29",
   "metadata": {},
   "source": [
    "Now we can create a Murnaghan Job"
   ]
  },
  {
   "cell_type": "code",
   "execution_count": null,
   "id": "bb70f981-bff6-43e1-a789-fe52a2d89574",
   "metadata": {},
   "outputs": [],
   "source": [
    "murn = job.create_job(pr.job_type.Murnaghan, 'murnaghan')"
   ]
  },
  {
   "cell_type": "markdown",
   "id": "eef38367-2b7d-484f-ab87-b6d062f6f33f",
   "metadata": {},
   "source": [
    "We can check the possible input options:"
   ]
  },
  {
   "cell_type": "code",
   "execution_count": null,
   "id": "237b0a8f-6d81-4b78-b07e-8330060851c8",
   "metadata": {},
   "outputs": [],
   "source": [
    "murn.input"
   ]
  },
  {
   "cell_type": "markdown",
   "id": "42ec1317-7f21-484e-9ed8-3eacbf098c5c",
   "metadata": {},
   "source": [
    "And run the job:"
   ]
  },
  {
   "cell_type": "code",
   "execution_count": null,
   "id": "bcba3eed-99dd-4965-bf1c-2a28377036ea",
   "metadata": {},
   "outputs": [],
   "source": [
    "murn.run()"
   ]
  },
  {
   "cell_type": "markdown",
   "id": "2fc541be-d139-4830-be6d-eff5e79c74cf",
   "metadata": {},
   "source": [
    "You can directly visualize the results of the murn job:"
   ]
  },
  {
   "cell_type": "code",
   "execution_count": null,
   "id": "6b1b0671-3113-4212-9b41-b31e5d89d01a",
   "metadata": {
    "scrolled": true
   },
   "outputs": [],
   "source": [
    "murn.plot();"
   ]
  },
  {
   "cell_type": "markdown",
   "id": "ef389bf5-9005-4d14-94c5-75e82da214c8",
   "metadata": {},
   "source": [
    "And take a look at the output"
   ]
  },
  {
   "cell_type": "code",
   "execution_count": null,
   "id": "d1df9e6b-e47f-41d4-9d82-37448c9aa844",
   "metadata": {},
   "outputs": [],
   "source": [
    "murn['output']"
   ]
  },
  {
   "cell_type": "markdown",
   "id": "2ec9e677-c077-4775-8035-6dbda0423b0a",
   "metadata": {},
   "source": [
    "## <font style=\"font-family:roboto;color:#455e6c\"> Adding strains</font>\n",
    "\n",
    "A usual approach is to start with some prototypical structures and strain and shake them.  We can use the fcc Al we created earlier."
   ]
  },
  {
   "cell_type": "code",
   "execution_count": null,
   "id": "5896762b-08bd-47cd-9c43-9112c1bc73af",
   "metadata": {},
   "outputs": [],
   "source": [
    "strains = np.linspace(-0.05, 0.05, 5)\n",
    "strains"
   ]
  },
  {
   "cell_type": "markdown",
   "id": "94fd5124-9614-4071-bf9c-ccc658fc3078",
   "metadata": {},
   "source": [
    "We will also create a `StructureStorage` which easily save these structures, and run calculations with them later."
   ]
  },
  {
   "cell_type": "code",
   "execution_count": null,
   "id": "ad06ec49-9cb9-4c81-920b-4a55fe7bfc9b",
   "metadata": {},
   "outputs": [],
   "source": [
    "from pyiron_atomistics.atomistics.structure.structurestorage import StructureStorage"
   ]
  },
  {
   "cell_type": "code",
   "execution_count": null,
   "id": "e77b249f-711e-4282-a0fc-5dd10e639aef",
   "metadata": {},
   "outputs": [],
   "source": [
    "store = StructureStorage()"
   ]
  },
  {
   "cell_type": "code",
   "execution_count": null,
   "id": "a24d423f-0889-4e52-9e13-f3a12d52d3ab",
   "metadata": {},
   "outputs": [],
   "source": [
    "for eps in strains:\n",
    "    store.add_structure(\n",
    "        structure=Al.apply_strain(eps, return_box=True),\n",
    "        identifier=f'fcc_{eps}'\n",
    "    )"
   ]
  },
  {
   "cell_type": "markdown",
   "id": "765baf2b-5109-40b9-8736-54fb741b14fd",
   "metadata": {},
   "source": [
    "We can also add random displacements to atom positions using the `rattle` method"
   ]
  },
  {
   "cell_type": "code",
   "execution_count": null,
   "id": "19727bf3-b44d-4952-82d4-9462cb0a4a26",
   "metadata": {},
   "outputs": [],
   "source": [
    "for eps in strains:\n",
    "    structure = Al.apply_strain(eps, return_box=True)\n",
    "    structure.rattle(0.05)\n",
    "    print('Strain', eps, 'Volume', structure.get_volume(per_atom=True))\n",
    "    store.add_structure(\n",
    "        structure=structure,\n",
    "        identifier=f'fcc_{eps}_rattle'\n",
    "    )"
   ]
  },
  {
   "cell_type": "markdown",
   "id": "b17afc34-91a7-411f-9b41-fe8bef24fcb5",
   "metadata": {},
   "source": [
    "## <font style=\"font-family:roboto;color:#455e6c\"> Random crystals</font>"
   ]
  },
  {
   "cell_type": "markdown",
   "id": "6917beb6-ea2d-4c50-9342-414504df5d1b",
   "metadata": {},
   "source": [
    "`pyxtal` is a [program](https://pyxtal.readthedocs.io/en/latest/) to generate random structures of a given space group and stoichiometry.\n",
    "It is useful for crystal structure prediction and also for generating training structures."
   ]
  },
  {
   "cell_type": "code",
   "execution_count": null,
   "id": "2d53f987-72a0-4b05-9de0-7a6e97482a12",
   "metadata": {},
   "outputs": [],
   "source": [
    "import structuretoolkit as stk\n",
    "from pyiron_atomistics import ase_to_pyiron"
   ]
  },
  {
   "cell_type": "markdown",
   "id": "41b2cd19-c653-4861-b0fd-2c65e0ad4be0",
   "metadata": {},
   "source": [
    "`structuretoolkit` is a library for structure manipulation and analysis also developed by the pyiron team.  For compatibility with a wider range of codes it operates purely on ASE `Atoms` objects, so we need to convert structures explicitely here.  In the next release of `pyiron_atomistics` you will be able to call `pr.create.structure.pyxtal` directly for a more convenient wrapper."
   ]
  },
  {
   "cell_type": "markdown",
   "id": "3bb374dc-da85-4f27-a2ef-87b88354b68a",
   "metadata": {},
   "source": [
    "We usually also use random crystals generated by sampling random space groups.  One would use more spacegroups and differently sized unit cells, but we'll keep it simple here.  Details can be found in [this paper](https://journals.aps.org/prb/abstract/10.1103/PhysRevB.107.104103)."
   ]
  },
  {
   "cell_type": "code",
   "execution_count": null,
   "id": "a018850c-99c3-4411-ad9a-bb36aabbd5f2",
   "metadata": {},
   "outputs": [],
   "source": [
    "groups = [1, 194, 225]"
   ]
  },
  {
   "cell_type": "code",
   "execution_count": null,
   "id": "2ee15e2e-684e-4555-ad15-9cba47054eda",
   "metadata": {},
   "outputs": [],
   "source": [
    "for i, structure in enumerate(stk.build.pyxtal(\n",
    "    group=groups,\n",
    "    species=['Al'],\n",
    "    num_ions=[4],\n",
    "    tm='metallic'\n",
    ")):\n",
    "    store.add_structure(\n",
    "        structure=structure['atoms'],\n",
    "        identifier=f'random_{i}'\n",
    "    )"
   ]
  },
  {
   "cell_type": "markdown",
   "id": "063ac9fc-cc42-4ab2-98bf-f67b9b379e01",
   "metadata": {},
   "source": [
    "We can now collected a number of structures in the store."
   ]
  },
  {
   "cell_type": "code",
   "execution_count": null,
   "id": "6942746a-e61f-4c83-8e06-704efd8ecc83",
   "metadata": {
    "scrolled": true
   },
   "outputs": [],
   "source": [
    "store.number_of_structures"
   ]
  },
  {
   "cell_type": "markdown",
   "id": "c332d8f4-6f51-45cb-a1ac-5d86546cfdaa",
   "metadata": {},
   "source": [
    "## <font style=\"font-family:roboto;color:#455e6c\"> Calculating energies and forces</font>"
   ]
  },
  {
   "cell_type": "markdown",
   "id": "43f9699d-3b37-4a5f-bf59-6fe61de5fe57",
   "metadata": {},
   "source": [
    "The next step is to calculate the energies and forces"
   ]
  },
  {
   "cell_type": "code",
   "execution_count": null,
   "id": "0393de05-d697-4141-9dfa-bc96f1f1c914",
   "metadata": {},
   "outputs": [],
   "source": [
    "for i, structure in enumerate(store.iter_structures()):\n",
    "    # pyiron has some opinions of what is a proper \"job name\" for technical reasons, but\n",
    "    # you can always use this function to translate your favorite one into a \"proper\" one\n",
    "    name = pr.create.job_name(store['identifier', i])\n",
    "    job = pr.create.job.Lammps(name)\n",
    "    job.potential = \"2005--Mendelev-M-I--Al-Fe--LAMMPS--ipr1\"\n",
    "    job.structure = structure\n",
    "    job.calc_static()\n",
    "    job.run()"
   ]
  },
  {
   "cell_type": "markdown",
   "id": "5b242e5d-f591-4638-8f90-1e37a1ce1713",
   "metadata": {},
   "source": [
    "Once our reference calculations are finished, we can collect the results in a container for convenience."
   ]
  },
  {
   "cell_type": "code",
   "execution_count": null,
   "id": "50659157-7a7b-4a2b-a5a7-334e872e7ec9",
   "metadata": {},
   "outputs": [],
   "source": [
    "train = pr.create.job.TrainingContainer(\"AlLi\")"
   ]
  },
  {
   "cell_type": "markdown",
   "id": "fb3a8685-dd72-4e91-8248-94234c055724",
   "metadata": {},
   "source": [
    "We include all the jobs we did so far in the TrainingContainer"
   ]
  },
  {
   "cell_type": "code",
   "execution_count": null,
   "id": "69f90f37-163a-405d-9aa9-02682efa7756",
   "metadata": {},
   "outputs": [],
   "source": [
    "for job in pr.iter_jobs(hamilton='Lammps', status='finished'):\n",
    "    for i in range(job.number_of_structures):\n",
    "        train.include_job(job, iteration_step=i)"
   ]
  },
  {
   "cell_type": "markdown",
   "id": "77f6a9c6-50fe-485c-9736-3c0f5bc789f7",
   "metadata": {},
   "source": [
    "\"Running\" the container simply saves it to disk and to our database.  It can also precompute\n",
    "nearest neighbor information."
   ]
  },
  {
   "cell_type": "code",
   "execution_count": null,
   "id": "e4206ae3-e836-4fb7-8742-de62ef31a253",
   "metadata": {},
   "outputs": [],
   "source": [
    "train.run()"
   ]
  },
  {
   "cell_type": "markdown",
   "id": "e8e9075b-8add-4026-8c15-5ff5d04bd55b",
   "metadata": {},
   "source": [
    "Besides keeping everything in one place, the `TrainingContainer` also defines a number of plotting functions."
   ]
  },
  {
   "cell_type": "code",
   "execution_count": null,
   "id": "5d6b72a1-b6fc-44d5-9b3e-f9a07456f9c3",
   "metadata": {},
   "outputs": [],
   "source": [
    "df = train.plot.energy_volume()"
   ]
  },
  {
   "cell_type": "code",
   "execution_count": null,
   "id": "00051d6f-263f-4198-9a1d-ded96fac1fec",
   "metadata": {},
   "outputs": [],
   "source": [
    "train.plot.energy_distance()\n",
    "plt.xlabel(r'Minimum Nearest Neighbor Distance [$\\mathrm{\\AA}$]')\n",
    "plt.ylabel('Energy [eV/atom]');"
   ]
  },
  {
   "cell_type": "markdown",
   "id": "ec53f608-bebe-4d57-87c2-c75ea8edb934",
   "metadata": {},
   "source": [
    "For fitting potentials within pyiron you can use the container as is, but if you have external tools, you can\n",
    "export the data into a table."
   ]
  },
  {
   "cell_type": "code",
   "execution_count": null,
   "id": "93eeb671-5d8f-4f5a-8ef8-28d82039439c",
   "metadata": {
    "scrolled": true
   },
   "outputs": [],
   "source": [
    "train.to_pandas()"
   ]
  },
  {
   "cell_type": "markdown",
   "id": "c0550091-3dca-4737-aba0-90e0c6a67bed",
   "metadata": {},
   "source": [
    "## <font style=\"font-family:roboto;color:#455e6c\"> Fitting an ACE potential </font>"
   ]
  },
  {
   "cell_type": "markdown",
   "id": "8383323f-b77f-4a0f-94fa-f2d57393b5cd",
   "metadata": {},
   "source": [
    "Now that we have looked at how we create datasets for fitting, we can actually go ahead and fit an ACE potential. Note that we used an empirical potential instead of DFT before. For the fitting, we provide a very small [Al dataset](https://arxiv.org/abs/2403.05724) that can be used. This dataset is in the form of a packed pyiron project. We start by extracting it first. "
   ]
  },
  {
   "cell_type": "code",
   "execution_count": null,
   "id": "3820621d-2421-42e3-b947-1d96818c5f47",
   "metadata": {},
   "outputs": [],
   "source": [
    "pr = Project('fitting')"
   ]
  },
  {
   "cell_type": "markdown",
   "id": "638249e1-6277-4109-8f18-d7b047f2a353",
   "metadata": {},
   "source": [
    "We will extract the 'dataset.tar.gz' file into this project"
   ]
  },
  {
   "cell_type": "code",
   "execution_count": null,
   "id": "547186dd-1b9b-4171-a108-f9128b1a9f90",
   "metadata": {},
   "outputs": [],
   "source": [
    "pr.unpack('dataset')"
   ]
  },
  {
   "cell_type": "markdown",
   "id": "01806f7f-03fe-4873-a867-632848646cc0",
   "metadata": {},
   "source": [
    "Now we create a job for fitting"
   ]
  },
  {
   "cell_type": "code",
   "execution_count": null,
   "id": "80df7c78-9c67-4434-824e-a4b45771a87c",
   "metadata": {},
   "outputs": [],
   "source": [
    "job = pr.create.job.PacemakerJob(\"pacemaker_job\")"
   ]
  },
  {
   "cell_type": "markdown",
   "id": "9ce6ecc6-3dae-45fa-b75e-e3cb11757b71",
   "metadata": {},
   "source": [
    "Now we add the training set we created above to this fitting job"
   ]
  },
  {
   "cell_type": "code",
   "execution_count": null,
   "id": "b598efe6-de7b-4e3d-a480-e7c17ea0da18",
   "metadata": {},
   "outputs": [],
   "source": [
    "training_data = pr.load('Al_dataset')"
   ]
  },
  {
   "cell_type": "code",
   "execution_count": null,
   "id": "08c9669e-e268-4d2b-979c-6b28f3cd828f",
   "metadata": {},
   "outputs": [],
   "source": [
    "job.add_training_data(training_data)"
   ]
  },
  {
   "cell_type": "markdown",
   "id": "a76fe03e-9a43-473f-a720-0e2d60f2ebf5",
   "metadata": {},
   "source": [
    "We can now take a look at the different potential settings"
   ]
  },
  {
   "cell_type": "code",
   "execution_count": null,
   "id": "477d4d25-7a21-48c4-9962-a6058d151400",
   "metadata": {},
   "outputs": [],
   "source": [
    "job.input"
   ]
  },
  {
   "cell_type": "markdown",
   "id": "4fec37b9-74a6-4478-bae4-256390dcb47b",
   "metadata": {},
   "source": [
    "The job starts with a robust set of default input parameters. Any input quantity can of course be reset. For example, an important setting is the cutoff distance. We change it to 6.0"
   ]
  },
  {
   "cell_type": "code",
   "execution_count": null,
   "id": "b0e8b54c-2220-4d00-b907-c561ac3c94e1",
   "metadata": {},
   "outputs": [],
   "source": [
    "job.cutoff=6.0"
   ]
  },
  {
   "cell_type": "markdown",
   "id": "51e27188-226a-4cff-8893-0daacafcc16d",
   "metadata": {},
   "source": [
    "In general a (P)ACE potential specification consists of three parts:"
   ]
  },
  {
   "cell_type": "markdown",
   "id": "32b11170-4ca0-46fa-86cc-94a851c05542",
   "metadata": {},
   "source": [
    "#### 1. Embeddings\n",
    " i.e. how atomic energy $E_i$ depends on ACE properties/densities $\\varphi$. Linear expansion $E_i = \\varphi$ is the trivial. Non-linear expansion, i.e. those, containing square root, gives more flexiblity and accuracy of final potential"
   ]
  },
  {
   "cell_type": "markdown",
   "id": "0d97dd55-ffae-4829-81fc-3b5caac31d12",
   "metadata": {},
   "source": [
    "Embeddings for `ALL` species: \n",
    "- non-linear `FinnisSinclairShiftedScaled`\n",
    "- 2 densities\n",
    "- fs_parameters': [1, 1, 1, 0.5]:\n",
    "$$E_i = 1.0 * \\varphi(1)^1 + 1.0 * \\varphi(2)^{0.5} = \\varphi^{(1)} + \\sqrt{\\varphi^{(2)}} $$"
   ]
  },
  {
   "cell_type": "code",
   "execution_count": null,
   "id": "9b736448-f8e6-4e67-96fd-7efbeb430269",
   "metadata": {},
   "outputs": [],
   "source": [
    "job.input[\"potential\"][\"embeddings\"]"
   ]
  },
  {
   "cell_type": "markdown",
   "id": "10077509-b851-486e-a66e-93240df56e3c",
   "metadata": {},
   "source": [
    "#### 2. Radial functions"
   ]
  },
  {
   "cell_type": "markdown",
   "id": "8ce86f6e-388f-4590-bbb5-5cce7cbc7c3b",
   "metadata": {},
   "source": [
    "Radial functions are orthogonal polynoms example:\n",
    "* (a) Exponentially-scaled Chebyshev polynomials (λ = 5.25)\n",
    "* (b) Power-law scaled Chebyshev polynomials (λ = 2.0)\n",
    "* (c) Simplified spherical Bessel functions"
   ]
  },
  {
   "cell_type": "markdown",
   "id": "ff3b19c2-0dca-490c-babe-3f5eb529b2ed",
   "metadata": {},
   "source": [
    "<img src=\"img/radial-functions-low.png\" width=\"300\">"
   ]
  },
  {
   "cell_type": "markdown",
   "id": "9a5a66ca-744a-44f5-8468-8480ec789ccb",
   "metadata": {},
   "source": [
    "Radial functions specification for `ALL` species pairs (i.e. Al-Al, Al-Li, Li-Al, Li-Li):\n",
    "\n",
    "* based on the Simplified Bessel\n",
    "* cutoff $r_c=6.0$"
   ]
  },
  {
   "cell_type": "code",
   "execution_count": null,
   "id": "bb133a34-c096-4f85-bdbf-8604ca166770",
   "metadata": {},
   "outputs": [],
   "source": [
    "job.input[\"potential\"][\"bonds\"]"
   ]
  },
  {
   "cell_type": "markdown",
   "id": "f7951d65-e3d3-46d0-b3d3-e669c5152118",
   "metadata": {},
   "source": [
    "#### 3. B-basis functions"
   ]
  },
  {
   "cell_type": "markdown",
   "id": "90d234f5-aa13-4cb6-804d-36c5832c30a1",
   "metadata": {},
   "source": [
    "B-basis functions  for `ALL` species type interactions, i.e. Al-Al block:\n",
    "* maximum order = 4, i.e. body-order 5 (1 central atom + 4 neighbour  densities)\n",
    "* nradmax_by_orders: 15, 3, 2, 1\n",
    "* lmax_by_orders: 0, 3, 2, 1"
   ]
  },
  {
   "cell_type": "code",
   "execution_count": null,
   "id": "9dd56393-5a2f-4d42-9294-dc6445fdbabc",
   "metadata": {},
   "outputs": [],
   "source": [
    "job.input[\"potential\"][\"functions\"]"
   ]
  },
  {
   "cell_type": "markdown",
   "id": "1b54cf4b-38fc-4305-aa1f-be55962ef93a",
   "metadata": {},
   "source": [
    "We will reduce the basis size for demonstartion purposes"
   ]
  },
  {
   "cell_type": "code",
   "execution_count": null,
   "id": "dc31589f-a662-432c-b178-db9eda12a6d0",
   "metadata": {},
   "outputs": [],
   "source": [
    "job.input[\"potential\"][\"functions\"][\"ALL\"][\"nradmax_by_orders\"] = [15, 3, 2]\n",
    "job.input[\"potential\"][\"functions\"][\"ALL\"][\"lmax_by_orders\"] = [0, 2, 1]"
   ]
  },
  {
   "cell_type": "markdown",
   "id": "4a82e026-eee1-4963-a636-5450847a7b01",
   "metadata": {},
   "source": [
    "Loss function specification"
   ]
  },
  {
   "cell_type": "markdown",
   "id": "c0dc8464-66e9-4f8d-9c60-810d725f4d03",
   "metadata": {},
   "source": [
    "<img src=\"img/loss-func.png\" width=\"300\">"
   ]
  },
  {
   "cell_type": "markdown",
   "id": "962a057d-86ca-4bd8-b148-774213641c3f",
   "metadata": {},
   "source": [
    "<img src=\"img/loss-reg.png\" width=\"300\">"
   ]
  },
  {
   "cell_type": "code",
   "execution_count": null,
   "id": "85d7a327-4b90-4800-b2de-d65730691e1b",
   "metadata": {},
   "outputs": [],
   "source": [
    "job.input[\"fit\"][\"loss\"]"
   ]
  },
  {
   "cell_type": "markdown",
   "id": "e96209c5-afdc-4fc7-b75e-cd2ae9baa116",
   "metadata": {},
   "source": [
    "#### Weighting"
   ]
  },
  {
   "cell_type": "markdown",
   "id": "172523ca-4341-41d9-802f-878c7ff366a4",
   "metadata": {},
   "source": [
    "Energy-based weighting puts more \"accent\" onto the low energy-lying structures, close to convex hull"
   ]
  },
  {
   "cell_type": "code",
   "execution_count": null,
   "id": "86fb0bca-e743-4e5d-876a-9f83bf44d72e",
   "metadata": {},
   "outputs": [],
   "source": [
    "job.input[\"fit\"]['weighting'] =  {\n",
    "        ## weights for the structures energies/forces are associated according to the distance to E_min:\n",
    "        ## convex hull ( energy: convex_hull) or minimal energy per atom (energy: cohesive)\n",
    "        \"type\": \"EnergyBasedWeightingPolicy\",\n",
    "        ## number of structures to randomly select from the initial dataset\n",
    "        \"nfit\": 10000,         \n",
    "        ## only the structures with energy up to E_min + DEup will be selected\n",
    "        \"DEup\": 10.0,  ## eV, upper energy range (E_min + DElow, E_min + DEup)        \n",
    "        ## only the structures with maximal force on atom  up to DFup will be selected\n",
    "        \"DFup\": 50.0, ## eV/A\n",
    "        ## lower energy range (E_min, E_min + DElow)\n",
    "        \"DElow\": 1.0,  ## eV\n",
    "        ## delta_E  shift for weights, see paper\n",
    "        \"DE\": 1.0,\n",
    "        ## delta_F  shift for weights, see paper\n",
    "        \"DF\": 1.0,\n",
    "        ## 0<wlow<1 or None: if provided, the renormalization weights of the structures on lower energy range (see DElow)\n",
    "        \"wlow\": 0.95,        \n",
    "        ##  \"convex_hull\" or \"cohesive\" : method to compute the E_min\n",
    "        \"energy\": \"convex_hull\",        \n",
    "        ## structures types: all (default), bulk or cluster\n",
    "        \"reftype\": \"all\",        \n",
    "        ## random number seed\n",
    "        \"seed\": 42 \n",
    "}"
   ]
  },
  {
   "cell_type": "markdown",
   "id": "8d1458d3-129c-4187-b5f9-f5c24af9045b",
   "metadata": {},
   "source": [
    "Maximum number of iterations by optimizer (`SciPy.minimize.BFGS`). Typical values are ~1000-1500, but we chose small value for demonstration purposes only"
   ]
  },
  {
   "cell_type": "code",
   "execution_count": null,
   "id": "71baab83-b0e6-4f3a-ae37-7e52efe825e8",
   "metadata": {},
   "outputs": [],
   "source": [
    "job.input[\"fit\"][\"maxiter\"]=100"
   ]
  },
  {
   "cell_type": "markdown",
   "id": "c5098f5f-497b-4f55-934e-63aae029b937",
   "metadata": {},
   "source": [
    "For more details about these and other settings please refer to [official documentation](https://pacemaker.readthedocs.io/en/latest/pacemaker/inputfile/)"
   ]
  },
  {
   "cell_type": "markdown",
   "id": "069d7c58-5831-400b-9ab8-4a2e4dc4356b",
   "metadata": {},
   "source": [
    "Now we can run the fit"
   ]
  },
  {
   "cell_type": "code",
   "execution_count": null,
   "id": "b70511f7-3882-4999-91e3-0d2ddae33c8d",
   "metadata": {
    "scrolled": true
   },
   "outputs": [],
   "source": [
    "job.run()"
   ]
  },
  {
   "cell_type": "markdown",
   "id": "8452c315-cb29-4d82-a578-87d1a7bd8a51",
   "metadata": {},
   "source": [
    "Take a look at the fitting results:"
   ]
  },
  {
   "cell_type": "code",
   "execution_count": null,
   "id": "bbfd6668-157e-41d2-9e55-045c4175d14b",
   "metadata": {},
   "outputs": [],
   "source": [
    "plt.plot(job[\"output/log/loss\"])\n",
    "plt.xlabel(\"# iter\")\n",
    "plt.ylabel(\"Loss\")\n",
    "plt.loglog();"
   ]
  },
  {
   "cell_type": "markdown",
   "id": "206b4931-94a3-47e6-b672-3cad412d4282",
   "metadata": {},
   "source": [
    "plot RMSE values of energy per atom:"
   ]
  },
  {
   "cell_type": "code",
   "execution_count": null,
   "id": "104c200c-efb6-42cf-b526-45d80220525e",
   "metadata": {},
   "outputs": [],
   "source": [
    "plt.plot(job[\"output/log/rmse_epa\"])\n",
    "plt.xlabel(\"# iter\")\n",
    "plt.ylabel(\"RMSE E, eV/atom\")\n",
    "plt.loglog();"
   ]
  },
  {
   "cell_type": "markdown",
   "id": "859a6b75-7d96-4427-9150-b3493852fb6c",
   "metadata": {},
   "source": [
    "As we see, the really small potential we fit, has already reached meV accuracy!"
   ]
  },
  {
   "cell_type": "markdown",
   "id": "93472bbc-1fc5-415f-bb15-6ae0bba7b1ae",
   "metadata": {},
   "source": [
    "plot force component RMSE:"
   ]
  },
  {
   "cell_type": "code",
   "execution_count": null,
   "id": "97ca17a0-2efb-421a-bd52-384e542994cc",
   "metadata": {},
   "outputs": [],
   "source": [
    "plt.plot(job[\"output/log/rmse_f_comp\"])\n",
    "plt.xlabel(\"# iter\")\n",
    "plt.ylabel(\"RMSE F_i, eV/A\")\n",
    "plt.loglog();"
   ]
  },
  {
   "cell_type": "markdown",
   "id": "e8f51d3f-e894-4629-bc53-2453268ac26e",
   "metadata": {},
   "source": [
    "load DataFrame with predictions of energy"
   ]
  },
  {
   "cell_type": "code",
   "execution_count": null,
   "id": "db84818f-9f8b-42a6-8cbd-6d302848f1f5",
   "metadata": {},
   "outputs": [],
   "source": [
    "ref_df = job.training_data"
   ]
  },
  {
   "cell_type": "code",
   "execution_count": null,
   "id": "e04ce5d9-b05b-4ee7-8deb-7bbd105ef69a",
   "metadata": {},
   "outputs": [],
   "source": [
    "pred_df = job.predicted_data"
   ]
  },
  {
   "cell_type": "code",
   "execution_count": null,
   "id": "43316044-b1f7-441c-8351-4606892230e5",
   "metadata": {},
   "outputs": [],
   "source": [
    "plt.scatter(pred_df[\"energy_per_atom_true\"],pred_df[\"energy_per_atom\"])\n",
    "plt.xlabel(\"Dataset E, eV/atom\")\n",
    "plt.ylabel(\"ACE E, eV/atom\")"
   ]
  },
  {
   "cell_type": "markdown",
   "id": "758748c5-5cc4-4394-8d82-5d8d73ea09cf",
   "metadata": {},
   "source": [
    "and forces"
   ]
  },
  {
   "cell_type": "code",
   "execution_count": null,
   "id": "c9da55eb-4de2-4149-89a5-f3e06cfb23f9",
   "metadata": {},
   "outputs": [],
   "source": [
    "plt.scatter(ref_df[\"forces\"],pred_df[\"forces\"])\n",
    "plt.xlabel(\"Dataset F_i, eV/A\")\n",
    "plt.ylabel(\"ACE F_i, eV/A\")"
   ]
  },
  {
   "cell_type": "markdown",
   "id": "3b23d796-a3a3-4519-b69b-ab332ba9f461",
   "metadata": {},
   "source": [
    "Check more in `job.working_directory`/report folder"
   ]
  },
  {
   "cell_type": "code",
   "execution_count": null,
   "id": "75142478-5118-42b9-acd7-41aca50d1222",
   "metadata": {},
   "outputs": [],
   "source": [
    "! ls {job.working_directory}/report"
   ]
  },
  {
   "cell_type": "markdown",
   "id": "3eadb289-3470-45e6-ac8f-aefb3dd08307",
   "metadata": {},
   "source": [
    "---"
   ]
  },
  {
   "cell_type": "markdown",
   "id": "f29416a3-8550-49e5-a8ce-8d355e96cab2",
   "metadata": {},
   "source": [
    "## <font style=\"font-family:roboto;color:#455e6c\"> Bonus: Scaling structures</font>  \n",
    "\n",
    "Another approach used is scaling the structures. We start by creating a bulk fcc again."
   ]
  },
  {
   "cell_type": "code",
   "execution_count": null,
   "id": "54522956-a9ea-43b8-a9b5-b7389757ecb4",
   "metadata": {},
   "outputs": [],
   "source": [
    "Al = pr.create.structure.bulk('Al', cubic=True, a=4.04)"
   ]
  },
  {
   "cell_type": "markdown",
   "id": "0196c6a5-a1d2-4010-9e2b-b30fbad2cbce",
   "metadata": {},
   "source": [
    "We now scale the structure such that minimum nearest neighbor distance is varied from 2 to 6.5 Å in 0.5 intervals. We will also create a `StructureStorage` which easily save these structures, and run calculations with them later."
   ]
  },
  {
   "cell_type": "code",
   "execution_count": null,
   "id": "8b97166d-3bec-4f9c-b603-294a36b111dd",
   "metadata": {},
   "outputs": [],
   "source": [
    "store = StructureStorage()"
   ]
  },
  {
   "cell_type": "markdown",
   "id": "c834be45-7374-4ff8-84eb-9dbf4a045616",
   "metadata": {},
   "source": [
    "We start by getting the minimum nearest neighbor distance"
   ]
  },
  {
   "cell_type": "code",
   "execution_count": null,
   "id": "f55776d4-def9-4aba-8859-0c1f2ed11afc",
   "metadata": {},
   "outputs": [],
   "source": [
    "distances = Al.get_all_distances(mic=True).flatten()\n",
    "min_distance = np.min(distances[np.nonzero(distances)])\n",
    "min_distance"
   ]
  },
  {
   "cell_type": "markdown",
   "id": "6489a50d-8b92-4a6c-946b-ab52222395c7",
   "metadata": {},
   "source": [
    "The range of distances needed, and convert them to fractions"
   ]
  },
  {
   "cell_type": "code",
   "execution_count": null,
   "id": "76e32f9d-e81b-434c-b964-39c563bbc85f",
   "metadata": {},
   "outputs": [],
   "source": [
    "d_arr = np.arange(2, 7, 0.5)\n",
    "scale = d_arr/np.min(distances[np.nonzero(distances)])"
   ]
  },
  {
   "cell_type": "markdown",
   "id": "ddc1d4fc-8e41-46a7-b9c6-16703da34ce3",
   "metadata": {},
   "source": [
    "Now for each scaling, create a structure and store it"
   ]
  },
  {
   "cell_type": "code",
   "execution_count": null,
   "id": "99b23427-8b89-4534-a11a-c8778ebbeb8f",
   "metadata": {},
   "outputs": [],
   "source": [
    "for s in scale:\n",
    "    struct = Al.copy()\n",
    "    struct.apply_strain(s)\n",
    "    store.add_structure(struct, identifier=f'fcc_nnscale_{s}')"
   ]
  },
  {
   "cell_type": "markdown",
   "id": "0faedb90-e74d-4b46-a92c-53315404c21d",
   "metadata": {},
   "source": [
    "Note that this procedure has to be repeated for other bulk structures of interest."
   ]
  },
  {
   "cell_type": "markdown",
   "id": "04b44b12-3eeb-46d1-a65f-606730a3e4e3",
   "metadata": {},
   "source": [
    "## <font style=\"font-family:roboto;color:#455e6c\"> Bonus: Structures from Materials Project</font>  \n",
    "\n",
    "For binary AlLi structures, we queried them from materials project. This can be done with pyiron. Note that you have to provide a [Materials Project API key](https://next-gen.materialsproject.org/api#api-key) for this functionality."
   ]
  },
  {
   "cell_type": "code",
   "execution_count": null,
   "id": "0b969fd2-5bd3-4f7d-91d4-34ba20ad7685",
   "metadata": {},
   "outputs": [],
   "source": [
    "api_key=''"
   ]
  },
  {
   "cell_type": "markdown",
   "id": "8bb72a0d-d4b5-42ec-affc-d4ff342bf767",
   "metadata": {},
   "source": [
    "We can query structures that lie on the convex hull"
   ]
  },
  {
   "cell_type": "code",
   "execution_count": null,
   "id": "d8dbbaca-e660-4a24-b22b-b3d34a1526b3",
   "metadata": {},
   "outputs": [],
   "source": [
    "structures = pr.create.structure.materialsproject.search(['Al-Li'], is_stable=True, api_key=api_key)"
   ]
  },
  {
   "cell_type": "markdown",
   "id": "25bb6e97-34f1-43f5-a105-7dddce21ae64",
   "metadata": {},
   "source": [
    "We add these structures to the store"
   ]
  },
  {
   "cell_type": "code",
   "execution_count": null,
   "id": "38ae5fcf-6bac-4b83-9df8-e7e5a5317792",
   "metadata": {},
   "outputs": [],
   "source": [
    "for structure in structures:\n",
    "    store.add_structure(structure, identifier=structure.get_chemical_formula())"
   ]
  },
  {
   "cell_type": "markdown",
   "id": "ee68d714-2ee6-4f27-871c-7deb6d135c2c",
   "metadata": {},
   "source": [
    "Note that you can also visualise the structures."
   ]
  },
  {
   "cell_type": "code",
   "execution_count": null,
   "id": "43fbfd0b-cb36-431a-b44e-7763a9bfaa1f",
   "metadata": {},
   "outputs": [],
   "source": [
    "structures.get_structure(frame=3).plot3d()"
   ]
  },
  {
   "cell_type": "markdown",
   "id": "f35756f5-97c5-4a75-b0b9-862af12c9a55",
   "metadata": {},
   "source": [
    "We need to relax these structure, but also perfrom EV curves, and scaling of the nearest neighbor distance as before. This is skipped for now."
   ]
  },
  {
   "cell_type": "markdown",
   "id": "8a2d7ac8-1b67-4fe3-a658-b0635bbcdcb7",
   "metadata": {},
   "source": [
    "## <font style=\"font-family:roboto;color:#455e6c\"> Bonus: How does an actual potential file look like ? </font> "
   ]
  },
  {
   "cell_type": "markdown",
   "id": "280529e1-823e-4def-9a9f-b17727b282b8",
   "metadata": {},
   "source": [
    "`output_potential.yaml`:\n",
    "\n",
    "```yaml\n",
    "species:\n",
    "    # Pure Al interaction block\n",
    "  - speciesblock: Al\n",
    "    radbase: SBessel\n",
    "    radcoefficients: [[[1.995274603767268, -1.1940566258712266,...]]]\n",
    "  \n",
    "    nbody:\n",
    "      # first order/ two-body functions = pair functions\n",
    "      - {type: Al Al, nr: [1], nl: [0], c: [2.0970219095074687, -3.9539202281610351]}\n",
    "      - {type: Al Al, nr: [2], nl: [0], c: [-1.8968648691718397, -2.3146574133175974]}\n",
    "      - {type: Al Al, nr: [3], nl: [0], c: [1.3504952496800906, 1.5291190439028692]}\n",
    "      - {type: Al Al, nr: [4], nl: [0], c: [0.040517989827027742, 0.11933504671036224]}\n",
    "      ...\n",
    "      # second order/ three-body functions \n",
    "      - {type: Al Al Al, nr: [1, 1], nl: [0, 0], c: [0.57788490809100468, -1.8642896163994958]}\n",
    "      - {type: Al Al Al, nr: [1, 1], nl: [1, 1], c: [-1.0126646532267587, -1.2336078784112348]}\n",
    "      - {type: Al Al Al, nr: [1, 1], nl: [2, 2], c: [-0.19324470046809467, 0.63954472122968498]}\n",
    "      - {type: Al Al Al, nr: [1, 1], nl: [3, 3], c: [-0.22018334529075642, 0.32822679746839439]}\n",
    "      ...\n",
    "      # fifth order/ six-body functions \n",
    "      - {type: Al Al Al Al Al Al, nr: [1, 1, 1, 1, 1], nl: [0, 0, 0, 0, 0], lint: [0, 0, 0], c: [-0.71...]}\n",
    "  \n",
    "  \n",
    "  # binary Al-Li interaction block    \n",
    "  - speciesblock: Al Li      \n",
    "     ...\n",
    "     nbody:\n",
    "      - {type: Al Li, nr: [1], nl: [0], c: [0.91843424537280882, -2.4170371138562308]}\n",
    "      - {type: Al Li, nr: [2], nl: [0], c: [-0.88380210517336399, -0.97055273167339651]}\n",
    "      ...\n",
    "      - {type: Al Al Al Li Li, nr: [1, 1, 1, 1], nl: [1, 1, 0, 0], lint: [0, 0], c: [-0.0050,...]}\n",
    "      ...\n",
    "  # Pure Li interaction block      \n",
    "  - speciesblock: Li\n",
    "      nbody:\n",
    "       ...\n",
    "       - {type: Li Li Li, nr: [4, 4], nl: [3, 3], c: [-0.0059111333449957159, 0.035]}\n",
    "       - {type: Li Li Li Li, nr: [1, 1, 1], nl: [0, 0, 0], lint: [0], c: [0.210,...]}\n",
    "       ...\n",
    "  # binary Al-Li interaction block    \n",
    "  - speciesblock: Li Al\n",
    "      nbody:\n",
    "       ...\n",
    "       - {type: Li Al Al, nr: [4, 4], nl: [3, 3], c: [0.014680736321211739, -0.030618474343919122]}\n",
    "       - {type: Li Al Li, nr: [1, 1], nl: [0, 0], c: [-0.22827705573988896, 0.28367909613209036]}\n",
    "       ...\n",
    "  \n",
    "```"
   ]
  },
  {
   "cell_type": "markdown",
   "id": "cbe29f62-9d93-4df3-a9f4-0a30418d4daf",
   "metadata": {},
   "source": [
    "`output_potential.yaml` is in B-basis form. For efficient LAMMPS implementaion it should be converted to so-called `C-tilde` form.  This is already done by `pyiron`, but it could be also done manually by `pace_yaml2yace` utility. Check [here](https://pacemaker.readthedocs.io/en/latest/pacemaker/quickstart/#lammps) for more details"
   ]
  },
  {
   "cell_type": "markdown",
   "id": "34fcc170-85a5-40be-ab79-2bab747f0c69",
   "metadata": {},
   "source": [
    "## <font style=\"font-family:roboto;color:#455e6c\"> Further reading </font> \n",
    "\n",
    "* [Poul, M., Huber, L., Bitzek, E. & Neugebauer, J. Systematic atomic structure datasets for machine learning potentials: Application to defects in magnesium. Phys. Rev. B 107, 104103 (2023)](https://doi.org/10.1103/PhysRevB.107.104103)\n",
    "* [`pacemaker` repository](https://github.com/ICAMS/python-ace) and [documentation](https://pacemaker.readthedocs.io/en/latest/)\n",
    "* [Bochkarev, A., Lysogorskiy, Y., Menon, S., Qamar, M., Mrovec, M. and Drautz, R. Efficient parametrization of the atomic cluster expansion. Physical Review Materials 6(1) 013804 (2022)](https://journals.aps.org/prmaterials/abstract/10.1103/PhysRevMaterials.6.013804)\n",
    "* [Lysogorskiy, Y., Oord, C. v. d., Bochkarev, A., Menon, S., Rinaldi, M., Hammerschmidt, T., Mrovec, M., Thompson, A., Csányi, G., Ortner, C. and  Drautz, R. Performant implementation of the atomic cluster expansion (PACE) and application to copper and silicon. npj Computational Materials 7(1), 1-12 (2021)](https://www.nature.com/articles/s41524-021-00559-9)\n",
    "* [Drautz, R. Atomic cluster expansion for accurate and transferable interatomic potentials. Physical Review B, 99(1), 014104 (2019)](https://journals.aps.org/prb/abstract/10.1103/PhysRevB.99.014104)"
   ]
  },
  {
   "cell_type": "markdown",
   "id": "d823c8b6-831c-43b9-9688-41ee3e7dfe43",
   "metadata": {},
   "source": [
    "## <font style=\"font-family:roboto;color:#455e6c\"> Software used in this notebook </font>  \n",
    "\n",
    "- [pacemaker](https://github.com/ICAMS/python-ace)\n",
    "- [pyiron_atomistics](https://github.com/pyiron/pyiron_atomistics)\n",
    "- [LAMMPS](https://www.lammps.org/)\n",
    "- [pyXtal](https://pyxtal.readthedocs.io/en/latest/)"
   ]
  }
 ],
 "metadata": {
  "kernelspec": {
   "display_name": "Python 3 (ipykernel)",
   "language": "python",
   "name": "python3"
  },
  "language_info": {
   "codemirror_mode": {
    "name": "ipython",
    "version": 3
   },
   "file_extension": ".py",
   "mimetype": "text/x-python",
   "name": "python",
   "nbconvert_exporter": "python",
   "pygments_lexer": "ipython3",
   "version": "3.11.9"
  }
 },
 "nbformat": 4,
 "nbformat_minor": 5
}
