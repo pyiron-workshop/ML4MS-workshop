{
 "cells": [
  {
   "cell_type": "markdown",
   "id": "0c652f4c-e904-4013-b3fc-ffd99ad92c7e",
   "metadata": {},
   "source": [
    "# <font style=\"font-family:roboto;color:#455e6c\"> Parametrising a Machine Learning Interatomic Potential </font>  "
   ]
  },
  {
   "cell_type": "markdown",
   "id": "eb4d6015-1e40-49ab-b832-391c1464fe13",
   "metadata": {},
   "source": [
    "<div class=\"admonition note\" name=\"html-admonition\" style=\"background:#e3f2fd; padding: 10px\">\n",
    "<font style=\"font-family:roboto;color:#455e6c\"> <b> Machine Learning Modalities for Materials Science Workshop, Jožef Stefan Institute, Ljubljana </b> </font> </br>\n",
    "<font style=\"font-family:roboto;color:#455e6c\"> 14 May 2024 </font>\n",
    "</div>"
   ]
  },
  {
   "cell_type": "markdown",
   "id": "3147336c-fc88-44f5-9048-1d6dec8f0c5b",
   "metadata": {},
   "source": [
    "In this notebook, the strategies to generate data set are shown. We will then fit an [Atomic Cluster Expansion](https://doi.org/10.1103/PhysRevB.99.014104) interatomic potential using the [pacemaker](https://www.nature.com/articles/s41524-021-00559-9) software."
   ]
  },
  {
   "cell_type": "code",
   "execution_count": 1,
   "id": "5223f190-d069-441b-a551-36329e6c0482",
   "metadata": {},
   "outputs": [],
   "source": [
    "%config IPCompleter.evaluation='unsafe'"
   ]
  },
  {
   "cell_type": "code",
   "execution_count": 2,
   "id": "e490be6b-2ec1-4330-8187-5c261106d802",
   "metadata": {},
   "outputs": [
    {
     "data": {
      "application/vnd.jupyter.widget-view+json": {
       "model_id": "e321214434524b289bdac70ba9b22ef8",
       "version_major": 2,
       "version_minor": 0
      },
      "text/plain": []
     },
     "metadata": {},
     "output_type": "display_data"
    }
   ],
   "source": [
    "from pyiron import Project\n",
    "import numpy as np\n",
    "import matplotlib.pyplot as plt"
   ]
  },
  {
   "cell_type": "markdown",
   "id": "bb98d6de-7634-43f3-80d2-43ae65fe9676",
   "metadata": {},
   "source": [
    "We start by creating a project"
   ]
  },
  {
   "cell_type": "code",
   "execution_count": 5,
   "id": "363c282e-4902-43b1-b2e0-1ce8a69445e1",
   "metadata": {},
   "outputs": [],
   "source": [
    "pr = Project('dataset_generation')"
   ]
  },
  {
   "cell_type": "markdown",
   "id": "a92cc7ec-ede6-4697-adcd-66aae30f7450",
   "metadata": {},
   "source": [
    "In this notebook, we will use the Aluminium as an example, similar to the last notebook. There are many strategies that can be employed to generate datasets, we will look at some of them here."
   ]
  },
  {
   "cell_type": "markdown",
   "id": "a731a8a8-d860-434d-9226-5d1c6fd25468",
   "metadata": {},
   "source": [
    "## <font style=\"font-family:roboto;color:#455e6c\"> Generating bulk structures </font> "
   ]
  },
  {
   "cell_type": "markdown",
   "id": "4f8685e9-8825-4078-b4e0-a46d6285b890",
   "metadata": {},
   "source": [
    "One of the strategies employed is to generate bulk structure of Al which is then fully relaxed, and stored for ML fitting. Here, we will show the example of fcc Al."
   ]
  },
  {
   "cell_type": "code",
   "execution_count": 6,
   "id": "eddda442-90d0-4620-a8ce-491ede1419e8",
   "metadata": {},
   "outputs": [],
   "source": [
    "Al = pr.create.structure.bulk('Al', cubic=True, a=4.04)"
   ]
  },
  {
   "cell_type": "markdown",
   "id": "a5e11279-895c-48cc-a68e-38256599b2c6",
   "metadata": {},
   "source": [
    "For more details on generating and manipulating structures, please have a look at our [structures example](https://pyiron.readthedocs.io/en/latest/source/notebooks/structures.html). In this section however, we show how to generate and manipulate bulk crystals, surfaces, etc. pyiron's structure class is derived from the popular [`ase` package](https://wiki.fysik.dtu.dk/ase/ase/build/build.html) and any `ase` function to manipulate structures can also be applied here."
   ]
  },
  {
   "cell_type": "markdown",
   "id": "1f41f946-3f05-405c-b85b-80421038dc85",
   "metadata": {},
   "source": [
    "Now we have to relax this structure. Ideally, high convergence DFT calculations are needed, eg with VASP or QuantumEspresso. Here we will simply use LAMMPS with an emperical potential to demonstrate the calculations."
   ]
  },
  {
   "cell_type": "code",
   "execution_count": 7,
   "id": "4742b5fb-5136-4aad-b850-b58a369aade7",
   "metadata": {},
   "outputs": [],
   "source": [
    "job = pr.create.job.Lammps('Al_bulk', delete_aborted_job=True)\n",
    "job.structure = Al"
   ]
  },
  {
   "cell_type": "code",
   "execution_count": 8,
   "id": "e243dab6-2514-4c85-b548-1b8223b1f344",
   "metadata": {},
   "outputs": [],
   "source": [
    "job.potential = \"2005--Mendelev-M-I--Al-Fe--LAMMPS--ipr1\""
   ]
  },
  {
   "cell_type": "markdown",
   "id": "8d87da19-cdfc-412e-832f-b1105423c0f6",
   "metadata": {},
   "source": [
    "Now relax the structure"
   ]
  },
  {
   "cell_type": "code",
   "execution_count": 9,
   "id": "4c59f884-846e-4392-8870-2b6e7c7540c9",
   "metadata": {},
   "outputs": [],
   "source": [
    "job.calc_minimize(pressure=0)"
   ]
  },
  {
   "cell_type": "markdown",
   "id": "4a189894-a846-48e6-bfca-fc6d8bd11f80",
   "metadata": {},
   "source": [
    "And run the job"
   ]
  },
  {
   "cell_type": "code",
   "execution_count": 10,
   "id": "986dd3ad-cae2-45c3-b4ec-4ab052787094",
   "metadata": {},
   "outputs": [
    {
     "name": "stdout",
     "output_type": "stream",
     "text": [
      "The job Al_bulk was saved and received the ID: 381\n"
     ]
    }
   ],
   "source": [
    "job.run()"
   ]
  },
  {
   "cell_type": "markdown",
   "id": "f209bae7-2f2c-45e7-80b5-a133f1f4a417",
   "metadata": {},
   "source": [
    "Another step done to collect structures for fitting is to run a EV curve . We can use the Murnaghan job from pyiron for this. First we set up a LAMMPS job again."
   ]
  },
  {
   "cell_type": "code",
   "execution_count": 11,
   "id": "a7226f7e-9d02-4dc8-993e-6a74616568f7",
   "metadata": {},
   "outputs": [],
   "source": [
    "job = pr.create.job.Lammps('Al_bulk', delete_existing_job=True, delete_aborted_job=True)\n",
    "job.structure = Al\n",
    "job.potential = \"2005--Mendelev-M-I--Al-Fe--LAMMPS--ipr1\"\n",
    "job.calc_minimize()"
   ]
  },
  {
   "cell_type": "markdown",
   "id": "abc44cd4-8a7c-49d8-93cc-92bd8169df29",
   "metadata": {},
   "source": [
    "Now we can create a Murnaghan Job"
   ]
  },
  {
   "cell_type": "code",
   "execution_count": 12,
   "id": "bb70f981-bff6-43e1-a789-fe52a2d89574",
   "metadata": {},
   "outputs": [],
   "source": [
    "murn = job.create_job(pr.job_type.Murnaghan, 'murnaghan')"
   ]
  },
  {
   "cell_type": "markdown",
   "id": "eef38367-2b7d-484f-ab87-b6d062f6f33f",
   "metadata": {},
   "source": [
    "We can check the possible input options"
   ]
  },
  {
   "cell_type": "code",
   "execution_count": 13,
   "id": "237b0a8f-6d81-4b78-b07e-8330060851c8",
   "metadata": {},
   "outputs": [
    {
     "data": {
      "text/html": [
       "<div>\n",
       "<style scoped>\n",
       "    .dataframe tbody tr th:only-of-type {\n",
       "        vertical-align: middle;\n",
       "    }\n",
       "\n",
       "    .dataframe tbody tr th {\n",
       "        vertical-align: top;\n",
       "    }\n",
       "\n",
       "    .dataframe thead th {\n",
       "        text-align: right;\n",
       "    }\n",
       "</style>\n",
       "<table border=\"1\" class=\"dataframe\">\n",
       "  <thead>\n",
       "    <tr style=\"text-align: right;\">\n",
       "      <th></th>\n",
       "      <th>Parameter</th>\n",
       "      <th>Value</th>\n",
       "      <th>Comment</th>\n",
       "    </tr>\n",
       "  </thead>\n",
       "  <tbody>\n",
       "    <tr>\n",
       "      <th>0</th>\n",
       "      <td>num_points</td>\n",
       "      <td>11</td>\n",
       "      <td>number of sample points</td>\n",
       "    </tr>\n",
       "    <tr>\n",
       "      <th>1</th>\n",
       "      <td>fit_type</td>\n",
       "      <td>polynomial</td>\n",
       "      <td>['polynomial', 'birch', 'birchmurnaghan', 'mur...</td>\n",
       "    </tr>\n",
       "    <tr>\n",
       "      <th>2</th>\n",
       "      <td>fit_order</td>\n",
       "      <td>3</td>\n",
       "      <td>order of the fit polynom</td>\n",
       "    </tr>\n",
       "    <tr>\n",
       "      <th>3</th>\n",
       "      <td>vol_range</td>\n",
       "      <td>0.1</td>\n",
       "      <td>relative volume variation around volume define...</td>\n",
       "    </tr>\n",
       "    <tr>\n",
       "      <th>4</th>\n",
       "      <td>axes</td>\n",
       "      <td>(x, y, z)</td>\n",
       "      <td>Axes along which the strain will be applied</td>\n",
       "    </tr>\n",
       "    <tr>\n",
       "      <th>5</th>\n",
       "      <td>strains</td>\n",
       "      <td>None</td>\n",
       "      <td>List of strains that should be calculated.  If...</td>\n",
       "    </tr>\n",
       "    <tr>\n",
       "      <th>6</th>\n",
       "      <td>allow_aborted</td>\n",
       "      <td>0</td>\n",
       "      <td>The number of child jobs that are allowed to a...</td>\n",
       "    </tr>\n",
       "  </tbody>\n",
       "</table>\n",
       "</div>"
      ],
      "text/plain": [
       "       Parameter       Value  \\\n",
       "0     num_points          11   \n",
       "1       fit_type  polynomial   \n",
       "2      fit_order           3   \n",
       "3      vol_range         0.1   \n",
       "4           axes   (x, y, z)   \n",
       "5        strains        None   \n",
       "6  allow_aborted           0   \n",
       "\n",
       "                                             Comment  \n",
       "0                            number of sample points  \n",
       "1  ['polynomial', 'birch', 'birchmurnaghan', 'mur...  \n",
       "2                           order of the fit polynom  \n",
       "3  relative volume variation around volume define...  \n",
       "4        Axes along which the strain will be applied  \n",
       "5  List of strains that should be calculated.  If...  \n",
       "6  The number of child jobs that are allowed to a...  "
      ]
     },
     "execution_count": 13,
     "metadata": {},
     "output_type": "execute_result"
    }
   ],
   "source": [
    "murn.input"
   ]
  },
  {
   "cell_type": "markdown",
   "id": "42ec1317-7f21-484e-9ed8-3eacbf098c5c",
   "metadata": {},
   "source": [
    "And run the job"
   ]
  },
  {
   "cell_type": "code",
   "execution_count": 14,
   "id": "bcba3eed-99dd-4965-bf1c-2a28377036ea",
   "metadata": {},
   "outputs": [
    {
     "name": "stdout",
     "output_type": "stream",
     "text": [
      "The job murnaghan was saved and received the ID: 381\n",
      "The job murnaghan_0_9 was saved and received the ID: 382\n",
      "The job murnaghan_0_92 was saved and received the ID: 383\n",
      "The job murnaghan_0_94 was saved and received the ID: 384\n",
      "The job murnaghan_0_96 was saved and received the ID: 385\n",
      "The job murnaghan_0_98 was saved and received the ID: 386\n",
      "The job murnaghan_1_0 was saved and received the ID: 387\n",
      "The job murnaghan_1_02 was saved and received the ID: 388\n",
      "The job murnaghan_1_04 was saved and received the ID: 389\n",
      "The job murnaghan_1_06 was saved and received the ID: 390\n",
      "The job murnaghan_1_08 was saved and received the ID: 391\n",
      "The job murnaghan_1_1 was saved and received the ID: 392\n"
     ]
    }
   ],
   "source": [
    "murn.run()"
   ]
  },
  {
   "cell_type": "markdown",
   "id": "2fc541be-d139-4830-be6d-eff5e79c74cf",
   "metadata": {},
   "source": [
    "There are easy routines to visualise the results"
   ]
  },
  {
   "cell_type": "code",
   "execution_count": 15,
   "id": "6b1b0671-3113-4212-9b41-b31e5d89d01a",
   "metadata": {
    "scrolled": true
   },
   "outputs": [
    {
     "data": {
      "image/png": "[encoded data removed]",
      "text/plain": [
       "<Figure size 640x480 with 1 Axes>"
      ]
     },
     "metadata": {},
     "output_type": "display_data"
    },
    {
     "data": {
      "text/plain": [
       "<Axes: title={'center': 'Murnaghan: error: 1.7645205968227906e-06'}, xlabel='Volume ($\\\\AA^3$)', ylabel='energy (eV)'>"
      ]
     },
     "execution_count": 15,
     "metadata": {},
     "output_type": "execute_result"
    }
   ],
   "source": [
    "murn.plot()"
   ]
  },
  {
   "cell_type": "markdown",
   "id": "ef389bf5-9005-4d14-94c5-75e82da214c8",
   "metadata": {},
   "source": [
    "And take a look at the output"
   ]
  },
  {
   "cell_type": "code",
   "execution_count": 16,
   "id": "d1df9e6b-e47f-41d4-9d82-37448c9aa844",
   "metadata": {},
   "outputs": [
    {
     "data": {
      "application/json": {
       "energy": "[-13.28009781 -13.36258782 -13.42005858 -13.45641162 -13.47493289\n -13.47842112 -13.46923117 -13.44922866 -13.41966621 -13.38113092\n -13.33400642]",
       "equilibrium_b_prime": "6.20232483912527",
       "equilibrium_bulk_modulus": "85.70548828622802",
       "equilibrium_energy": "-13.480339925142978",
       "equilibrium_volume": "65.6410294204255",
       "error": "[0. 0. 0. 0. 0. 0. 0. 0. 0. 0. 0.]",
       "id": "[382 383 384 385 386 387 388 389 390 391 392]",
       "structure": {
        "TYPE": "<class 'pyiron_atomistics.atomistics.structure.atoms.Atoms'>",
        "cell": {
         "cell": "[[4.04 0.   0.  ]\n [0.   4.04 0.  ]\n [0.   0.   4.04]]",
         "pbc": "[ True  True  True]"
        },
        "dimension": "3",
        "indices": "[0 0 0 0]",
        "info": {},
        "positions": "[[0.   0.   0.  ]\n [0.   2.02 2.02]\n [2.02 0.   2.02]\n [2.02 2.02 0.  ]]",
        "species": "['Al']",
        "units": {
         "length": "A",
         "mass": "u"
        }
       },
       "volume": "[59.3453376  60.66412288 61.98290816 63.30169344 64.62047872 65.939264\n 67.25804928 68.57683456 69.89561984 71.21440512 72.5331904 ]"
      },
      "text/plain": [
       "{'groups': ['structure'], 'nodes': ['energy', 'equilibrium_b_prime', 'equilibrium_bulk_modulus', 'equilibrium_energy', 'equilibrium_volume', 'error', 'id', 'volume']}"
      ]
     },
     "execution_count": 16,
     "metadata": {},
     "output_type": "execute_result"
    }
   ],
   "source": [
    "murn['output']"
   ]
  },
  {
   "cell_type": "markdown",
   "id": "2ec9e677-c077-4775-8035-6dbda0423b0a",
   "metadata": {},
   "source": [
    "## <font style=\"font-family:roboto;color:#455e6c\"> Adding strains</font>\n",
    "\n",
    "A usual approach is to start with some prototypical structures and strain and shake them.  We can use the fcc Al we created earlier."
   ]
  },
  {
   "cell_type": "code",
   "execution_count": 17,
   "id": "5896762b-08bd-47cd-9c43-9112c1bc73af",
   "metadata": {},
   "outputs": [
    {
     "data": {
      "text/plain": [
       "array([-0.05 , -0.025,  0.   ,  0.025,  0.05 ])"
      ]
     },
     "execution_count": 17,
     "metadata": {},
     "output_type": "execute_result"
    }
   ],
   "source": [
    "strains = np.linspace(-0.05, 0.05, 5)\n",
    "strains"
   ]
  },
  {
   "cell_type": "markdown",
   "id": "94fd5124-9614-4071-bf9c-ccc658fc3078",
   "metadata": {},
   "source": [
    "We will also create a `StructureStorage` which easily save these structures, and run calculations with them later."
   ]
  },
  {
   "cell_type": "code",
   "execution_count": 18,
   "id": "ad06ec49-9cb9-4c81-920b-4a55fe7bfc9b",
   "metadata": {},
   "outputs": [],
   "source": [
    "from pyiron_atomistics.atomistics.structure.structurestorage import StructureStorage"
   ]
  },
  {
   "cell_type": "code",
   "execution_count": 19,
   "id": "e77b249f-711e-4282-a0fc-5dd10e639aef",
   "metadata": {},
   "outputs": [],
   "source": [
    "store = StructureStorage()"
   ]
  },
  {
   "cell_type": "code",
   "execution_count": 20,
   "id": "a24d423f-0889-4e52-9e13-f3a12d52d3ab",
   "metadata": {},
   "outputs": [],
   "source": [
    "for eps in strains:\n",
    "    store.add_structure(\n",
    "        structure=Al.apply_strain(eps, return_box=True),\n",
    "        identifier=f'fcc_{eps}'\n",
    "    )"
   ]
  },
  {
   "cell_type": "markdown",
   "id": "765baf2b-5109-40b9-8736-54fb741b14fd",
   "metadata": {},
   "source": [
    "We can also add random displacements to atom positions using the `rattle` method"
   ]
  },
  {
   "cell_type": "code",
   "execution_count": 21,
   "id": "19727bf3-b44d-4952-82d4-9462cb0a4a26",
   "metadata": {},
   "outputs": [
    {
     "name": "stdout",
     "output_type": "stream",
     "text": [
      "Strain -0.05 Volume 14.133669118000002\n",
      "Strain -0.025 Volume 15.279106254750001\n",
      "Strain 0.0 Volume 16.484816\n",
      "Strain 0.02500000000000001 Volume 17.75234380525\n",
      "Strain 0.05 Volume 19.08323512199999\n"
     ]
    }
   ],
   "source": [
    "for eps in strains:\n",
    "    structure = Al.apply_strain(eps, return_box=True)\n",
    "    structure.rattle(0.05)\n",
    "    print('Strain', eps, 'Volume', structure.get_volume(per_atom=True))\n",
    "    store.add_structure(\n",
    "        structure=structure,\n",
    "        identifier=f'fcc_{eps}_rattle'\n",
    "    )"
   ]
  },
  {
   "cell_type": "markdown",
   "id": "b17afc34-91a7-411f-9b41-fe8bef24fcb5",
   "metadata": {},
   "source": [
    "## <font style=\"font-family:roboto;color:#455e6c\"> Random crystals</font>"
   ]
  },
  {
   "cell_type": "markdown",
   "id": "6917beb6-ea2d-4c50-9342-414504df5d1b",
   "metadata": {},
   "source": [
    "`pyxtal` is a [program](https://pyxtal.readthedocs.io/en/latest/) to generate random structures of a given space group and stoichiometry.\n",
    "It is useful for crystal structure prediction and also for generating training structures."
   ]
  },
  {
   "cell_type": "code",
   "execution_count": 22,
   "id": "2d53f987-72a0-4b05-9de0-7a6e97482a12",
   "metadata": {},
   "outputs": [],
   "source": [
    "import structuretoolkit as stk\n",
    "from pyiron_atomistics import ase_to_pyiron"
   ]
  },
  {
   "cell_type": "markdown",
   "id": "41b2cd19-c653-4861-b0fd-2c65e0ad4be0",
   "metadata": {},
   "source": [
    "`structuretoolkit` is a library for structure manipulation and analysis also developed by the pyiron team.  For compatibility with a wider range of codes it operates purely on ASE `Atoms` objects, so we need to convert structures explicitely here.  In the next release of `pyiron_atomistics` you will be able to call `pr.create.structure.pyxtal` directly for a more convenient wrapper."
   ]
  },
  {
   "cell_type": "markdown",
   "id": "3bb374dc-da85-4f27-a2ef-87b88354b68a",
   "metadata": {},
   "source": [
    "We usually also use random crystals generated by sampling random space groups.  One would use more spacegroups and differently sized unit cells, but we'll keep it simple here.  Details can be found in [this paper](https://journals.aps.org/prb/abstract/10.1103/PhysRevB.107.104103)."
   ]
  },
  {
   "cell_type": "code",
   "execution_count": 23,
   "id": "a018850c-99c3-4411-ad9a-bb36aabbd5f2",
   "metadata": {},
   "outputs": [],
   "source": [
    "groups = [1, 194, 225]"
   ]
  },
  {
   "cell_type": "code",
   "execution_count": 24,
   "id": "2ee15e2e-684e-4555-ad15-9cba47054eda",
   "metadata": {},
   "outputs": [
    {
     "data": {
      "application/vnd.jupyter.widget-view+json": {
       "model_id": "4f40eea49f204205a0d4ed6cbf7bcd1d",
       "version_major": 2,
       "version_minor": 0
      },
      "text/plain": [
       "Spacegroups:   0%|          | 0/3 [00:00<?, ?it/s]"
      ]
     },
     "metadata": {},
     "output_type": "display_data"
    }
   ],
   "source": [
    "for i, structure in enumerate(stk.build.pyxtal(\n",
    "    group=groups,\n",
    "    species=['Al'],\n",
    "    num_ions=[4],\n",
    "    tm='metallic'\n",
    ")):\n",
    "    store.add_structure(\n",
    "        structure=structure['atoms'],\n",
    "        identifier=f'random_{i}'\n",
    "    )"
   ]
  },
  {
   "cell_type": "markdown",
   "id": "063ac9fc-cc42-4ab2-98bf-f67b9b379e01",
   "metadata": {},
   "source": [
    "We can now collected a number of structures in the store."
   ]
  },
  {
   "cell_type": "code",
   "execution_count": 25,
   "id": "6942746a-e61f-4c83-8e06-704efd8ecc83",
   "metadata": {
    "scrolled": true
   },
   "outputs": [
    {
     "data": {
      "text/plain": [
       "13"
      ]
     },
     "execution_count": 25,
     "metadata": {},
     "output_type": "execute_result"
    }
   ],
   "source": [
    "store.number_of_structures"
   ]
  },
  {
   "cell_type": "markdown",
   "id": "c332d8f4-6f51-45cb-a1ac-5d86546cfdaa",
   "metadata": {},
   "source": [
    "## <font style=\"font-family:roboto;color:#455e6c\"> Calculating energies and forces</font>"
   ]
  },
  {
   "cell_type": "markdown",
   "id": "43f9699d-3b37-4a5f-bf59-6fe61de5fe57",
   "metadata": {},
   "source": [
    "The next step is to calculate the energies and forces"
   ]
  },
  {
   "cell_type": "code",
   "execution_count": 26,
   "id": "0393de05-d697-4141-9dfa-bc96f1f1c914",
   "metadata": {},
   "outputs": [
    {
     "name": "stdout",
     "output_type": "stream",
     "text": [
      "The job fcc_m0d05 was saved and received the ID: 393\n",
      "The job fcc_m0d025 was saved and received the ID: 394\n",
      "The job fcc_0d0 was saved and received the ID: 395\n",
      "The job fcc_0d02500000000000001 was saved and received the ID: 396\n",
      "The job fcc_0d05 was saved and received the ID: 397\n",
      "The job fcc_m0d05_rattle was saved and received the ID: 398\n",
      "The job fcc_m0d025_rattle was saved and received the ID: 399\n",
      "The job fcc_0d0_rattle was saved and received the ID: 400\n",
      "The job fcc_0d02500000000000001_rattle was saved and received the ID: 401\n",
      "The job fcc_0d05_rattle was saved and received the ID: 402\n",
      "The job random_0 was saved and received the ID: 403\n",
      "The job random_1 was saved and received the ID: 404\n",
      "The job random_2 was saved and received the ID: 405\n"
     ]
    }
   ],
   "source": [
    "for i, structure in enumerate(store.iter_structures()):\n",
    "    # pyiron has some opinions of what is a proper \"job name\" for technical reasons, but\n",
    "    # you can always use this function to translate your favorite one into a \"proper\" one\n",
    "    name = pr.create.job_name(store['identifier', i])\n",
    "    job = pr.create.job.Lammps(name)\n",
    "    job.potential = \"2005--Mendelev-M-I--Al-Fe--LAMMPS--ipr1\"\n",
    "    job.structure = structure\n",
    "    job.calc_static()\n",
    "    job.run()"
   ]
  },
  {
   "cell_type": "markdown",
   "id": "5b242e5d-f591-4638-8f90-1e37a1ce1713",
   "metadata": {},
   "source": [
    "Once our reference calculations are finished, we can collect the results in a container for convenience."
   ]
  },
  {
   "cell_type": "code",
   "execution_count": 27,
   "id": "50659157-7a7b-4a2b-a5a7-334e872e7ec9",
   "metadata": {},
   "outputs": [],
   "source": [
    "train = pr.create.job.TrainingContainer(\"AlLi\")"
   ]
  },
  {
   "cell_type": "markdown",
   "id": "fb3a8685-dd72-4e91-8248-94234c055724",
   "metadata": {},
   "source": [
    "We include all the jobs we did so far in the TrainingContainer"
   ]
  },
  {
   "cell_type": "code",
   "execution_count": 28,
   "id": "69f90f37-163a-405d-9aa9-02682efa7756",
   "metadata": {},
   "outputs": [
    {
     "data": {
      "application/vnd.jupyter.widget-view+json": {
       "model_id": "bb544e2de27042a7988840c74cb096ae",
       "version_major": 2,
       "version_minor": 0
      },
      "text/plain": [
       "  0%|          | 0/24 [00:00<?, ?it/s]"
      ]
     },
     "metadata": {},
     "output_type": "display_data"
    }
   ],
   "source": [
    "for job in pr.iter_jobs(hamilton='Lammps', status='finished'):\n",
    "    for i in range(job.number_of_structures):\n",
    "        train.include_job(job, iteration_step=i)"
   ]
  },
  {
   "cell_type": "markdown",
   "id": "77f6a9c6-50fe-485c-9736-3c0f5bc789f7",
   "metadata": {},
   "source": [
    "\"Running\" the container simply saves it to disk and to our database.  It can also precompute\n",
    "nearest neighbor information."
   ]
  },
  {
   "cell_type": "code",
   "execution_count": 29,
   "id": "e4206ae3-e836-4fb7-8742-de62ef31a253",
   "metadata": {},
   "outputs": [
    {
     "name": "stdout",
     "output_type": "stream",
     "text": [
      "The job AlLi was saved and received the ID: 406\n"
     ]
    }
   ],
   "source": [
    "train.run()"
   ]
  },
  {
   "cell_type": "markdown",
   "id": "e8e9075b-8add-4026-8c15-5ff5d04bd55b",
   "metadata": {},
   "source": [
    "Besides keeping everything in one place, the `TrainingContainer` also defines a number of plotting functions."
   ]
  },
  {
   "cell_type": "code",
   "execution_count": 30,
   "id": "5d6b72a1-b6fc-44d5-9b3e-f9a07456f9c3",
   "metadata": {},
   "outputs": [
    {
     "data": {
      "image/png": "[encoded data removed]",
      "text/plain": [
       "<Figure size 640x480 with 1 Axes>"
      ]
     },
     "metadata": {},
     "output_type": "display_data"
    }
   ],
   "source": [
    "df = train.plot.energy_volume()"
   ]
  },
  {
   "cell_type": "code",
   "execution_count": 31,
   "id": "00051d6f-263f-4198-9a1d-ded96fac1fec",
   "metadata": {},
   "outputs": [
    {
     "data": {
      "text/plain": [
       "Text(0, 0.5, 'Energy [eV/atom]')"
      ]
     },
     "execution_count": 31,
     "metadata": {},
     "output_type": "execute_result"
    },
    {
     "data": {
      "image/png": "[encoded data removed]",
      "text/plain": [
       "<Figure size 640x480 with 1 Axes>"
      ]
     },
     "metadata": {},
     "output_type": "display_data"
    }
   ],
   "source": [
    "train.plot.energy_distance()\n",
    "plt.xlabel(r'Minimum Nearest Neighbor Distance [$\\mathrm{\\AA}$]')\n",
    "plt.ylabel('Energy [eV/atom]')"
   ]
  },
  {
   "cell_type": "markdown",
   "id": "ec53f608-bebe-4d57-87c2-c75ea8edb934",
   "metadata": {},
   "source": [
    "For fitting potentials within pyiron you can use the container as is, but if you have external tools, you can\n",
    "export the data into a table."
   ]
  },
  {
   "cell_type": "code",
   "execution_count": 32,
   "id": "93eeb671-5d8f-4f5a-8ef8-28d82039439c",
   "metadata": {
    "scrolled": true
   },
   "outputs": [
    {
     "data": {
      "text/html": [
       "<div>\n",
       "<style scoped>\n",
       "    .dataframe tbody tr th:only-of-type {\n",
       "        vertical-align: middle;\n",
       "    }\n",
       "\n",
       "    .dataframe tbody tr th {\n",
       "        vertical-align: top;\n",
       "    }\n",
       "\n",
       "    .dataframe thead th {\n",
       "        text-align: right;\n",
       "    }\n",
       "</style>\n",
       "<table border=\"1\" class=\"dataframe\">\n",
       "  <thead>\n",
       "    <tr style=\"text-align: right;\">\n",
       "      <th></th>\n",
       "      <th>name</th>\n",
       "      <th>atoms</th>\n",
       "      <th>energy</th>\n",
       "      <th>forces</th>\n",
       "      <th>stress</th>\n",
       "      <th>number_of_atoms</th>\n",
       "    </tr>\n",
       "  </thead>\n",
       "  <tbody>\n",
       "    <tr>\n",
       "      <th>0</th>\n",
       "      <td>murnaghan_0_9</td>\n",
       "      <td>[Atom('Al', [0.0, 0.0, 0.0], index=0), Atom('Al', [0.0, 1.9502885569035455, 1.9502885569035457], index=1), Atom('Al', [1.9502885569033719, 1.1942073193127126e-16, 1.9502885569035457], index=2), At...</td>\n",
       "      <td>-13.280098</td>\n",
       "      <td>[[5.5511151231257796e-17, 2.7115698575386195e-11, 2.71157402087496e-11], [0.0, -2.7115712453173996e-11, -2.7115684697598397e-11], [-3.816391647148979e-17, 2.7115781842113093e-11, -2.71157506170904...</td>\n",
       "      <td>[11.712128754699998, 11.712128754895097, 11.712128754895097, 9.419605003210391e-16, 2.1221576168875112e-15, 1.3306762172773813e-15]</td>\n",
       "      <td>4</td>\n",
       "    </tr>\n",
       "    <tr>\n",
       "      <th>1</th>\n",
       "      <td>murnaghan_0_9</td>\n",
       "      <td>[Atom('Al', [0.0, 1.7737771094289194e-12, 1.7737771094289196e-12], index=0), Atom('Al', [0.0, 1.9502885569017743, 1.9502885569017745], index=1), Atom('Al', [1.9502885569033719, 1.7738965301608507e...</td>\n",
       "      <td>-13.280098</td>\n",
       "      <td>[[-5.5511151231257796e-17, 2.6922908347159995e-15, 2.8310687127941504e-15], [2.7755575615628898e-17, -2.6506574712925597e-15, -2.84494650060196e-15], [-3.816391647148979e-17, 3.52495810318487e-15,...</td>\n",
       "      <td>[11.712128754699998, 11.712128754895097, 11.712128754895097, -6.17668877427894e-15, 9.981603630033035e-16, 1.3213095734950124e-15]</td>\n",
       "      <td>4</td>\n",
       "    </tr>\n",
       "    <tr>\n",
       "      <th>2</th>\n",
       "      <td>murnaghan_0_92</td>\n",
       "      <td>[Atom('Al', [0.0, 0.0, 0.0], index=0), Atom('Al', [0.0, 1.9646294289620627, 1.964629428962063], index=1), Atom('Al', [1.964629428962089, 1.2029885708445572e-16, 1.964629428962063], index=2), Atom(...</td>\n",
       "      <td>-13.362588</td>\n",
       "      <td>[[7.466249840604181e-15, 8.947557278427001e-11, 8.947253354874009e-11], [6.5503158452884204e-15, -8.947889651445001e-11, -8.94726376321486e-11], [-6.501743587961071e-15, 8.94759648317756e-11, -8.9...</td>\n",
       "      <td>[8.41591955239021, 8.41591955305308, 8.41591955305308, 3.832340082259694e-15, 6.06956658001099e-16, -2.7787796353186547e-15]</td>\n",
       "      <td>4</td>\n",
       "    </tr>\n",
       "    <tr>\n",
       "      <th>3</th>\n",
       "      <td>murnaghan_0_92</td>\n",
       "      <td>[Atom('Al', [0.0, 6.253870198020177e-12, 6.253870198020177e-12], index=0), Atom('Al', [0.0, 1.9646294289562551, 1.9646294289562554], index=1), Atom('Al', [1.964629428962089, 6.2539904968772615e-12...</td>\n",
       "      <td>-13.362588</td>\n",
       "      <td>[[7.771561172376101e-16, 5.41233724504764e-16, -2.0122792321330994e-16], [9.71445146547012e-16, -1.62370117351429e-15, -3.9939162782502336e-32], [-8.39606162372775e-16, -1.8041124150158804e-16, -5...</td>\n",
       "      <td>[8.41591955239025, 8.4159195530531, 8.41591955305311, -3.223186158217195e-15, 1.4682806406047737e-15, 8.528388391627427e-15]</td>\n",
       "      <td>4</td>\n",
       "    </tr>\n",
       "    <tr>\n",
       "      <th>4</th>\n",
       "      <td>murnaghan_0_94</td>\n",
       "      <td>[Atom('Al', [0.0, 0.0, 0.0], index=0), Atom('Al', [0.0, 1.978763939605398, 1.9787639396053982], index=1), Atom('Al', [1.9787639396054337, 1.2116434624530005e-16, 1.9787639396053982], index=2), Ato...</td>\n",
       "      <td>-13.420059</td>\n",
       "      <td>[[0.0, 3.717292446081539e-11, 3.71729452774971e-11], [-6.938893903907228e-18, -3.717263302727149e-11, -3.71728342551947e-11], [-1.3877787807814497e-17, 3.717290711358069e-11, -3.717303201367089e-1...</td>\n",
       "      <td>[5.627175591864479, 5.6271755921245985, 5.627175592124589, -3.209352537114582e-17, 3.714693184285559e-16, -2.0248672610922845e-16]</td>\n",
       "      <td>4</td>\n",
       "    </tr>\n",
       "    <tr>\n",
       "      <th>5</th>\n",
       "      <td>murnaghan_0_94</td>\n",
       "      <td>[Atom('Al', [0.0, 2.6995129786882887e-12, 2.699512978688289e-12], index=0), Atom('Al', [0.0, 1.978763939602699, 1.9787639396026993], index=1), Atom('Al', [1.9787639396054337, 2.699634143034534e-12...</td>\n",
       "      <td>-13.420059</td>\n",
       "      <td>[[0.0, -2.0816681711721697e-17, -6.93889390390723e-18], [6.938893903907228e-18, -1.3877787807814497e-17, -2.7755575615628898e-17], [2.0816681711721697e-17, 1.2746541313564613e-33, -2.0816681711721...</td>\n",
       "      <td>[5.627175591864448, 5.627175592124568, 5.627175592124568, 9.274892365904603e-16, 2.279803072941086e-16, 2.190122440982056e-16]</td>\n",
       "      <td>4</td>\n",
       "    </tr>\n",
       "    <tr>\n",
       "      <th>6</th>\n",
       "      <td>murnaghan_0_96</td>\n",
       "      <td>[Atom('Al', [0.0, 0.0, 0.0], index=0), Atom('Al', [0.0, 1.9926993560590622, 1.9926993560590625], index=1), Atom('Al', [1.9926993560590198, 1.2201764440303352e-16, 1.9926993560590625], index=2), At...</td>\n",
       "      <td>-13.456412</td>\n",
       "      <td>[[2.42861286636753e-17, 5.7456789326337785e-11, 5.7454187241123794e-11], [-5.204170427930419e-18, -5.7458988955705285e-11, -5.74541247910787e-11], [6.938893903907228e-18, 5.745563053105579e-11, -5...</td>\n",
       "      <td>[3.2720639786780197, 3.2720639790484696, 3.2720639790484696, 1.4341187446430929e-15, -1.9918976493921736e-16, 1.9816082676816464e-16]</td>\n",
       "      <td>4</td>\n",
       "    </tr>\n",
       "    <tr>\n",
       "      <th>7</th>\n",
       "      <td>murnaghan_0_96</td>\n",
       "      <td>[Atom('Al', [0.0, 4.530873766384499e-12, 4.5308737663845e-12], index=0), Atom('Al', [0.0, 1.992699356054531, 1.9926993560545312], index=1), Atom('Al', [1.9926993560590198, 4.5309957840289025e-12, ...</td>\n",
       "      <td>-13.456412</td>\n",
       "      <td>[[1.04083408558608e-17, 6.661338147750939e-16, -1.68615121864946e-15], [-6.938893903907228e-18, -2.8622937353617297e-15, 6.140921104957898e-16], [0.0, 7.598088824778419e-16, 6.80011602582908e-16],...</td>\n",
       "      <td>[3.2720639786779793, 3.2720639790484496, 3.2720639790484496, 3.3207456211764376e-16, -2.211428363042688e-16, 1.68083805097611e-18]</td>\n",
       "      <td>4</td>\n",
       "    </tr>\n",
       "    <tr>\n",
       "      <th>8</th>\n",
       "      <td>murnaghan_0_98</td>\n",
       "      <td>[Atom('Al', [0.0, 0.0, 0.0], index=0), Atom('Al', [0.0, 2.0064425445260037, 2.0064425445260037], index=1), Atom('Al', [2.0064425445261227, 1.2285917199134936e-16, 2.0064425445260037], index=2), At...</td>\n",
       "      <td>-13.474933</td>\n",
       "      <td>[[2.8310687127941504e-15, 1.52753837356912e-10, 1.52754010829259e-10], [2.9143354396410403e-15, -1.52753923659404e-10, -1.52753873786104e-10], [-2.7998436902265702e-15, 1.52753962257002e-10, -1.52...</td>\n",
       "      <td>[1.28485865993376, 1.2848586608023203, 1.2848586608023203, -7.643230381167751e-16, 6.120001298825978e-16, 4.286695828880968e-16]</td>\n",
       "      <td>4</td>\n",
       "    </tr>\n",
       "    <tr>\n",
       "      <th>9</th>\n",
       "      <td>murnaghan_0_98</td>\n",
       "      <td>[Atom('Al', [0.0, 1.3230154261350417e-11, 1.3230154261350418e-11], index=0), Atom('Al', [0.0, 2.006442544513231, 2.006442544513231], index=1), Atom('Al', [2.0064425445261227, 1.3230277120522408e-1...</td>\n",
       "      <td>-13.474933</td>\n",
       "      <td>[[2.35922392732846e-16, 6.938893903907232e-17, -1.1796119636642298e-16], [-1.0408340855860801e-15, 7.2164496600635185e-16, 5.01335084557297e-16], [3.6082248300317597e-16, -6.07153216591882e-16, 3....</td>\n",
       "      <td>[1.2848586599338, 1.28485866080234, 1.2848586608023302, -3.7938265205207465e-16, 1.7754233078770244e-15, 3.474322218441904e-15]</td>\n",
       "      <td>4</td>\n",
       "    </tr>\n",
       "    <tr>\n",
       "      <th>10</th>\n",
       "      <td>murnaghan_1_0</td>\n",
       "      <td>[Atom('Al', [0.0, 0.0, 0.0], index=0), Atom('Al', [0.0, 2.02, 2.02], index=1), Atom('Al', [2.02, 1.2368932671388267e-16, 2.02], index=2), Atom('Al', [2.02, 2.02, 2.4737865342776534e-16], index=3)]</td>\n",
       "      <td>-13.478421</td>\n",
       "      <td>[[2.77555756156289e-17, 3.46944695195361e-17, -2.0816681711721697e-17], [0.0, 0.0, 2.4286128663675302e-17], [6.93889390390723e-18, -6.93889390390723e-18, -2.77555756156289e-17], [-6.93889390390723...</td>\n",
       "      <td>[-0.389310476922652, -0.389310476922653, -0.389310476922659, 1.8691109363066713e-16, 1.7848111422656519e-16, -4.3058489771983374e-16]</td>\n",
       "      <td>4</td>\n",
       "    </tr>\n",
       "    <tr>\n",
       "      <th>11</th>\n",
       "      <td>murnaghan_1_0</td>\n",
       "      <td>[Atom('Al', [0.0, 0.0, 0.0], index=0), Atom('Al', [0.0, 2.02, 2.02], index=1), Atom('Al', [2.02, 1.2368932671388267e-16, 2.02], index=2), Atom('Al', [2.02, 2.02, 2.4737865342776534e-16], index=3)]</td>\n",
       "      <td>-13.478421</td>\n",
       "      <td>[[2.77555756156289e-17, 3.46944695195361e-17, -2.0816681711721697e-17], [0.0, 0.0, 2.4286128663675302e-17], [6.93889390390723e-18, -6.93889390390723e-18, -2.77555756156289e-17], [-6.93889390390723...</td>\n",
       "      <td>[-0.389310476922652, -0.389310476922653, -0.389310476922659, 1.8691109363066713e-16, 1.7848111422656519e-16, -4.3058489771983374e-16]</td>\n",
       "      <td>4</td>\n",
       "    </tr>\n",
       "    <tr>\n",
       "      <th>12</th>\n",
       "      <td>murnaghan_1_02</td>\n",
       "      <td>[Atom('Al', [0.0, 0.0, 0.0], index=0), Atom('Al', [0.0, 2.0333778733115575, 2.0333778733115575], index=1), Atom('Al', [2.033377873311428, 1.2450848520039458e-16, 2.0333778733115575], index=2), Ato...</td>\n",
       "      <td>-13.469231</td>\n",
       "      <td>[[5.55111512312578e-17, 5.6059233644045696e-11, 5.60592405829397e-11], [-2.77555756156289e-17, -5.60592267051518e-11, -5.60593377274543e-11], [3.81639164714898e-17, 5.605928568575001e-11, -5.60591...</td>\n",
       "      <td>[-1.80542531046964, -1.8054253102550102, -1.8054253102550102, -2.1902441605153182e-16, -2.8514190158778806e-16, -4.36295254722175e-16]</td>\n",
       "      <td>4</td>\n",
       "    </tr>\n",
       "    <tr>\n",
       "      <th>13</th>\n",
       "      <td>murnaghan_1_02</td>\n",
       "      <td>[Atom('Al', [0.0, 5.548039207405954e-12, 5.548039207405954e-12], index=0), Atom('Al', [0.0, 2.033377873305547, 2.033377873305547], index=1), Atom('Al', [2.033377873311428, 5.548163715891154e-12, 2...</td>\n",
       "      <td>-13.469231</td>\n",
       "      <td>[[-5.55111512312578e-17, -1.84574577843932e-15, -2.0122792321331e-15], [0.0, 2.04697370165263e-15, 1.9914625504213702e-15], [2.4286128663675302e-17, -2.4112656316077603e-15, 2.35228503342455e-15],...</td>\n",
       "      <td>[-1.80542531046962, -1.80542531025498, -1.80542531025498, 2.509354947488261e-15, -1.0937897421068227e-15, -3.6694937635125083e-16]</td>\n",
       "      <td>4</td>\n",
       "    </tr>\n",
       "    <tr>\n",
       "      <th>14</th>\n",
       "      <td>murnaghan_1_04</td>\n",
       "      <td>[Atom('Al', [0.0, 0.0, 0.0], index=0), Atom('Al', [0.0, 2.0465819957167533, 2.0465819957167533], index=1), Atom('Al', [2.046581995716758, 1.2531700451235647e-16, 2.0465819957167533], index=2), Ato...</td>\n",
       "      <td>-13.449229</td>\n",
       "      <td>[[-2.77555756156289e-16, 7.67165497794764e-11, 7.671649426832519e-11], [-4.662936703425661e-15, -7.671663304620319e-11, -7.671680651855079e-11], [2.4355517602714403e-15, 7.6716653862885e-11, -7.67...</td>\n",
       "      <td>[-3.02862518815169, -3.02862518789669, -3.02862518789669, 2.3299367552625305e-16, -2.652732278265531e-15, -3.3934663741100803e-15]</td>\n",
       "      <td>4</td>\n",
       "    </tr>\n",
       "    <tr>\n",
       "      <th>15</th>\n",
       "      <td>murnaghan_1_04</td>\n",
       "      <td>[Atom('Al', [0.0, 8.376099668248575e-12, 8.376099668248575e-12], index=0), Atom('Al', [0.0, 2.0465819957083746, 2.0465819957083746], index=1), Atom('Al', [2.046581995716758, 8.376224985253088e-12,...</td>\n",
       "      <td>-13.449229</td>\n",
       "      <td>[[1.5543122344752201e-15, 4.1633363423443494e-17, 6.938893903907327e-18], [-5.27355936696949e-16, -3.8857805861880504e-16, -6.036837696399291e-16], [-4.3368086899420197e-16, 5.16947595841089e-16, ...</td>\n",
       "      <td>[-3.02862518815167, -3.02862518789668, -3.02862518789669, -1.2795676643560663e-15, -1.8715090141398396e-15, -2.62311146346435e-15]</td>\n",
       "      <td>4</td>\n",
       "    </tr>\n",
       "    <tr>\n",
       "      <th>16</th>\n",
       "      <td>murnaghan_1_06</td>\n",
       "      <td>[Atom('Al', [0.0, 0.0, 0.0], index=0), Atom('Al', [0.0, 2.059617901293083, 2.059617901293083], index=1), Atom('Al', [2.059617901292877, 1.2611522351424555e-16, 2.059617901293083], index=2), Atom('...</td>\n",
       "      <td>-13.419666</td>\n",
       "      <td>[[-2.2204460492503099e-16, 1.77133058221202e-10, 1.77133085976777e-10], [-4.21884749357559e-15, -1.77131795342511e-10, -1.77131767586935e-10], [2.27248775352962e-15, 1.7713173983136e-10, -1.771329...</td>\n",
       "      <td>[-4.14386634506231, -4.1438663443930706, -4.1438663443930706, -3.650779833626271e-16, -2.32146943009751e-15, -2.98950553384664e-15]</td>\n",
       "      <td>4</td>\n",
       "    </tr>\n",
       "    <tr>\n",
       "      <th>17</th>\n",
       "      <td>murnaghan_1_06</td>\n",
       "      <td>[Atom('Al', [0.0, 2.1541933041930873e-11, 2.1541933041930873e-11], index=0), Atom('Al', [0.0, 2.059617901271544, 2.059617901271544], index=1), Atom('Al', [2.059617901292877, 2.1542059157154387e-11...</td>\n",
       "      <td>-13.419666</td>\n",
       "      <td>[[6.10622663543836e-16, -9.15933995315754e-16, -9.08995101411847e-16], [-2.77555756156289e-17, 7.910339050454239e-16, 7.28583859910259e-16], [-4.3368086899420197e-16, -4.0245584642661905e-16, 3.67...</td>\n",
       "      <td>[-4.14386634506234, -4.14386634439308, -4.14386634439309, -1.1126421947009476e-15, -2.878166183221792e-15, -2.750921211079092e-15]</td>\n",
       "      <td>4</td>\n",
       "    </tr>\n",
       "    <tr>\n",
       "      <th>18</th>\n",
       "      <td>murnaghan_1_08</td>\n",
       "      <td>[Atom('Al', [0.0, 0.0, 0.0], index=0), Atom('Al', [0.0, 2.0724908473721464, 2.0724908473721464], index=1), Atom('Al', [2.0724908473721566, 1.2690346412482486e-16, 2.0724908473721464], index=2), At...</td>\n",
       "      <td>-13.381131</td>\n",
       "      <td>[[1.33226762955019e-15, 8.25381707425521e-11, 8.253826788706679e-11], [-1.41553435639707e-15, -8.25383650315814e-11, -8.253830952043019e-11], [1.07552855510562e-16, 8.253831298987709e-11, -8.25382...</td>\n",
       "      <td>[-5.211851409421531, -5.21185140905201, -5.21185140905201, 6.799748128508446e-16, 4.3019764529391695e-16, -4.1280029513434776e-16]</td>\n",
       "      <td>4</td>\n",
       "    </tr>\n",
       "    <tr>\n",
       "      <th>19</th>\n",
       "      <td>murnaghan_1_08</td>\n",
       "      <td>[Atom('Al', [0.0, 1.130951667082625e-11, 1.130951667082625e-11], index=0), Atom('Al', [0.0, 2.072490847361308, 2.072490847361308], index=1), Atom('Al', [2.0724908473721566, 1.1309643574290375e-11,...</td>\n",
       "      <td>-13.381131</td>\n",
       "      <td>[[1.4988010832439601e-15, 1.2836953722228402e-15, 1.3045120539345603e-15], [-1.4432899320127001e-15, -1.2490009027033001e-15, -1.3461454173580001e-15], [-9.367506770274761e-17, 1.22818422099158e-1...</td>\n",
       "      <td>[-5.2118514094215405, -5.21185140905202, -5.21185140905202, -5.689110248206608e-16, -6.204508367335946e-15, -5.8454536890053865e-15]</td>\n",
       "      <td>4</td>\n",
       "    </tr>\n",
       "    <tr>\n",
       "      <th>20</th>\n",
       "      <td>murnaghan_1_1</td>\n",
       "      <td>[Atom('Al', [0.0, 0.0, 0.0], index=0), Atom('Al', [0.0, 2.0852058332218113, 2.0852058332218113], index=1), Atom('Al', [2.085205833221862, 1.2768203246092714e-16, 2.0852058332218113], index=2), Ato...</td>\n",
       "      <td>-13.334006</td>\n",
       "      <td>[[0.0, 7.201110541199539e-11, 7.20111192897832e-11], [-3.3861802251067302e-15, -7.201091112296609e-11, -7.201092500075389e-11], [1.6132928326584302e-15, 7.201075152840629e-11, -7.20111609231466e-1...</td>\n",
       "      <td>[-6.22891836616987, -6.22891836579021, -6.22891836579021, -7.799193642339542e-16, 3.2364157593934345e-16, 3.542960465003595e-16]</td>\n",
       "      <td>4</td>\n",
       "    </tr>\n",
       "    <tr>\n",
       "      <th>21</th>\n",
       "      <td>murnaghan_1_1</td>\n",
       "      <td>[Atom('Al', [0.0, 1.0904781030058079e-11, 1.0904781030058079e-11], index=0), Atom('Al', [0.0, 2.0852058332109054, 2.0852058332109054], index=1), Atom('Al', [2.085205833221862, 1.090490871209054e-1...</td>\n",
       "      <td>-13.334006</td>\n",
       "      <td>[[7.771561172376101e-16, -2.1510571102112396e-16, -9.714451465470117e-17], [1.11022302462516e-16, -1.22124532708767e-15, -8.465450562766821e-16], [-4.23272528138341e-16, 7.97972798949331e-16, 3.26...</td>\n",
       "      <td>[-6.22891836616987, -6.2289183657902, -6.2289183657902, 5.382228698896976e-16, 2.6533813385764957e-15, 5.995318109884804e-16]</td>\n",
       "      <td>4</td>\n",
       "    </tr>\n",
       "    <tr>\n",
       "      <th>22</th>\n",
       "      <td>fcc_m0d05</td>\n",
       "      <td>[Atom('Al', [0.0, 0.0, 0.0], index=0), Atom('Al', [0.0, 1.919000000000178, 1.9190000000001781], index=1), Atom('Al', [1.919, 1.1750486037818852e-16, 1.9190000000001781], index=2), Atom('Al', [1.91...</td>\n",
       "      <td>-13.004495</td>\n",
       "      <td>[[0.0, 4.5430540579483005e-10, 4.5430529477252806e-10], [5.55111512312578e-17, -4.5430531558921003e-10, -4.543053155892101e-10], [4.16333634234434e-17, 4.54305398855936e-10, -4.5430536416146694e-1...</td>\n",
       "      <td>[19.8773892976481, 19.877389299869403, 19.877389299869403, 7.058587802745243e-16, 4.698832668461919e-16, 1.944730224923175e-15]</td>\n",
       "      <td>4</td>\n",
       "    </tr>\n",
       "    <tr>\n",
       "      <th>23</th>\n",
       "      <td>fcc_m0d025</td>\n",
       "      <td>[Atom('Al', [0.0, 0.0, 0.0], index=0), Atom('Al', [0.0, 1.9695, 1.9695000000000003], index=1), Atom('Al', [1.9695, 1.205970935460356e-16, 1.9695000000000003], index=2), Atom('Al', [1.9695, 1.96950...</td>\n",
       "      <td>-13.384906</td>\n",
       "      <td>[[0.0, 0.0, 2.77555756156289e-17], [0.0, 0.0, -1.38777878078145e-17], [0.0, -2.77555756156289e-17, 6.938893903907228e-18], [4.16333634234434e-17, -1.3877787807814497e-17, -3.46944695195361e-17]]</td>\n",
       "      <td>[7.405525262816491, 7.405525262816491, 7.405525262816491, 4.170768058588095e-16, 2.351726328745868e-16, 4.71648057754076e-16]</td>\n",
       "      <td>4</td>\n",
       "    </tr>\n",
       "    <tr>\n",
       "      <th>24</th>\n",
       "      <td>fcc_0d0</td>\n",
       "      <td>[Atom('Al', [0.0, 0.0, 0.0], index=0), Atom('Al', [0.0, 2.02, 2.02], index=1), Atom('Al', [2.02, 1.2368932671388267e-16, 2.02], index=2), Atom('Al', [2.02, 2.02, 2.4737865342776534e-16], index=3)]</td>\n",
       "      <td>-13.478421</td>\n",
       "      <td>[[2.77555756156289e-17, 3.46944695195361e-17, -2.0816681711721697e-17], [0.0, 0.0, 2.4286128663675302e-17], [6.93889390390723e-18, -6.93889390390723e-18, -2.77555756156289e-17], [-6.93889390390723...</td>\n",
       "      <td>[-0.389310476922652, -0.389310476922653, -0.389310476922659, 1.8691109363066713e-16, 1.7848111422656519e-16, -4.3058489771983374e-16]</td>\n",
       "      <td>4</td>\n",
       "    </tr>\n",
       "    <tr>\n",
       "      <th>25</th>\n",
       "      <td>fcc_0d02500000000000001</td>\n",
       "      <td>[Atom('Al', [0.0, 0.0, 0.0], index=0), Atom('Al', [0.0, 2.0705, 2.0705], index=1), Atom('Al', [2.0705, 1.2678155988172973e-16, 2.0705], index=2), Atom('Al', [2.0705, 2.0705, 2.535631197634595e-16]...</td>\n",
       "      <td>-13.387696</td>\n",
       "      <td>[[-1.11022302462516e-16, 6.938893903907223e-18, 9.71445146547012e-17], [-5.1347814888913506e-15, -2.7755575615629215e-17, -9.714451465470153e-17], [2.56392129749372e-15, -9.020562075079383e-17, -2...</td>\n",
       "      <td>[-5.048627317792, -5.048627317792, -5.048627317792, -7.005429596768481e-16, -7.00542959676848e-16, -4.50044594597965e-16]</td>\n",
       "      <td>4</td>\n",
       "    </tr>\n",
       "    <tr>\n",
       "      <th>26</th>\n",
       "      <td>fcc_0d05</td>\n",
       "      <td>[Atom('Al', [0.0, 0.0, 0.0], index=0), Atom('Al', [0.0, 2.121, 2.121], index=1), Atom('Al', [2.121, 1.298737930495768e-16, 2.121], index=2), Atom('Al', [2.121, 2.121, 2.5974758609915364e-16], inde...</td>\n",
       "      <td>-13.155010</td>\n",
       "      <td>[[1.11022302462516e-16, 4.857225732735061e-17, -1.387778780781449e-17], [-2.05391259555654e-15, -1.2576587429383744e-31, 2.7755575615628775e-17], [8.74300631892311e-16, 7.979727989493315e-17, 6.93...</td>\n",
       "      <td>[-8.74802976204208, -8.74802976204208, -8.74802976204209, -3.6089113640789976e-16, -4.191482017207767e-16, 1.037278431101149e-15]</td>\n",
       "      <td>4</td>\n",
       "    </tr>\n",
       "    <tr>\n",
       "      <th>27</th>\n",
       "      <td>fcc_m0d05_rattle</td>\n",
       "      <td>[Atom('Al', [0.024835707650439527, 3.8310867848414953, 0.032384426905203066], index=0), Atom('Al', [0.07615149282021107, 1.907292331263944, 1.9072931521526744], index=1), Atom('Al', [1.99796064077...</td>\n",
       "      <td>-12.969254</td>\n",
       "      <td>[[0.225356420302783, -0.128983447215874, -0.420067798718964], [-0.173611062401462, 0.25815720338898, 0.154863184593469], [-0.227057984940183, -0.474223786889783, 0.25194464425342994], [0.175312627...</td>\n",
       "      <td>[19.9743068172098, 19.8329572584961, 20.0941552849555, 0.0530027076250183, -0.09324657850059409, -0.11333977834669277]</td>\n",
       "      <td>4</td>\n",
       "    </tr>\n",
       "    <tr>\n",
       "      <th>28</th>\n",
       "      <td>fcc_m0d025_rattle</td>\n",
       "      <td>[Atom('Al', [0.024835707650554636, 3.932086784941539, 0.03238442690515098], index=0), Atom('Al', [0.07615149282061304, 1.9577923312636094, 1.957793152152651], index=1), Atom('Al', [2.0484606407755...</td>\n",
       "      <td>-13.356478</td>\n",
       "      <td>[[0.182077236100611, -0.09801612335535678, -0.337405217061104], [-0.142568862368197, 0.203875425397358, 0.122663465025967], [-0.183672516469359, -0.381411648338141, 0.19938723781622697], [0.144164...</td>\n",
       "      <td>[7.701562077833161, 7.57032670180981, 7.7341759220164406, 0.015293994386384359, -0.08961462862465844, -0.014980043721628528]</td>\n",
       "      <td>4</td>\n",
       "    </tr>\n",
       "    <tr>\n",
       "      <th>29</th>\n",
       "      <td>fcc_0d0_rattle</td>\n",
       "      <td>[Atom('Al', [0.024835707650531415, 4.033086784941361, 0.032384426905105], index=0), Atom('Al', [0.07615149282041778, 2.008292331263829, 2.0082931521527416], index=1), Atom('Al', [2.098960640775202...</td>\n",
       "      <td>-13.457467</td>\n",
       "      <td>[[0.131699881075496, -0.07504828740925258, -0.247386906920645], [-0.104162196827962, 0.152604871911292, 0.0923328601429073], [-0.132838120909465, -0.282497061903869, 0.14634626875759296], [0.10530...</td>\n",
       "      <td>[-0.21714803197232402, -0.290092655096784, -0.161872080261683, 0.02235895839255878, -0.06453528984643372, -0.04194741072317231]</td>\n",
       "      <td>4</td>\n",
       "    </tr>\n",
       "    <tr>\n",
       "      <th>30</th>\n",
       "      <td>fcc_0d02500000000000001_rattle</td>\n",
       "      <td>[Atom('Al', [0.024835707650405246, 4.134086784941361, 0.03238442690517407], index=0), Atom('Al', [0.07615149282052117, 2.0587923312636214, 2.0587931521526364], index=1), Atom('Al', [2.149460640775...</td>\n",
       "      <td>-13.371989</td>\n",
       "      <td>[[0.0999406440906082, -0.045277751539999994, -0.182274000329437], [-0.082358080475496, 0.105436447174366, 0.063019813468577], [-0.100626215248894, -0.206032004399353, 0.10338032503259699], [0.0830...</td>\n",
       "      <td>[-4.91599321750658, -4.98051227949205, -4.84983747423767, 0.02079257242870559, -0.0700986620397873, -0.0361967018686852]</td>\n",
       "      <td>4</td>\n",
       "    </tr>\n",
       "    <tr>\n",
       "      <th>31</th>\n",
       "      <td>fcc_0d05_rattle</td>\n",
       "      <td>[Atom('Al', [0.02483570765069217, 4.235086784941349, 0.0323844269049445], index=0), Atom('Al', [0.07615149282016515, 2.109292331263646, 2.1092931521523752], index=1), Atom('Al', [2.199960640775409...</td>\n",
       "      <td>-13.145855</td>\n",
       "      <td>[[0.0610038405730815, -0.016263140218532795, -0.104788600195969], [-0.051852620400252, 0.0532158580160214, 0.0307414832379276], [-0.0612795732440802, -0.114808222998536, 0.05602976593080999], [0.0...</td>\n",
       "      <td>[-8.52908995905728, -8.59327181435665, -8.456325618199891, 0.01536262916053437, -0.09707271450507533, -0.014585981467048323]</td>\n",
       "      <td>4</td>\n",
       "    </tr>\n",
       "    <tr>\n",
       "      <th>32</th>\n",
       "      <td>random_0</td>\n",
       "      <td>[Atom('Al', [0.46252392511657664, 1.9880270892084833, 3.496206935408546], index=0), Atom('Al', [2.971019953868831, 3.0269702550427176, 2.1286770213514896], index=1), Atom('Al', [2.6533937057033135...</td>\n",
       "      <td>3.944158</td>\n",
       "      <td>[[6.6662412274556155, -12.889503394567054, -1.1353711307375043], [0.8295826259203943, 18.38162265381118, -21.020427700394176], [-7.413110119567704, -4.108082775175566, 22.260365487171974], [-0.082...</td>\n",
       "      <td>[44.0096596017906, 24.9518369114034, 84.4940164296931, -7.6500692829191905, -30.345406468544702, -15.267989362994403]</td>\n",
       "      <td>4</td>\n",
       "    </tr>\n",
       "    <tr>\n",
       "      <th>33</th>\n",
       "      <td>random_1</td>\n",
       "      <td>[Atom('Al', [1.1263231106295892, 1.950848853349741, 0.3705607134962137], index=0), Atom('Al', [2.2526462212595657, -8.754314952817376e-14, 2.978323733064003], index=1), Atom('Al', [2.2526462212595...</td>\n",
       "      <td>-4.231906</td>\n",
       "      <td>[[-4.241659874992427e-10, -6.36593039278571e-10, -8.930643688162197], [4.241719759398164e-10, 6.366031948309301e-10, -8.930643688184118], [4.2416153260545096e-10, 6.365907077578508e-10, 8.93064368...</td>\n",
       "      <td>[21.009520929195602, 21.0095209359189, 84.9093652573632, 3.3801872369391006e-14, 2.47071981892858e-15, 6.17089775556354e-10]</td>\n",
       "      <td>4</td>\n",
       "    </tr>\n",
       "    <tr>\n",
       "      <th>34</th>\n",
       "      <td>random_2</td>\n",
       "      <td>[Atom('Al', [0.0, 0.0, 0.0], index=0), Atom('Al', [-2.363386751674277e-16, 1.929851736288176, 1.9298517362881764], index=1), Atom('Al', [1.9298517362881689, -4.449144974780832e-31, 1.9298517362881...</td>\n",
       "      <td>-13.115366</td>\n",
       "      <td>[[8.770761894498125e-15, 3.31668144337716e-10, 3.316640642681e-10], [7.938094626110488e-15, -3.31672161957286e-10, -3.31664140595933e-10], [-7.938094626069871e-15, 3.31668904146598e-10, -3.3166411...</td>\n",
       "      <td>[16.9692289329473, 16.969228934912703, 16.969228934912703, 4.7563509279130494e-15, -1.1987551120333967e-15, -3.939457323544266e-15]</td>\n",
       "      <td>4</td>\n",
       "    </tr>\n",
       "  </tbody>\n",
       "</table>\n",
       "</div>"
      ],
      "text/plain": [
       "                              name  \\\n",
       "0                    murnaghan_0_9   \n",
       "1                    murnaghan_0_9   \n",
       "2                   murnaghan_0_92   \n",
       "3                   murnaghan_0_92   \n",
       "4                   murnaghan_0_94   \n",
       "5                   murnaghan_0_94   \n",
       "6                   murnaghan_0_96   \n",
       "7                   murnaghan_0_96   \n",
       "8                   murnaghan_0_98   \n",
       "9                   murnaghan_0_98   \n",
       "10                   murnaghan_1_0   \n",
       "11                   murnaghan_1_0   \n",
       "12                  murnaghan_1_02   \n",
       "13                  murnaghan_1_02   \n",
       "14                  murnaghan_1_04   \n",
       "15                  murnaghan_1_04   \n",
       "16                  murnaghan_1_06   \n",
       "17                  murnaghan_1_06   \n",
       "18                  murnaghan_1_08   \n",
       "19                  murnaghan_1_08   \n",
       "20                   murnaghan_1_1   \n",
       "21                   murnaghan_1_1   \n",
       "22                       fcc_m0d05   \n",
       "23                      fcc_m0d025   \n",
       "24                         fcc_0d0   \n",
       "25         fcc_0d02500000000000001   \n",
       "26                        fcc_0d05   \n",
       "27                fcc_m0d05_rattle   \n",
       "28               fcc_m0d025_rattle   \n",
       "29                  fcc_0d0_rattle   \n",
       "30  fcc_0d02500000000000001_rattle   \n",
       "31                 fcc_0d05_rattle   \n",
       "32                        random_0   \n",
       "33                        random_1   \n",
       "34                        random_2   \n",
       "\n",
       "                                                                                                                                                                                                      atoms  \\\n",
       "0   [Atom('Al', [0.0, 0.0, 0.0], index=0), Atom('Al', [0.0, 1.9502885569035455, 1.9502885569035457], index=1), Atom('Al', [1.9502885569033719, 1.1942073193127126e-16, 1.9502885569035457], index=2), At...   \n",
       "1   [Atom('Al', [0.0, 1.7737771094289194e-12, 1.7737771094289196e-12], index=0), Atom('Al', [0.0, 1.9502885569017743, 1.9502885569017745], index=1), Atom('Al', [1.9502885569033719, 1.7738965301608507e...   \n",
       "2   [Atom('Al', [0.0, 0.0, 0.0], index=0), Atom('Al', [0.0, 1.9646294289620627, 1.964629428962063], index=1), Atom('Al', [1.964629428962089, 1.2029885708445572e-16, 1.964629428962063], index=2), Atom(...   \n",
       "3   [Atom('Al', [0.0, 6.253870198020177e-12, 6.253870198020177e-12], index=0), Atom('Al', [0.0, 1.9646294289562551, 1.9646294289562554], index=1), Atom('Al', [1.964629428962089, 6.2539904968772615e-12...   \n",
       "4   [Atom('Al', [0.0, 0.0, 0.0], index=0), Atom('Al', [0.0, 1.978763939605398, 1.9787639396053982], index=1), Atom('Al', [1.9787639396054337, 1.2116434624530005e-16, 1.9787639396053982], index=2), Ato...   \n",
       "5   [Atom('Al', [0.0, 2.6995129786882887e-12, 2.699512978688289e-12], index=0), Atom('Al', [0.0, 1.978763939602699, 1.9787639396026993], index=1), Atom('Al', [1.9787639396054337, 2.699634143034534e-12...   \n",
       "6   [Atom('Al', [0.0, 0.0, 0.0], index=0), Atom('Al', [0.0, 1.9926993560590622, 1.9926993560590625], index=1), Atom('Al', [1.9926993560590198, 1.2201764440303352e-16, 1.9926993560590625], index=2), At...   \n",
       "7   [Atom('Al', [0.0, 4.530873766384499e-12, 4.5308737663845e-12], index=0), Atom('Al', [0.0, 1.992699356054531, 1.9926993560545312], index=1), Atom('Al', [1.9926993560590198, 4.5309957840289025e-12, ...   \n",
       "8   [Atom('Al', [0.0, 0.0, 0.0], index=0), Atom('Al', [0.0, 2.0064425445260037, 2.0064425445260037], index=1), Atom('Al', [2.0064425445261227, 1.2285917199134936e-16, 2.0064425445260037], index=2), At...   \n",
       "9   [Atom('Al', [0.0, 1.3230154261350417e-11, 1.3230154261350418e-11], index=0), Atom('Al', [0.0, 2.006442544513231, 2.006442544513231], index=1), Atom('Al', [2.0064425445261227, 1.3230277120522408e-1...   \n",
       "10     [Atom('Al', [0.0, 0.0, 0.0], index=0), Atom('Al', [0.0, 2.02, 2.02], index=1), Atom('Al', [2.02, 1.2368932671388267e-16, 2.02], index=2), Atom('Al', [2.02, 2.02, 2.4737865342776534e-16], index=3)]   \n",
       "11     [Atom('Al', [0.0, 0.0, 0.0], index=0), Atom('Al', [0.0, 2.02, 2.02], index=1), Atom('Al', [2.02, 1.2368932671388267e-16, 2.02], index=2), Atom('Al', [2.02, 2.02, 2.4737865342776534e-16], index=3)]   \n",
       "12  [Atom('Al', [0.0, 0.0, 0.0], index=0), Atom('Al', [0.0, 2.0333778733115575, 2.0333778733115575], index=1), Atom('Al', [2.033377873311428, 1.2450848520039458e-16, 2.0333778733115575], index=2), Ato...   \n",
       "13  [Atom('Al', [0.0, 5.548039207405954e-12, 5.548039207405954e-12], index=0), Atom('Al', [0.0, 2.033377873305547, 2.033377873305547], index=1), Atom('Al', [2.033377873311428, 5.548163715891154e-12, 2...   \n",
       "14  [Atom('Al', [0.0, 0.0, 0.0], index=0), Atom('Al', [0.0, 2.0465819957167533, 2.0465819957167533], index=1), Atom('Al', [2.046581995716758, 1.2531700451235647e-16, 2.0465819957167533], index=2), Ato...   \n",
       "15  [Atom('Al', [0.0, 8.376099668248575e-12, 8.376099668248575e-12], index=0), Atom('Al', [0.0, 2.0465819957083746, 2.0465819957083746], index=1), Atom('Al', [2.046581995716758, 8.376224985253088e-12,...   \n",
       "16  [Atom('Al', [0.0, 0.0, 0.0], index=0), Atom('Al', [0.0, 2.059617901293083, 2.059617901293083], index=1), Atom('Al', [2.059617901292877, 1.2611522351424555e-16, 2.059617901293083], index=2), Atom('...   \n",
       "17  [Atom('Al', [0.0, 2.1541933041930873e-11, 2.1541933041930873e-11], index=0), Atom('Al', [0.0, 2.059617901271544, 2.059617901271544], index=1), Atom('Al', [2.059617901292877, 2.1542059157154387e-11...   \n",
       "18  [Atom('Al', [0.0, 0.0, 0.0], index=0), Atom('Al', [0.0, 2.0724908473721464, 2.0724908473721464], index=1), Atom('Al', [2.0724908473721566, 1.2690346412482486e-16, 2.0724908473721464], index=2), At...   \n",
       "19  [Atom('Al', [0.0, 1.130951667082625e-11, 1.130951667082625e-11], index=0), Atom('Al', [0.0, 2.072490847361308, 2.072490847361308], index=1), Atom('Al', [2.0724908473721566, 1.1309643574290375e-11,...   \n",
       "20  [Atom('Al', [0.0, 0.0, 0.0], index=0), Atom('Al', [0.0, 2.0852058332218113, 2.0852058332218113], index=1), Atom('Al', [2.085205833221862, 1.2768203246092714e-16, 2.0852058332218113], index=2), Ato...   \n",
       "21  [Atom('Al', [0.0, 1.0904781030058079e-11, 1.0904781030058079e-11], index=0), Atom('Al', [0.0, 2.0852058332109054, 2.0852058332109054], index=1), Atom('Al', [2.085205833221862, 1.090490871209054e-1...   \n",
       "22  [Atom('Al', [0.0, 0.0, 0.0], index=0), Atom('Al', [0.0, 1.919000000000178, 1.9190000000001781], index=1), Atom('Al', [1.919, 1.1750486037818852e-16, 1.9190000000001781], index=2), Atom('Al', [1.91...   \n",
       "23  [Atom('Al', [0.0, 0.0, 0.0], index=0), Atom('Al', [0.0, 1.9695, 1.9695000000000003], index=1), Atom('Al', [1.9695, 1.205970935460356e-16, 1.9695000000000003], index=2), Atom('Al', [1.9695, 1.96950...   \n",
       "24     [Atom('Al', [0.0, 0.0, 0.0], index=0), Atom('Al', [0.0, 2.02, 2.02], index=1), Atom('Al', [2.02, 1.2368932671388267e-16, 2.02], index=2), Atom('Al', [2.02, 2.02, 2.4737865342776534e-16], index=3)]   \n",
       "25  [Atom('Al', [0.0, 0.0, 0.0], index=0), Atom('Al', [0.0, 2.0705, 2.0705], index=1), Atom('Al', [2.0705, 1.2678155988172973e-16, 2.0705], index=2), Atom('Al', [2.0705, 2.0705, 2.535631197634595e-16]...   \n",
       "26  [Atom('Al', [0.0, 0.0, 0.0], index=0), Atom('Al', [0.0, 2.121, 2.121], index=1), Atom('Al', [2.121, 1.298737930495768e-16, 2.121], index=2), Atom('Al', [2.121, 2.121, 2.5974758609915364e-16], inde...   \n",
       "27  [Atom('Al', [0.024835707650439527, 3.8310867848414953, 0.032384426905203066], index=0), Atom('Al', [0.07615149282021107, 1.907292331263944, 1.9072931521526744], index=1), Atom('Al', [1.99796064077...   \n",
       "28  [Atom('Al', [0.024835707650554636, 3.932086784941539, 0.03238442690515098], index=0), Atom('Al', [0.07615149282061304, 1.9577923312636094, 1.957793152152651], index=1), Atom('Al', [2.0484606407755...   \n",
       "29  [Atom('Al', [0.024835707650531415, 4.033086784941361, 0.032384426905105], index=0), Atom('Al', [0.07615149282041778, 2.008292331263829, 2.0082931521527416], index=1), Atom('Al', [2.098960640775202...   \n",
       "30  [Atom('Al', [0.024835707650405246, 4.134086784941361, 0.03238442690517407], index=0), Atom('Al', [0.07615149282052117, 2.0587923312636214, 2.0587931521526364], index=1), Atom('Al', [2.149460640775...   \n",
       "31  [Atom('Al', [0.02483570765069217, 4.235086784941349, 0.0323844269049445], index=0), Atom('Al', [0.07615149282016515, 2.109292331263646, 2.1092931521523752], index=1), Atom('Al', [2.199960640775409...   \n",
       "32  [Atom('Al', [0.46252392511657664, 1.9880270892084833, 3.496206935408546], index=0), Atom('Al', [2.971019953868831, 3.0269702550427176, 2.1286770213514896], index=1), Atom('Al', [2.6533937057033135...   \n",
       "33  [Atom('Al', [1.1263231106295892, 1.950848853349741, 0.3705607134962137], index=0), Atom('Al', [2.2526462212595657, -8.754314952817376e-14, 2.978323733064003], index=1), Atom('Al', [2.2526462212595...   \n",
       "34  [Atom('Al', [0.0, 0.0, 0.0], index=0), Atom('Al', [-2.363386751674277e-16, 1.929851736288176, 1.9298517362881764], index=1), Atom('Al', [1.9298517362881689, -4.449144974780832e-31, 1.9298517362881...   \n",
       "\n",
       "       energy  \\\n",
       "0  -13.280098   \n",
       "1  -13.280098   \n",
       "2  -13.362588   \n",
       "3  -13.362588   \n",
       "4  -13.420059   \n",
       "5  -13.420059   \n",
       "6  -13.456412   \n",
       "7  -13.456412   \n",
       "8  -13.474933   \n",
       "9  -13.474933   \n",
       "10 -13.478421   \n",
       "11 -13.478421   \n",
       "12 -13.469231   \n",
       "13 -13.469231   \n",
       "14 -13.449229   \n",
       "15 -13.449229   \n",
       "16 -13.419666   \n",
       "17 -13.419666   \n",
       "18 -13.381131   \n",
       "19 -13.381131   \n",
       "20 -13.334006   \n",
       "21 -13.334006   \n",
       "22 -13.004495   \n",
       "23 -13.384906   \n",
       "24 -13.478421   \n",
       "25 -13.387696   \n",
       "26 -13.155010   \n",
       "27 -12.969254   \n",
       "28 -13.356478   \n",
       "29 -13.457467   \n",
       "30 -13.371989   \n",
       "31 -13.145855   \n",
       "32   3.944158   \n",
       "33  -4.231906   \n",
       "34 -13.115366   \n",
       "\n",
       "                                                                                                                                                                                                     forces  \\\n",
       "0   [[5.5511151231257796e-17, 2.7115698575386195e-11, 2.71157402087496e-11], [0.0, -2.7115712453173996e-11, -2.7115684697598397e-11], [-3.816391647148979e-17, 2.7115781842113093e-11, -2.71157506170904...   \n",
       "1   [[-5.5511151231257796e-17, 2.6922908347159995e-15, 2.8310687127941504e-15], [2.7755575615628898e-17, -2.6506574712925597e-15, -2.84494650060196e-15], [-3.816391647148979e-17, 3.52495810318487e-15,...   \n",
       "2   [[7.466249840604181e-15, 8.947557278427001e-11, 8.947253354874009e-11], [6.5503158452884204e-15, -8.947889651445001e-11, -8.94726376321486e-11], [-6.501743587961071e-15, 8.94759648317756e-11, -8.9...   \n",
       "3   [[7.771561172376101e-16, 5.41233724504764e-16, -2.0122792321330994e-16], [9.71445146547012e-16, -1.62370117351429e-15, -3.9939162782502336e-32], [-8.39606162372775e-16, -1.8041124150158804e-16, -5...   \n",
       "4   [[0.0, 3.717292446081539e-11, 3.71729452774971e-11], [-6.938893903907228e-18, -3.717263302727149e-11, -3.71728342551947e-11], [-1.3877787807814497e-17, 3.717290711358069e-11, -3.717303201367089e-1...   \n",
       "5   [[0.0, -2.0816681711721697e-17, -6.93889390390723e-18], [6.938893903907228e-18, -1.3877787807814497e-17, -2.7755575615628898e-17], [2.0816681711721697e-17, 1.2746541313564613e-33, -2.0816681711721...   \n",
       "6   [[2.42861286636753e-17, 5.7456789326337785e-11, 5.7454187241123794e-11], [-5.204170427930419e-18, -5.7458988955705285e-11, -5.74541247910787e-11], [6.938893903907228e-18, 5.745563053105579e-11, -5...   \n",
       "7   [[1.04083408558608e-17, 6.661338147750939e-16, -1.68615121864946e-15], [-6.938893903907228e-18, -2.8622937353617297e-15, 6.140921104957898e-16], [0.0, 7.598088824778419e-16, 6.80011602582908e-16],...   \n",
       "8   [[2.8310687127941504e-15, 1.52753837356912e-10, 1.52754010829259e-10], [2.9143354396410403e-15, -1.52753923659404e-10, -1.52753873786104e-10], [-2.7998436902265702e-15, 1.52753962257002e-10, -1.52...   \n",
       "9   [[2.35922392732846e-16, 6.938893903907232e-17, -1.1796119636642298e-16], [-1.0408340855860801e-15, 7.2164496600635185e-16, 5.01335084557297e-16], [3.6082248300317597e-16, -6.07153216591882e-16, 3....   \n",
       "10  [[2.77555756156289e-17, 3.46944695195361e-17, -2.0816681711721697e-17], [0.0, 0.0, 2.4286128663675302e-17], [6.93889390390723e-18, -6.93889390390723e-18, -2.77555756156289e-17], [-6.93889390390723...   \n",
       "11  [[2.77555756156289e-17, 3.46944695195361e-17, -2.0816681711721697e-17], [0.0, 0.0, 2.4286128663675302e-17], [6.93889390390723e-18, -6.93889390390723e-18, -2.77555756156289e-17], [-6.93889390390723...   \n",
       "12  [[5.55111512312578e-17, 5.6059233644045696e-11, 5.60592405829397e-11], [-2.77555756156289e-17, -5.60592267051518e-11, -5.60593377274543e-11], [3.81639164714898e-17, 5.605928568575001e-11, -5.60591...   \n",
       "13  [[-5.55111512312578e-17, -1.84574577843932e-15, -2.0122792321331e-15], [0.0, 2.04697370165263e-15, 1.9914625504213702e-15], [2.4286128663675302e-17, -2.4112656316077603e-15, 2.35228503342455e-15],...   \n",
       "14  [[-2.77555756156289e-16, 7.67165497794764e-11, 7.671649426832519e-11], [-4.662936703425661e-15, -7.671663304620319e-11, -7.671680651855079e-11], [2.4355517602714403e-15, 7.6716653862885e-11, -7.67...   \n",
       "15  [[1.5543122344752201e-15, 4.1633363423443494e-17, 6.938893903907327e-18], [-5.27355936696949e-16, -3.8857805861880504e-16, -6.036837696399291e-16], [-4.3368086899420197e-16, 5.16947595841089e-16, ...   \n",
       "16  [[-2.2204460492503099e-16, 1.77133058221202e-10, 1.77133085976777e-10], [-4.21884749357559e-15, -1.77131795342511e-10, -1.77131767586935e-10], [2.27248775352962e-15, 1.7713173983136e-10, -1.771329...   \n",
       "17  [[6.10622663543836e-16, -9.15933995315754e-16, -9.08995101411847e-16], [-2.77555756156289e-17, 7.910339050454239e-16, 7.28583859910259e-16], [-4.3368086899420197e-16, -4.0245584642661905e-16, 3.67...   \n",
       "18  [[1.33226762955019e-15, 8.25381707425521e-11, 8.253826788706679e-11], [-1.41553435639707e-15, -8.25383650315814e-11, -8.253830952043019e-11], [1.07552855510562e-16, 8.253831298987709e-11, -8.25382...   \n",
       "19  [[1.4988010832439601e-15, 1.2836953722228402e-15, 1.3045120539345603e-15], [-1.4432899320127001e-15, -1.2490009027033001e-15, -1.3461454173580001e-15], [-9.367506770274761e-17, 1.22818422099158e-1...   \n",
       "20  [[0.0, 7.201110541199539e-11, 7.20111192897832e-11], [-3.3861802251067302e-15, -7.201091112296609e-11, -7.201092500075389e-11], [1.6132928326584302e-15, 7.201075152840629e-11, -7.20111609231466e-1...   \n",
       "21  [[7.771561172376101e-16, -2.1510571102112396e-16, -9.714451465470117e-17], [1.11022302462516e-16, -1.22124532708767e-15, -8.465450562766821e-16], [-4.23272528138341e-16, 7.97972798949331e-16, 3.26...   \n",
       "22  [[0.0, 4.5430540579483005e-10, 4.5430529477252806e-10], [5.55111512312578e-17, -4.5430531558921003e-10, -4.543053155892101e-10], [4.16333634234434e-17, 4.54305398855936e-10, -4.5430536416146694e-1...   \n",
       "23       [[0.0, 0.0, 2.77555756156289e-17], [0.0, 0.0, -1.38777878078145e-17], [0.0, -2.77555756156289e-17, 6.938893903907228e-18], [4.16333634234434e-17, -1.3877787807814497e-17, -3.46944695195361e-17]]   \n",
       "24  [[2.77555756156289e-17, 3.46944695195361e-17, -2.0816681711721697e-17], [0.0, 0.0, 2.4286128663675302e-17], [6.93889390390723e-18, -6.93889390390723e-18, -2.77555756156289e-17], [-6.93889390390723...   \n",
       "25  [[-1.11022302462516e-16, 6.938893903907223e-18, 9.71445146547012e-17], [-5.1347814888913506e-15, -2.7755575615629215e-17, -9.714451465470153e-17], [2.56392129749372e-15, -9.020562075079383e-17, -2...   \n",
       "26  [[1.11022302462516e-16, 4.857225732735061e-17, -1.387778780781449e-17], [-2.05391259555654e-15, -1.2576587429383744e-31, 2.7755575615628775e-17], [8.74300631892311e-16, 7.979727989493315e-17, 6.93...   \n",
       "27  [[0.225356420302783, -0.128983447215874, -0.420067798718964], [-0.173611062401462, 0.25815720338898, 0.154863184593469], [-0.227057984940183, -0.474223786889783, 0.25194464425342994], [0.175312627...   \n",
       "28  [[0.182077236100611, -0.09801612335535678, -0.337405217061104], [-0.142568862368197, 0.203875425397358, 0.122663465025967], [-0.183672516469359, -0.381411648338141, 0.19938723781622697], [0.144164...   \n",
       "29  [[0.131699881075496, -0.07504828740925258, -0.247386906920645], [-0.104162196827962, 0.152604871911292, 0.0923328601429073], [-0.132838120909465, -0.282497061903869, 0.14634626875759296], [0.10530...   \n",
       "30  [[0.0999406440906082, -0.045277751539999994, -0.182274000329437], [-0.082358080475496, 0.105436447174366, 0.063019813468577], [-0.100626215248894, -0.206032004399353, 0.10338032503259699], [0.0830...   \n",
       "31  [[0.0610038405730815, -0.016263140218532795, -0.104788600195969], [-0.051852620400252, 0.0532158580160214, 0.0307414832379276], [-0.0612795732440802, -0.114808222998536, 0.05602976593080999], [0.0...   \n",
       "32  [[6.6662412274556155, -12.889503394567054, -1.1353711307375043], [0.8295826259203943, 18.38162265381118, -21.020427700394176], [-7.413110119567704, -4.108082775175566, 22.260365487171974], [-0.082...   \n",
       "33  [[-4.241659874992427e-10, -6.36593039278571e-10, -8.930643688162197], [4.241719759398164e-10, 6.366031948309301e-10, -8.930643688184118], [4.2416153260545096e-10, 6.365907077578508e-10, 8.93064368...   \n",
       "34  [[8.770761894498125e-15, 3.31668144337716e-10, 3.316640642681e-10], [7.938094626110488e-15, -3.31672161957286e-10, -3.31664140595933e-10], [-7.938094626069871e-15, 3.31668904146598e-10, -3.3166411...   \n",
       "\n",
       "                                                                                                                                    stress  \\\n",
       "0      [11.712128754699998, 11.712128754895097, 11.712128754895097, 9.419605003210391e-16, 2.1221576168875112e-15, 1.3306762172773813e-15]   \n",
       "1       [11.712128754699998, 11.712128754895097, 11.712128754895097, -6.17668877427894e-15, 9.981603630033035e-16, 1.3213095734950124e-15]   \n",
       "2             [8.41591955239021, 8.41591955305308, 8.41591955305308, 3.832340082259694e-15, 6.06956658001099e-16, -2.7787796353186547e-15]   \n",
       "3             [8.41591955239025, 8.4159195530531, 8.41591955305311, -3.223186158217195e-15, 1.4682806406047737e-15, 8.528388391627427e-15]   \n",
       "4       [5.627175591864479, 5.6271755921245985, 5.627175592124589, -3.209352537114582e-17, 3.714693184285559e-16, -2.0248672610922845e-16]   \n",
       "5           [5.627175591864448, 5.627175592124568, 5.627175592124568, 9.274892365904603e-16, 2.279803072941086e-16, 2.190122440982056e-16]   \n",
       "6    [3.2720639786780197, 3.2720639790484696, 3.2720639790484696, 1.4341187446430929e-15, -1.9918976493921736e-16, 1.9816082676816464e-16]   \n",
       "7       [3.2720639786779793, 3.2720639790484496, 3.2720639790484496, 3.3207456211764376e-16, -2.211428363042688e-16, 1.68083805097611e-18]   \n",
       "8         [1.28485865993376, 1.2848586608023203, 1.2848586608023203, -7.643230381167751e-16, 6.120001298825978e-16, 4.286695828880968e-16]   \n",
       "9          [1.2848586599338, 1.28485866080234, 1.2848586608023302, -3.7938265205207465e-16, 1.7754233078770244e-15, 3.474322218441904e-15]   \n",
       "10   [-0.389310476922652, -0.389310476922653, -0.389310476922659, 1.8691109363066713e-16, 1.7848111422656519e-16, -4.3058489771983374e-16]   \n",
       "11   [-0.389310476922652, -0.389310476922653, -0.389310476922659, 1.8691109363066713e-16, 1.7848111422656519e-16, -4.3058489771983374e-16]   \n",
       "12  [-1.80542531046964, -1.8054253102550102, -1.8054253102550102, -2.1902441605153182e-16, -2.8514190158778806e-16, -4.36295254722175e-16]   \n",
       "13      [-1.80542531046962, -1.80542531025498, -1.80542531025498, 2.509354947488261e-15, -1.0937897421068227e-15, -3.6694937635125083e-16]   \n",
       "14      [-3.02862518815169, -3.02862518789669, -3.02862518789669, 2.3299367552625305e-16, -2.652732278265531e-15, -3.3934663741100803e-15]   \n",
       "15      [-3.02862518815167, -3.02862518789668, -3.02862518789669, -1.2795676643560663e-15, -1.8715090141398396e-15, -2.62311146346435e-15]   \n",
       "16     [-4.14386634506231, -4.1438663443930706, -4.1438663443930706, -3.650779833626271e-16, -2.32146943009751e-15, -2.98950553384664e-15]   \n",
       "17      [-4.14386634506234, -4.14386634439308, -4.14386634439309, -1.1126421947009476e-15, -2.878166183221792e-15, -2.750921211079092e-15]   \n",
       "18      [-5.211851409421531, -5.21185140905201, -5.21185140905201, 6.799748128508446e-16, 4.3019764529391695e-16, -4.1280029513434776e-16]   \n",
       "19    [-5.2118514094215405, -5.21185140905202, -5.21185140905202, -5.689110248206608e-16, -6.204508367335946e-15, -5.8454536890053865e-15]   \n",
       "20        [-6.22891836616987, -6.22891836579021, -6.22891836579021, -7.799193642339542e-16, 3.2364157593934345e-16, 3.542960465003595e-16]   \n",
       "21           [-6.22891836616987, -6.2289183657902, -6.2289183657902, 5.382228698896976e-16, 2.6533813385764957e-15, 5.995318109884804e-16]   \n",
       "22         [19.8773892976481, 19.877389299869403, 19.877389299869403, 7.058587802745243e-16, 4.698832668461919e-16, 1.944730224923175e-15]   \n",
       "23           [7.405525262816491, 7.405525262816491, 7.405525262816491, 4.170768058588095e-16, 2.351726328745868e-16, 4.71648057754076e-16]   \n",
       "24   [-0.389310476922652, -0.389310476922653, -0.389310476922659, 1.8691109363066713e-16, 1.7848111422656519e-16, -4.3058489771983374e-16]   \n",
       "25               [-5.048627317792, -5.048627317792, -5.048627317792, -7.005429596768481e-16, -7.00542959676848e-16, -4.50044594597965e-16]   \n",
       "26       [-8.74802976204208, -8.74802976204208, -8.74802976204209, -3.6089113640789976e-16, -4.191482017207767e-16, 1.037278431101149e-15]   \n",
       "27                  [19.9743068172098, 19.8329572584961, 20.0941552849555, 0.0530027076250183, -0.09324657850059409, -0.11333977834669277]   \n",
       "28            [7.701562077833161, 7.57032670180981, 7.7341759220164406, 0.015293994386384359, -0.08961462862465844, -0.014980043721628528]   \n",
       "29         [-0.21714803197232402, -0.290092655096784, -0.161872080261683, 0.02235895839255878, -0.06453528984643372, -0.04194741072317231]   \n",
       "30                [-4.91599321750658, -4.98051227949205, -4.84983747423767, 0.02079257242870559, -0.0700986620397873, -0.0361967018686852]   \n",
       "31            [-8.52908995905728, -8.59327181435665, -8.456325618199891, 0.01536262916053437, -0.09707271450507533, -0.014585981467048323]   \n",
       "32                   [44.0096596017906, 24.9518369114034, 84.4940164296931, -7.6500692829191905, -30.345406468544702, -15.267989362994403]   \n",
       "33            [21.009520929195602, 21.0095209359189, 84.9093652573632, 3.3801872369391006e-14, 2.47071981892858e-15, 6.17089775556354e-10]   \n",
       "34     [16.9692289329473, 16.969228934912703, 16.969228934912703, 4.7563509279130494e-15, -1.1987551120333967e-15, -3.939457323544266e-15]   \n",
       "\n",
       "    number_of_atoms  \n",
       "0                 4  \n",
       "1                 4  \n",
       "2                 4  \n",
       "3                 4  \n",
       "4                 4  \n",
       "5                 4  \n",
       "6                 4  \n",
       "7                 4  \n",
       "8                 4  \n",
       "9                 4  \n",
       "10                4  \n",
       "11                4  \n",
       "12                4  \n",
       "13                4  \n",
       "14                4  \n",
       "15                4  \n",
       "16                4  \n",
       "17                4  \n",
       "18                4  \n",
       "19                4  \n",
       "20                4  \n",
       "21                4  \n",
       "22                4  \n",
       "23                4  \n",
       "24                4  \n",
       "25                4  \n",
       "26                4  \n",
       "27                4  \n",
       "28                4  \n",
       "29                4  \n",
       "30                4  \n",
       "31                4  \n",
       "32                4  \n",
       "33                4  \n",
       "34                4  "
      ]
     },
     "execution_count": 32,
     "metadata": {},
     "output_type": "execute_result"
    }
   ],
   "source": [
    "train.to_pandas()"
   ]
  },
  {
   "cell_type": "markdown",
   "id": "c0550091-3dca-4737-aba0-90e0c6a67bed",
   "metadata": {},
   "source": [
    "## <font style=\"font-family:roboto;color:#455e6c\"> Fitting an ACE potential </font>"
   ]
  },
  {
   "cell_type": "markdown",
   "id": "8383323f-b77f-4a0f-94fa-f2d57393b5cd",
   "metadata": {},
   "source": [
    "Now that we have looked at how we create datasets for fitting, we can actually go ahead and fit an ACE potential. Note that we used an empirical potential instead of DFT before. For the fitting, we provide a very small [Al dataset](https://arxiv.org/abs/2403.05724) that can be used. This dataset is in the form of a packed pyiron project. We start by extracting it first. "
   ]
  },
  {
   "cell_type": "code",
   "execution_count": 53,
   "id": "3820621d-2421-42e3-b947-1d96818c5f47",
   "metadata": {},
   "outputs": [],
   "source": [
    "pr = Project('fitting')"
   ]
  },
  {
   "cell_type": "markdown",
   "id": "638249e1-6277-4109-8f18-d7b047f2a353",
   "metadata": {},
   "source": [
    "We will extract the 'dataset.tar.gz' file into this project"
   ]
  },
  {
   "cell_type": "code",
   "execution_count": 54,
   "id": "547186dd-1b9b-4171-a108-f9128b1a9f90",
   "metadata": {},
   "outputs": [],
   "source": [
    "pr.unpack('dataset')"
   ]
  },
  {
   "cell_type": "markdown",
   "id": "01806f7f-03fe-4873-a867-632848646cc0",
   "metadata": {},
   "source": [
    "Now we create a job for fitting"
   ]
  },
  {
   "cell_type": "code",
   "execution_count": 56,
   "id": "80df7c78-9c67-4434-824e-a4b45771a87c",
   "metadata": {},
   "outputs": [],
   "source": [
    "job = pr.create.job.PacemakerJob(\"pacemaker_job\")"
   ]
  },
  {
   "cell_type": "markdown",
   "id": "9ce6ecc6-3dae-45fa-b75e-e3cb11757b71",
   "metadata": {},
   "source": [
    "Now we add the training set we created above to this fitting job"
   ]
  },
  {
   "cell_type": "code",
   "execution_count": 57,
   "id": "b598efe6-de7b-4e3d-a480-e7c17ea0da18",
   "metadata": {},
   "outputs": [
    {
     "name": "stderr",
     "output_type": "stream",
     "text": [
      "DEBUG:pyiron_log:sql_query: {'job': 'Al_dataset', 'project': '/mnt/c/Users/menon/Documents/repos/projects-workshops/dpg_tutorial_2024/tutorial/fitting/'}\n",
      "DEBUG:pyiron_log:sql_query: {'job': 'Al_dataset', 'project': '/mnt/c/Users/menon/Documents/repos/projects-workshops/dpg_tutorial_2024/tutorial/fitting/%'}\n"
     ]
    }
   ],
   "source": [
    "training_data = pr.load('Al_dataset')"
   ]
  },
  {
   "cell_type": "code",
   "execution_count": 58,
   "id": "08c9669e-e268-4d2b-979c-6b28f3cd828f",
   "metadata": {},
   "outputs": [],
   "source": [
    "job.add_training_data(training_data)"
   ]
  },
  {
   "cell_type": "markdown",
   "id": "a76fe03e-9a43-473f-a720-0e2d60f2ebf5",
   "metadata": {},
   "source": [
    "We can now take a look at the different potential settings"
   ]
  },
  {
   "cell_type": "code",
   "execution_count": 59,
   "id": "477d4d25-7a21-48c4-9962-a6058d151400",
   "metadata": {},
   "outputs": [
    {
     "data": {
      "text/html": [
       "<div>\n",
       "<style scoped>\n",
       "    .dataframe tbody tr th:only-of-type {\n",
       "        vertical-align: middle;\n",
       "    }\n",
       "\n",
       "    .dataframe tbody tr th {\n",
       "        vertical-align: top;\n",
       "    }\n",
       "\n",
       "    .dataframe thead th {\n",
       "        text-align: right;\n",
       "    }\n",
       "</style>\n",
       "<table border=\"1\" class=\"dataframe\">\n",
       "  <thead>\n",
       "    <tr style=\"text-align: right;\">\n",
       "      <th></th>\n",
       "      <th>Parameter</th>\n",
       "      <th>Value</th>\n",
       "      <th>Comment</th>\n",
       "    </tr>\n",
       "  </thead>\n",
       "  <tbody>\n",
       "    <tr>\n",
       "      <th>0</th>\n",
       "      <td>cutoff</td>\n",
       "      <td>7.0</td>\n",
       "      <td></td>\n",
       "    </tr>\n",
       "    <tr>\n",
       "      <th>1</th>\n",
       "      <td>metadata</td>\n",
       "      <td>{'comment': 'pyiron-generated fitting job'}</td>\n",
       "      <td></td>\n",
       "    </tr>\n",
       "    <tr>\n",
       "      <th>2</th>\n",
       "      <td>data</td>\n",
       "      <td>{}</td>\n",
       "      <td></td>\n",
       "    </tr>\n",
       "    <tr>\n",
       "      <th>3</th>\n",
       "      <td>potential</td>\n",
       "      <td>{'elements': [], 'bonds': {'ALL': {'radbase': 'SBessel', 'rcut': 7.0, 'dcut': 0.01, 'radparameters': [5.25]}}, 'embeddings': {'ALL': {'fs_parameters': [1, 1, 1, 0.5], 'ndensity': 2, 'npot': 'Finni...</td>\n",
       "      <td></td>\n",
       "    </tr>\n",
       "    <tr>\n",
       "      <th>4</th>\n",
       "      <td>fit</td>\n",
       "      <td>{'loss': {'L1_coeffs': 1e-08, 'L2_coeffs': 1e-08, 'kappa': 0.3, 'w0_rad': 0, 'w1_rad': 0, 'w2_rad': 0}, 'maxiter': 1000, 'optimizer': 'BFGS', 'fit_cycles': 1}</td>\n",
       "      <td></td>\n",
       "    </tr>\n",
       "    <tr>\n",
       "      <th>5</th>\n",
       "      <td>backend</td>\n",
       "      <td>{'batch_size': 100, 'display_step': 50, 'evaluator': 'tensorpot'}</td>\n",
       "      <td></td>\n",
       "    </tr>\n",
       "  </tbody>\n",
       "</table>\n",
       "</div>"
      ],
      "text/plain": [
       "   Parameter  \\\n",
       "0     cutoff   \n",
       "1   metadata   \n",
       "2       data   \n",
       "3  potential   \n",
       "4        fit   \n",
       "5    backend   \n",
       "\n",
       "                                                                                                                                                                                                     Value  \\\n",
       "0                                                                                                                                                                                                      7.0   \n",
       "1                                                                                                                                                              {'comment': 'pyiron-generated fitting job'}   \n",
       "2                                                                                                                                                                                                       {}   \n",
       "3  {'elements': [], 'bonds': {'ALL': {'radbase': 'SBessel', 'rcut': 7.0, 'dcut': 0.01, 'radparameters': [5.25]}}, 'embeddings': {'ALL': {'fs_parameters': [1, 1, 1, 0.5], 'ndensity': 2, 'npot': 'Finni...   \n",
       "4                                           {'loss': {'L1_coeffs': 1e-08, 'L2_coeffs': 1e-08, 'kappa': 0.3, 'w0_rad': 0, 'w1_rad': 0, 'w2_rad': 0}, 'maxiter': 1000, 'optimizer': 'BFGS', 'fit_cycles': 1}   \n",
       "5                                                                                                                                        {'batch_size': 100, 'display_step': 50, 'evaluator': 'tensorpot'}   \n",
       "\n",
       "  Comment  \n",
       "0          \n",
       "1          \n",
       "2          \n",
       "3          \n",
       "4          \n",
       "5          "
      ]
     },
     "execution_count": 59,
     "metadata": {},
     "output_type": "execute_result"
    }
   ],
   "source": [
    "job.input"
   ]
  },
  {
   "cell_type": "markdown",
   "id": "4fec37b9-74a6-4478-bae4-256390dcb47b",
   "metadata": {},
   "source": [
    "The job starts with a robust set of default input parameters. Any input quantity can of course be reset. For example, an important setting is the cutoff distance. We change it to 6.0"
   ]
  },
  {
   "cell_type": "code",
   "execution_count": 60,
   "id": "b0e8b54c-2220-4d00-b907-c561ac3c94e1",
   "metadata": {},
   "outputs": [],
   "source": [
    "job.cutoff=6.0"
   ]
  },
  {
   "cell_type": "markdown",
   "id": "51e27188-226a-4cff-8893-0daacafcc16d",
   "metadata": {},
   "source": [
    "In general a (P)ACE potential specification consists of three parts:"
   ]
  },
  {
   "cell_type": "markdown",
   "id": "32b11170-4ca0-46fa-86cc-94a851c05542",
   "metadata": {},
   "source": [
    "#### 1. Embeddings\n",
    " i.e. how atomic energy $E_i$ depends on ACE properties/densities $\\varphi$. Linear expansion $E_i = \\varphi$ is the trivial. Non-linear expansion, i.e. those, containing square root, gives more flexiblity and accuracy of final potential"
   ]
  },
  {
   "cell_type": "markdown",
   "id": "0d97dd55-ffae-4829-81fc-3b5caac31d12",
   "metadata": {},
   "source": [
    "Embeddings for `ALL` species: \n",
    "- non-linear `FinnisSinclairShiftedScaled`\n",
    "- 2 densities\n",
    "- fs_parameters': [1, 1, 1, 0.5]:\n",
    "$$E_i = 1.0 * \\varphi(1)^1 + 1.0 * \\varphi(2)^{0.5} = \\varphi^{(1)} + \\sqrt{\\varphi^{(2)}} $$"
   ]
  },
  {
   "cell_type": "code",
   "execution_count": 61,
   "id": "9b736448-f8e6-4e67-96fd-7efbeb430269",
   "metadata": {},
   "outputs": [
    {
     "data": {
      "text/plain": [
       "{'ALL': {'fs_parameters': [1, 1, 1, 0.5],\n",
       "  'ndensity': 2,\n",
       "  'npot': 'FinnisSinclairShiftedScaled'}}"
      ]
     },
     "execution_count": 61,
     "metadata": {},
     "output_type": "execute_result"
    }
   ],
   "source": [
    "job.input[\"potential\"][\"embeddings\"]"
   ]
  },
  {
   "cell_type": "markdown",
   "id": "10077509-b851-486e-a66e-93240df56e3c",
   "metadata": {},
   "source": [
    "#### 2. Radial functions"
   ]
  },
  {
   "cell_type": "markdown",
   "id": "8ce86f6e-388f-4590-bbb5-5cce7cbc7c3b",
   "metadata": {},
   "source": [
    "Radial functions are orthogonal polynoms example:\n",
    "* (a) Exponentially-scaled Chebyshev polynomials (λ = 5.25)\n",
    "* (b) Power-law scaled Chebyshev polynomials (λ = 2.0)\n",
    "* (c) Simplified spherical Bessel functions"
   ]
  },
  {
   "cell_type": "markdown",
   "id": "ff3b19c2-0dca-490c-babe-3f5eb529b2ed",
   "metadata": {},
   "source": [
    "<img src=\"img/radial-functions-low.png\" width=\"300\">"
   ]
  },
  {
   "cell_type": "markdown",
   "id": "9a5a66ca-744a-44f5-8468-8480ec789ccb",
   "metadata": {},
   "source": [
    "Radial functions specification for `ALL` species pairs (i.e. Al-Al, Al-Li, Li-Al, Li-Li):\n",
    "\n",
    "* based on the Simplified Bessel\n",
    "* cutoff $r_c=6.0$"
   ]
  },
  {
   "cell_type": "code",
   "execution_count": 62,
   "id": "bb133a34-c096-4f85-bdbf-8604ca166770",
   "metadata": {},
   "outputs": [
    {
     "data": {
      "text/plain": [
       "{'ALL': {'radbase': 'SBessel',\n",
       "  'rcut': 6.0,\n",
       "  'dcut': 0.01,\n",
       "  'radparameters': [5.25]}}"
      ]
     },
     "execution_count": 62,
     "metadata": {},
     "output_type": "execute_result"
    }
   ],
   "source": [
    "job.input[\"potential\"][\"bonds\"]"
   ]
  },
  {
   "cell_type": "markdown",
   "id": "f7951d65-e3d3-46d0-b3d3-e669c5152118",
   "metadata": {},
   "source": [
    "#### 3. B-basis functions"
   ]
  },
  {
   "cell_type": "markdown",
   "id": "90d234f5-aa13-4cb6-804d-36c5832c30a1",
   "metadata": {},
   "source": [
    "B-basis functions  for `ALL` species type interactions, i.e. Al-Al block:\n",
    "* maximum order = 4, i.e. body-order 5 (1 central atom + 4 neighbour  densities)\n",
    "* nradmax_by_orders: 15, 3, 2, 1\n",
    "* lmax_by_orders: 0, 3, 2, 1"
   ]
  },
  {
   "cell_type": "code",
   "execution_count": 63,
   "id": "9dd56393-5a2f-4d42-9294-dc6445fdbabc",
   "metadata": {},
   "outputs": [
    {
     "data": {
      "text/plain": [
       "{'ALL': {'nradmax_by_orders': [15, 3, 2, 1], 'lmax_by_orders': [0, 3, 2, 1]}}"
      ]
     },
     "execution_count": 63,
     "metadata": {},
     "output_type": "execute_result"
    }
   ],
   "source": [
    "job.input[\"potential\"][\"functions\"]"
   ]
  },
  {
   "cell_type": "markdown",
   "id": "1b54cf4b-38fc-4305-aa1f-be55962ef93a",
   "metadata": {},
   "source": [
    "We will reduce the basis size for demonstartion purposes"
   ]
  },
  {
   "cell_type": "code",
   "execution_count": 64,
   "id": "e73b58e0-f8e6-4f93-8665-a5c4e5911e23",
   "metadata": {},
   "outputs": [],
   "source": [
    "job.input[\"potential\"][\"functions\"]={'ALL': {'nradmax_by_orders': [15, 3, 2], 'lmax_by_orders': [0, 2, 1]}}"
   ]
  },
  {
   "cell_type": "markdown",
   "id": "4a82e026-eee1-4963-a636-5450847a7b01",
   "metadata": {},
   "source": [
    "Loss function specification"
   ]
  },
  {
   "cell_type": "markdown",
   "id": "c0dc8464-66e9-4f8d-9c60-810d725f4d03",
   "metadata": {},
   "source": [
    "<img src=\"img/loss-func.png\" width=\"300\">"
   ]
  },
  {
   "cell_type": "markdown",
   "id": "962a057d-86ca-4bd8-b148-774213641c3f",
   "metadata": {},
   "source": [
    "<img src=\"img/loss-reg.png\" width=\"300\">"
   ]
  },
  {
   "cell_type": "code",
   "execution_count": 65,
   "id": "85d7a327-4b90-4800-b2de-d65730691e1b",
   "metadata": {},
   "outputs": [
    {
     "data": {
      "text/plain": [
       "{'L1_coeffs': 1e-08,\n",
       " 'L2_coeffs': 1e-08,\n",
       " 'kappa': 0.3,\n",
       " 'w0_rad': 0,\n",
       " 'w1_rad': 0,\n",
       " 'w2_rad': 0}"
      ]
     },
     "execution_count": 65,
     "metadata": {},
     "output_type": "execute_result"
    }
   ],
   "source": [
    "job.input[\"fit\"]['loss']"
   ]
  },
  {
   "cell_type": "markdown",
   "id": "e96209c5-afdc-4fc7-b75e-cd2ae9baa116",
   "metadata": {},
   "source": [
    "#### Weighting"
   ]
  },
  {
   "cell_type": "markdown",
   "id": "172523ca-4341-41d9-802f-878c7ff366a4",
   "metadata": {},
   "source": [
    "Energy-based weighting puts more \"accent\" onto the low energy-lying structures, close to convex hull"
   ]
  },
  {
   "cell_type": "code",
   "execution_count": 66,
   "id": "63a168cc-f1e0-4060-a968-9a841ebb8ad9",
   "metadata": {},
   "outputs": [],
   "source": [
    "job.input[\"fit\"]['weighting'] =  {\n",
    "        ## weights for the structures energies/forces are associated according to the distance to E_min:\n",
    "        ## convex hull ( energy: convex_hull) or minimal energy per atom (energy: cohesive)\n",
    "        \"type\": \"EnergyBasedWeightingPolicy\",\n",
    "        ## number of structures to randomly select from the initial dataset\n",
    "        \"nfit\": 10000,         \n",
    "        ## only the structures with energy up to E_min + DEup will be selected\n",
    "        \"DEup\": 10.0,  ## eV, upper energy range (E_min + DElow, E_min + DEup)        \n",
    "        ## only the structures with maximal force on atom  up to DFup will be selected\n",
    "        \"DFup\": 50.0, ## eV/A\n",
    "        ## lower energy range (E_min, E_min + DElow)\n",
    "        \"DElow\": 1.0,  ## eV\n",
    "        ## delta_E  shift for weights, see paper\n",
    "        \"DE\": 1.0,\n",
    "        ## delta_F  shift for weights, see paper\n",
    "        \"DF\": 1.0,\n",
    "        ## 0<wlow<1 or None: if provided, the renormalization weights of the structures on lower energy range (see DElow)\n",
    "        \"wlow\": 0.95,        \n",
    "        ##  \"convex_hull\" or \"cohesive\" : method to compute the E_min\n",
    "        \"energy\": \"convex_hull\",        \n",
    "        ## structures types: all (default), bulk or cluster\n",
    "        \"reftype\": \"all\",        \n",
    "        ## random number seed\n",
    "        \"seed\": 42 \n",
    "}"
   ]
  },
  {
   "cell_type": "markdown",
   "id": "8d1458d3-129c-4187-b5f9-f5c24af9045b",
   "metadata": {},
   "source": [
    "Maximum number of iterations by optimizer (`SciPy.minimize.BFGS`). Typical values are ~1000-1500, but we chose small value for demonstration purposes only"
   ]
  },
  {
   "cell_type": "code",
   "execution_count": 67,
   "id": "71baab83-b0e6-4f3a-ae37-7e52efe825e8",
   "metadata": {},
   "outputs": [],
   "source": [
    "job.input[\"fit\"][\"maxiter\"]=100"
   ]
  },
  {
   "cell_type": "markdown",
   "id": "c5098f5f-497b-4f55-934e-63aae029b937",
   "metadata": {},
   "source": [
    "For more details about these and other settings please refer to [official documentation](https://pacemaker.readthedocs.io/en/latest/pacemaker/inputfile/)"
   ]
  },
  {
   "cell_type": "markdown",
   "id": "069d7c58-5831-400b-9ab8-4a2e4dc4356b",
   "metadata": {},
   "source": [
    "Now we can run the fit"
   ]
  },
  {
   "cell_type": "code",
   "execution_count": 68,
   "id": "b70511f7-3882-4999-91e3-0d2ddae33c8d",
   "metadata": {
    "scrolled": true
   },
   "outputs": [
    {
     "name": "stderr",
     "output_type": "stream",
     "text": [
      "INFO:pyiron_log:run job: pacemaker_job id: None, status: initialized\n",
      "INFO:pyiron_log:run job: pacemaker_job id: 423, status: created\n",
      "INFO:pyiron_log:job: pacemaker_job id: 423, status: submitted, run job (modal)\n"
     ]
    },
    {
     "name": "stdout",
     "output_type": "stream",
     "text": [
      "Set automatically determined list of elements: ['Al']\n",
      "The job pacemaker_job was saved and received the ID: 423\n"
     ]
    },
    {
     "name": "stderr",
     "output_type": "stream",
     "text": [
      "INFO:pyiron_log:job: pacemaker_job id: 423, status: running, output: /home/srmnitc/miniconda3/envs/workshop-ml4ms-3/bin/pacemaker:8: DeprecationWarning: pkg_resources is deprecated as an API. See https://setuptools.pypa.io/en/latest/pkg_resources.html\n",
      "  import pkg_resources\n",
      "2024/05/07 13:26:53 I - Redirecting log into file log.txt\n",
      "2024/05/07 13:26:53 I - Start pacemaker\n",
      "2024/05/07 13:26:53 I - Hostname: cmleo26\n",
      "2024/05/07 13:26:53 I - Username: srmnitc\n",
      "2024/05/07 13:26:53 I - pacemaker/pyace version: 0.2.7+158.g636a42a\n",
      "2024/05/07 13:26:53 I - ace_evaluator   version: 2023.11.25\n",
      "2024/05/07 13:26:53 I - Loading input.yaml... \n",
      "2024/05/07 13:26:53 W - No 'seed' provided in YAML file, default value seed = 42 will be used.\n",
      "2024/05/07 13:26:53 I - Set numpy random seed to 42\n",
      "2024/05/07 13:26:53 I - Target potential shape constructed from dictionary, it contains 43 functions\n",
      "2024/05/07 13:26:56 I - tensorpot_version: 0+untagged.1.g8776209\n",
      "2024/05/07 13:26:56 I - User name automatically identified: srmnitc\n",
      "2024/05/07 13:26:56 I - Search for dataset file(s): ['/mnt/c/Users/menon/Documents/repos/projects-workshops/dpg_tutorial_2024/tutorial/fitting/pacemaker_job_hdf5/pacemaker_job/df_fit.pckl.gzip']\n",
      "2024/05/07 13:26:56 I - #1/1: try to load /mnt/c/Users/menon/Documents/repos/projects-workshops/dpg_tutorial_2024/tutorial/fitting/pacemaker_job_hdf5/pacemaker_job/df_fit.pckl.gzip\n",
      "2024/05/07 13:26:56 I - Loading dataframe from pickle file /mnt/c/Users/menon/Documents/repos/projects-workshops/dpg_tutorial_2024/tutorial/fitting/pacemaker_job_hdf5/pacemaker_job/df_fit.pckl.gzip (12.0KiB)\n",
      "2024/05/07 13:26:56 I -  102 structures found\n",
      "2024/05/07 13:26:56 I - Processing structures dataframe. Shape: (102, 6)\n",
      "2024/05/07 13:26:56 I - Total number of atoms: 381\n",
      "2024/05/07 13:26:56 I - Mean number of atoms per structure: 3.7\n",
      "2024/05/07 13:26:56 I - Min/max energy per atom: [-3.483, -3.458] eV/atom\n",
      "2024/05/07 13:26:56 I - Min/max abs energy per atom: [3.458, 3.483] eV/atom\n",
      "2024/05/07 13:26:56 I - Attaching SinglePointCalculator to ASE atoms...done\n",
      "2024/05/07 13:26:56 I - Construction of neighbour lists...\n",
      "2024/05/07 13:26:56 I - Building 'tp_atoms' (dataset size 102, cutoff=6.000A)...\n",
      "2024/05/07 13:26:56 I - Dataframe size after transform: 102\n",
      "2024/05/07 13:26:56 I - Construction of neighbour lists...done within 0.0327 sec (0.0859 ms/atom)\n",
      "2024/05/07 13:26:56 I - Apply weights policy: EnergyBasedWeightingPolicy(nfit=10000, n_lower=None, n_upper=None, energy=convex_hull, DElow=1.0, DEup=10.0, DFup=50.0, DE=1.0, DF=1.0, wlow=0.95, reftype=all,seed=42)\n",
      "2024/05/07 13:26:56 I - Keeping bulk and cluster data\n",
      "2024/05/07 13:26:56 I - No cutoff for EnergyBasedWeightingPolicy is provided, no structures outside cutoff that will now be removed\n",
      "2024/05/07 13:26:56 I - EnergyBasedWeightingPolicy: energy reference frame - convex hull distance (if possible)\n",
      "2024/05/07 13:26:56 I - Structure dataset: only single unique composition found, switching to cohesive energy reference\n",
      "2024/05/07 13:26:56 I - Maximal allowed on-atom force vector length is DFup = 50.000\n",
      "2024/05/07 13:26:56 I - 0 structures with higher than dFup forces are removed. Current size: 102 structures\n",
      "2024/05/07 13:26:56 I - 102 structures below DElow=1.0 eV/atom\n",
      "2024/05/07 13:26:56 I - 0 structures between DElow=1.0 eV/atom and DEup=10.0 eV/atom\n",
      "2024/05/07 13:26:56 I - all other structures were removed\n",
      "2024/05/07 13:26:56 I - 102 structures were selected\n",
      "2024/05/07 13:26:56 W - All structures were taken from low-tier, but relative weight of low-tier (wlow=0.95) is less than one. It will be adjusted to one\n",
      "2024/05/07 13:26:56 I - Setting up energy weights\n",
      "2024/05/07 13:26:56 I - Current relative energy weights: 1.000/0.000\n",
      "2024/05/07 13:26:56 I - Will be adjusted to            : 1.000/0.000\n",
      "2024/05/07 13:26:56 I - After adjustment: relative energy weights: 1.000/0.000\n",
      "2024/05/07 13:26:56 I - Setting up force weights\n",
      "2024/05/07 13:26:56 I - Dataset saved into fitting_data_info.pckl.gzip\n",
      "2024/05/07 13:26:56 I - Plotting train energy-forces distribution\n",
      "2024/05/07 13:26:57 I - Fitting dataset size: 102 structures / 381 atoms\n",
      "2024/05/07 13:26:57 I - 'Single-shot' fitting\n",
      "2024/05/07 13:26:57 I - Cycle fitting loop\n",
      "2024/05/07 13:26:57 I - Number of fit attempts: 0/1\n",
      "2024/05/07 13:26:57 I - Total number of functions: 43 / number of parameters: 221\n",
      "2024/05/07 13:26:57 I - Running fit backend\n",
      "2024/05/07 13:26:57 I - Trainable parameters: {('Al',): ['func', 'radial']}\n",
      "2024/05/07 13:26:58 I - Loss function specification: LossFunctionSpecification(kappa=0.3, L1=1e-08, L2=1e-08, DeltaRad=(0, 0, 0), w_orth=0)\n",
      "2024/05/07 13:26:58 I - Batch size: 100\n",
      "2024/05/07 13:26:58 I - Minimizer options: {'gtol': 1e-08, 'disp': True, 'maxiter': 100}\n",
      "2024/05/07 13:27:01 W - Calling GradientTape.gradient on a persistent tape inside its context is significantly less efficient than calling it outside the context (it causes the gradient ops to be recorded on the tape, leading to increased CPU and memory usage). Only call GradientTape.gradient inside the context if you actually want to trace the gradient in order to compute higher order derivatives.\n",
      "2024/05/07 13:27:09 I - Initial state:#0    (1 evals):        Loss: 8.4537e+00 | RMSE Energy(low): 3474.90 (3474.90) meV/at | Forces(low): 28.96 (28.96) meV/A | Time/eval: 29185.05 mcs/at\n",
      "2024/05/07 13:27:09 I - \n",
      "--------------------------------------------INIT STATS--------------------------------------------\n",
      "Iteration:  #0   Loss:    Total:  8.4537e+00 (100%) \n",
      "                         Energy:  8.4531e+00 (100%) \n",
      "                          Force:  6.6120e-04 (  0%) \n",
      "                             L1:  0.0000e+00 (  0%) \n",
      "                             L2:  0.0000e+00 (  0%) \n",
      "Number of params./funcs:    221/43                                   Avg. time:   29185.05 mcs/at\n",
      "-------------------------------------------------------------------------------------------------\n",
      "           Energy/at, meV/at   Energy_low/at, meV/at      Force, meV/A        Force_low, meV/A   \n",
      "   RMSE:         3474.90              3474.90                28.96                   28.96\n",
      "    MAE:         3474.90              3474.90                 3.19                    3.19\n",
      " MAX_AE:         3482.75              3482.75               340.43                  340.43\n",
      "-------------------------------------------------------------------------------------------------\n",
      "2024/05/07 13:27:10 I - Iteration   #1    (3 evals):        Loss: 8.3937e+00 | RMSE Energy(low): 3462.28 (3462.28) meV/at | Forces(low): 24.79 (24.79) meV/A | Time/eval: 244.13 mcs/at\n",
      "2024/05/07 13:27:10 I - Iteration   #2    (6 evals):        Loss: 6.1095e+00 | RMSE Energy(low): 2954.10 (2954.10) meV/at | Forces(low): 10.77 (10.77) meV/A | Time/eval: 195.84 mcs/at\n",
      "2024/05/07 13:27:10 I - Iteration   #3    (7 evals):        Loss: 4.6253e-02 | RMSE Energy(low): 220.40 (220.40) meV/at | Forces(low): 119.67 (119.67) meV/A | Time/eval: 285.72 mcs/at\n",
      "2024/05/07 13:27:10 I - Iteration   #4    (11 evals):       Loss: 1.1243e-02 | RMSE Energy(low): 49.24 (49.24) meV/at | Forces(low): 106.70 (106.70) meV/A | Time/eval: 174.22 mcs/at\n",
      "2024/05/07 13:27:11 I - Iteration   #5    (13 evals):       Loss: 4.5352e-03 | RMSE Energy(low): 61.34 (61.34) meV/at | Forces(low): 49.36 (49.36) meV/A | Time/eval: 182.38 mcs/at\n",
      "2024/05/07 13:27:11 I - Iteration   #6    (15 evals):       Loss: 1.8318e-03 | RMSE Energy(low): 22.75 (22.75) meV/at | Forces(low): 42.17 (42.17) meV/A | Time/eval: 170.72 mcs/at\n",
      "2024/05/07 13:27:11 I - Iteration   #7    (17 evals):       Loss: 5.2118e-04 | RMSE Energy(low): 18.75 (18.75) meV/at | Forces(low): 17.81 (17.81) meV/A | Time/eval: 215.36 mcs/at\n",
      "2024/05/07 13:27:11 I - Iteration   #8    (20 evals):       Loss: 4.1008e-04 | RMSE Energy(low): 14.46 (14.46) meV/at | Forces(low): 17.40 (17.40) meV/A | Time/eval: 174.25 mcs/at\n",
      "2024/05/07 13:27:11 I - Iteration   #9    (21 evals):       Loss: 2.6342e-04 | RMSE Energy(low): 10.95 (10.95) meV/at | Forces(low): 14.45 (14.45) meV/A | Time/eval: 226.23 mcs/at\n",
      "2024/05/07 13:27:12 I - Iteration   #10   (22 evals):       Loss: 1.1883e-04 | RMSE Energy(low): 9.09 (9.09) meV/at | Forces(low): 8.43 (8.43) meV/A | Time/eval: 219.49 mcs/at\n",
      "2024/05/07 13:27:12 I - Iteration   #11   (23 evals):       Loss: 8.3420e-05 | RMSE Energy(low): 7.79 (7.79) meV/at | Forces(low): 6.91 (6.91) meV/A | Time/eval: 279.70 mcs/at\n",
      "2024/05/07 13:27:12 I - Iteration   #12   (24 evals):       Loss: 6.6541e-05 | RMSE Energy(low): 7.43 (7.43) meV/at | Forces(low): 5.73 (5.73) meV/A | Time/eval: 188.23 mcs/at\n",
      "2024/05/07 13:27:12 I - Iteration   #13   (25 evals):       Loss: 6.4090e-05 | RMSE Energy(low): 7.45 (7.45) meV/at | Forces(low): 5.45 (5.45) meV/A | Time/eval: 267.59 mcs/at\n",
      "2024/05/07 13:27:12 I - Iteration   #14   (26 evals):       Loss: 5.9975e-05 | RMSE Energy(low): 7.33 (7.33) meV/at | Forces(low): 5.13 (5.13) meV/A | Time/eval: 321.83 mcs/at\n",
      "2024/05/07 13:27:12 I - Iteration   #15   (27 evals):       Loss: 5.3034e-05 | RMSE Energy(low): 6.99 (6.99) meV/at | Forces(low): 4.72 (4.72) meV/A | Time/eval: 216.16 mcs/at\n",
      "2024/05/07 13:27:12 I - Iteration   #16   (28 evals):       Loss: 4.1545e-05 | RMSE Energy(low): 6.19 (6.19) meV/at | Forces(low): 4.17 (4.17) meV/A | Time/eval: 191.43 mcs/at\n",
      "2024/05/07 13:27:13 I - Iteration   #17   (29 evals):       Loss: 2.6597e-05 | RMSE Energy(low): 4.83 (4.83) meV/at | Forces(low): 3.48 (3.48) meV/A | Time/eval: 253.81 mcs/at\n",
      "2024/05/07 13:27:13 I - Iteration   #18   (31 evals):       Loss: 2.3096e-05 | RMSE Energy(low): 4.42 (4.42) meV/at | Forces(low): 3.32 (3.32) meV/A | Time/eval: 178.08 mcs/at\n",
      "2024/05/07 13:27:13 I - Iteration   #19   (32 evals):       Loss: 1.8544e-05 | RMSE Energy(low): 3.89 (3.89) meV/at | Forces(low): 3.05 (3.05) meV/A | Time/eval: 242.74 mcs/at\n",
      "2024/05/07 13:27:13 I - Iteration   #20   (33 evals):       Loss: 1.7159e-05 | RMSE Energy(low): 3.73 (3.73) meV/at | Forces(low): 2.95 (2.95) meV/A | Time/eval: 229.40 mcs/at\n",
      "2024/05/07 13:27:13 I - Iteration   #21   (34 evals):       Loss: 1.6856e-05 | RMSE Energy(low): 3.65 (3.65) meV/at | Forces(low): 2.97 (2.97) meV/A | Time/eval: 256.81 mcs/at\n",
      "2024/05/07 13:27:13 I - Iteration   #22   (35 evals):       Loss: 1.6561e-05 | RMSE Energy(low): 3.58 (3.58) meV/at | Forces(low): 2.98 (2.98) meV/A | Time/eval: 203.23 mcs/at\n",
      "2024/05/07 13:27:13 I - Iteration   #23   (36 evals):       Loss: 1.6028e-05 | RMSE Energy(low): 3.47 (3.47) meV/at | Forces(low): 2.98 (2.98) meV/A | Time/eval: 249.92 mcs/at\n",
      "2024/05/07 13:27:13 I - Iteration   #24   (37 evals):       Loss: 1.5063e-05 | RMSE Energy(low): 3.29 (3.29) meV/at | Forces(low): 2.95 (2.95) meV/A | Time/eval: 233.12 mcs/at\n",
      "2024/05/07 13:27:14 I - Iteration   #25   (38 evals):       Loss: 1.3468e-05 | RMSE Energy(low): 3.02 (3.02) meV/at | Forces(low): 2.87 (2.87) meV/A | Time/eval: 229.83 mcs/at\n",
      "2024/05/07 13:27:14 I - Iteration   #26   (39 evals):       Loss: 1.1344e-05 | RMSE Energy(low): 2.73 (2.73) meV/at | Forces(low): 2.66 (2.66) meV/A | Time/eval: 265.99 mcs/at\n",
      "2024/05/07 13:27:14 I - Iteration   #27   (40 evals):       Loss: 8.5824e-06 | RMSE Energy(low): 2.36 (2.36) meV/at | Forces(low): 2.33 (2.33) meV/A | Time/eval: 263.48 mcs/at\n",
      "2024/05/07 13:27:14 I - Iteration   #28   (42 evals):       Loss: 7.6232e-06 | RMSE Energy(low): 2.31 (2.31) meV/at | Forces(low): 2.13 (2.13) meV/A | Time/eval: 207.78 mcs/at\n",
      "2024/05/07 13:27:14 I - Iteration   #29   (43 evals):       Loss: 6.8110e-06 | RMSE Energy(low): 2.44 (2.44) meV/at | Forces(low): 1.76 (1.76) meV/A | Time/eval: 294.49 mcs/at\n",
      "2024/05/07 13:27:14 I - Iteration   #30   (44 evals):       Loss: 6.7683e-06 | RMSE Energy(low): 2.42 (2.42) meV/at | Forces(low): 1.77 (1.77) meV/A | Time/eval: 214.34 mcs/at\n",
      "2024/05/07 13:27:14 I - Iteration   #31   (45 evals):       Loss: 6.7474e-06 | RMSE Energy(low): 2.39 (2.39) meV/at | Forces(low): 1.79 (1.79) meV/A | Time/eval: 273.82 mcs/at\n",
      "2024/05/07 13:27:15 I - Iteration   #32   (46 evals):       Loss: 6.7330e-06 | RMSE Energy(low): 2.39 (2.39) meV/at | Forces(low): 1.78 (1.78) meV/A | Time/eval: 197.31 mcs/at\n",
      "2024/05/07 13:27:15 I - Iteration   #33   (47 evals):       Loss: 6.7056e-06 | RMSE Energy(low): 2.39 (2.39) meV/at | Forces(low): 1.77 (1.77) meV/A | Time/eval: 248.52 mcs/at\n",
      "2024/05/07 13:27:15 I - Iteration   #34   (48 evals):       Loss: 6.6529e-06 | RMSE Energy(low): 2.39 (2.39) meV/at | Forces(low): 1.76 (1.76) meV/A | Time/eval: 269.50 mcs/at\n",
      "2024/05/07 13:27:15 I - Iteration   #35   (49 evals):       Loss: 6.5540e-06 | RMSE Energy(low): 2.37 (2.37) meV/at | Forces(low): 1.74 (1.74) meV/A | Time/eval: 235.73 mcs/at\n",
      "2024/05/07 13:27:15 I - Iteration   #36   (50 evals):       Loss: 6.3753e-06 | RMSE Energy(low): 2.34 (2.34) meV/at | Forces(low): 1.72 (1.72) meV/A | Time/eval: 201.01 mcs/at\n",
      "2024/05/07 13:27:15 I - Iteration   #37   (51 evals):       Loss: 6.0822e-06 | RMSE Energy(low): 2.28 (2.28) meV/at | Forces(low): 1.69 (1.69) meV/A | Time/eval: 264.02 mcs/at\n",
      "2024/05/07 13:27:15 I - Iteration   #38   (52 evals):       Loss: 5.9114e-06 | RMSE Energy(low): 2.24 (2.24) meV/at | Forces(low): 1.67 (1.67) meV/A | Time/eval: 215.10 mcs/at\n",
      "2024/05/07 13:27:15 I - Iteration   #39   (53 evals):       Loss: 5.8168e-06 | RMSE Energy(low): 2.28 (2.28) meV/at | Forces(low): 1.60 (1.60) meV/A | Time/eval: 247.85 mcs/at\n",
      "2024/05/07 13:27:16 I - Iteration   #40   (54 evals):       Loss: 5.7717e-06 | RMSE Energy(low): 2.26 (2.26) meV/at | Forces(low): 1.60 (1.60) meV/A | Time/eval: 237.58 mcs/at\n",
      "2024/05/07 13:27:16 I - Iteration   #41   (55 evals):       Loss: 5.7357e-06 | RMSE Energy(low): 2.27 (2.27) meV/at | Forces(low): 1.58 (1.58) meV/A | Time/eval: 240.20 mcs/at\n",
      "2024/05/07 13:27:16 I - Iteration   #42   (56 evals):       Loss: 5.7214e-06 | RMSE Energy(low): 2.27 (2.27) meV/at | Forces(low): 1.57 (1.57) meV/A | Time/eval: 284.01 mcs/at\n",
      "2024/05/07 13:27:16 I - Iteration   #43   (57 evals):       Loss: 5.6977e-06 | RMSE Energy(low): 2.28 (2.28) meV/at | Forces(low): 1.56 (1.56) meV/A | Time/eval: 249.29 mcs/at\n",
      "2024/05/07 13:27:16 I - Iteration   #44   (58 evals):       Loss: 5.6566e-06 | RMSE Energy(low): 2.28 (2.28) meV/at | Forces(low): 1.54 (1.54) meV/A | Time/eval: 268.64 mcs/at\n",
      "2024/05/07 13:27:16 I - Iteration   #45   (59 evals):       Loss: 5.5844e-06 | RMSE Energy(low): 2.28 (2.28) meV/at | Forces(low): 1.51 (1.51) meV/A | Time/eval: 199.90 mcs/at\n",
      "2024/05/07 13:27:16 I - Iteration   #46   (60 evals):       Loss: 5.4586e-06 | RMSE Energy(low): 2.28 (2.28) meV/at | Forces(low): 1.47 (1.47) meV/A | Time/eval: 239.16 mcs/at\n",
      "2024/05/07 13:27:17 I - Iteration   #47   (61 evals):       Loss: 5.2635e-06 | RMSE Energy(low): 2.27 (2.27) meV/at | Forces(low): 1.40 (1.40) meV/A | Time/eval: 258.56 mcs/at\n",
      "2024/05/07 13:27:17 I - Iteration   #48   (62 evals):       Loss: 5.1080e-06 | RMSE Energy(low): 2.27 (2.27) meV/at | Forces(low): 1.33 (1.33) meV/A | Time/eval: 256.03 mcs/at\n",
      "2024/05/07 13:27:17 I - Iteration   #49   (63 evals):       Loss: 4.8423e-06 | RMSE Energy(low): 2.20 (2.20) meV/at | Forces(low): 1.31 (1.31) meV/A | Time/eval: 214.35 mcs/at\n",
      "2024/05/07 13:27:17 I - \n",
      "--------------------------------------------FIT STATS--------------------------------------------\n",
      "Iteration:  #50  Loss:    Total:  4.4284e-06 (100%) \n",
      "                         Energy:  2.9561e-06 ( 67%) \n",
      "                          Force:  1.4592e-06 ( 33%) \n",
      "                             L1:  1.2463e-08 (  0%) \n",
      "                             L2:  6.0104e-10 (  0%) \n",
      "Number of params./funcs:    221/43                                   Avg. time:     235.52 mcs/at\n",
      "-------------------------------------------------------------------------------------------------\n",
      "           Energy/at, meV/at   Energy_low/at, meV/at      Force, meV/A        Force_low, meV/A   \n",
      "   RMSE:            2.08                 2.08                 1.29                    1.29\n",
      "    MAE:            1.21                 1.21                 0.30                    0.30\n",
      " MAX_AE:           10.88                10.88                16.91                   16.91\n",
      "-------------------------------------------------------------------------------------------------\n",
      "2024/05/07 13:27:17 I - Last relative TRAIN loss change -8.55e-02/iter (averaged over last 1 step(s))\n",
      "2024/05/07 13:27:17 I - Iteration   #51   (65 evals):       Loss: 4.0935e-06 | RMSE Energy(low): 1.93 (1.93) meV/at | Forces(low): 1.31 (1.31) meV/A | Time/eval: 219.66 mcs/at\n",
      "2024/05/07 13:27:17 I - Iteration   #52   (66 evals):       Loss: 3.9205e-06 | RMSE Energy(low): 1.91 (1.91) meV/at | Forces(low): 1.27 (1.27) meV/A | Time/eval: 242.80 mcs/at\n",
      "2024/05/07 13:27:17 I - Iteration   #53   (67 evals):       Loss: 3.7068e-06 | RMSE Energy(low): 1.83 (1.83) meV/at | Forces(low): 1.26 (1.26) meV/A | Time/eval: 255.62 mcs/at\n",
      "2024/05/07 13:27:17 I - Iteration   #54   (68 evals):       Loss: 3.5395e-06 | RMSE Energy(low): 1.82 (1.82) meV/at | Forces(low): 1.20 (1.20) meV/A | Time/eval: 222.62 mcs/at\n",
      "2024/05/07 13:27:18 I - Iteration   #55   (69 evals):       Loss: 3.3313e-06 | RMSE Energy(low): 1.81 (1.81) meV/at | Forces(low): 1.11 (1.11) meV/A | Time/eval: 237.85 mcs/at\n",
      "2024/05/07 13:27:18 I - Iteration   #56   (70 evals):       Loss: 3.1257e-06 | RMSE Energy(low): 1.74 (1.74) meV/at | Forces(low): 1.09 (1.09) meV/A | Time/eval: 271.80 mcs/at\n",
      "2024/05/07 13:27:18 I - Iteration   #57   (71 evals):       Loss: 2.9801e-06 | RMSE Energy(low): 1.68 (1.68) meV/at | Forces(low): 1.08 (1.08) meV/A | Time/eval: 173.19 mcs/at\n",
      "2024/05/07 13:27:18 I - Iteration   #58   (72 evals):       Loss: 2.8289e-06 | RMSE Energy(low): 1.60 (1.60) meV/at | Forces(low): 1.09 (1.09) meV/A | Time/eval: 233.87 mcs/at\n",
      "2024/05/07 13:27:18 I - Iteration   #59   (73 evals):       Loss: 2.7761e-06 | RMSE Energy(low): 1.52 (1.52) meV/at | Forces(low): 1.15 (1.15) meV/A | Time/eval: 225.05 mcs/at\n",
      "2024/05/07 13:27:18 I - Iteration   #60   (74 evals):       Loss: 2.7526e-06 | RMSE Energy(low): 1.52 (1.52) meV/at | Forces(low): 1.14 (1.14) meV/A | Time/eval: 239.26 mcs/at\n",
      "2024/05/07 13:27:18 I - Iteration   #61   (75 evals):       Loss: 2.7251e-06 | RMSE Energy(low): 1.51 (1.51) meV/at | Forces(low): 1.14 (1.14) meV/A | Time/eval: 265.05 mcs/at\n",
      "2024/05/07 13:27:18 I - Iteration   #62   (76 evals):       Loss: 2.7158e-06 | RMSE Energy(low): 1.49 (1.49) meV/at | Forces(low): 1.15 (1.15) meV/A | Time/eval: 205.28 mcs/at\n",
      "2024/05/07 13:27:19 I - Iteration   #63   (77 evals):       Loss: 2.7035e-06 | RMSE Energy(low): 1.49 (1.49) meV/at | Forces(low): 1.15 (1.15) meV/A | Time/eval: 216.55 mcs/at\n",
      "2024/05/07 13:27:19 I - Iteration   #64   (78 evals):       Loss: 2.6827e-06 | RMSE Energy(low): 1.47 (1.47) meV/at | Forces(low): 1.15 (1.15) meV/A | Time/eval: 236.37 mcs/at\n",
      "2024/05/07 13:27:19 I - Iteration   #65   (79 evals):       Loss: 2.6483e-06 | RMSE Energy(low): 1.46 (1.46) meV/at | Forces(low): 1.15 (1.15) meV/A | Time/eval: 201.59 mcs/at\n",
      "2024/05/07 13:27:19 I - Iteration   #66   (80 evals):       Loss: 2.5873e-06 | RMSE Energy(low): 1.44 (1.44) meV/at | Forces(low): 1.14 (1.14) meV/A | Time/eval: 235.49 mcs/at\n",
      "2024/05/07 13:27:19 I - Iteration   #67   (81 evals):       Loss: 2.4790e-06 | RMSE Energy(low): 1.41 (1.41) meV/at | Forces(low): 1.12 (1.12) meV/A | Time/eval: 204.39 mcs/at\n",
      "2024/05/07 13:27:19 I - Iteration   #68   (82 evals):       Loss: 2.2950e-06 | RMSE Energy(low): 1.36 (1.36) meV/at | Forces(low): 1.07 (1.07) meV/A | Time/eval: 212.67 mcs/at\n",
      "2024/05/07 13:27:19 I - Iteration   #69   (83 evals):       Loss: 2.0441e-06 | RMSE Energy(low): 1.31 (1.31) meV/at | Forces(low): 0.99 (0.99) meV/A | Time/eval: 267.41 mcs/at\n",
      "2024/05/07 13:27:19 I - Iteration   #70   (85 evals):       Loss: 1.9219e-06 | RMSE Energy(low): 1.25 (1.25) meV/at | Forces(low): 0.97 (0.97) meV/A | Time/eval: 167.03 mcs/at\n",
      "2024/05/07 13:27:20 I - Iteration   #71   (86 evals):       Loss: 1.7269e-06 | RMSE Energy(low): 1.23 (1.23) meV/at | Forces(low): 0.88 (0.88) meV/A | Time/eval: 225.58 mcs/at\n",
      "2024/05/07 13:27:20 I - Iteration   #72   (87 evals):       Loss: 1.5109e-06 | RMSE Energy(low): 1.19 (1.19) meV/at | Forces(low): 0.77 (0.77) meV/A | Time/eval: 234.19 mcs/at\n",
      "2024/05/07 13:27:20 I - Iteration   #73   (88 evals):       Loss: 1.3063e-06 | RMSE Energy(low): 1.07 (1.07) meV/at | Forces(low): 0.76 (0.76) meV/A | Time/eval: 250.00 mcs/at\n",
      "2024/05/07 13:27:20 I - Iteration   #74   (89 evals):       Loss: 1.2480e-06 | RMSE Energy(low): 0.98 (0.98) meV/at | Forces(low): 0.81 (0.81) meV/A | Time/eval: 260.89 mcs/at\n",
      "2024/05/07 13:27:20 I - Iteration   #75   (90 evals):       Loss: 1.1514e-06 | RMSE Energy(low): 0.94 (0.94) meV/at | Forces(low): 0.77 (0.77) meV/A | Time/eval: 243.23 mcs/at\n",
      "2024/05/07 13:27:20 I - Iteration   #76   (91 evals):       Loss: 1.0527e-06 | RMSE Energy(low): 0.92 (0.92) meV/at | Forces(low): 0.71 (0.71) meV/A | Time/eval: 230.73 mcs/at\n",
      "2024/05/07 13:27:20 I - Iteration   #77   (92 evals):       Loss: 1.0423e-06 | RMSE Energy(low): 0.91 (0.91) meV/at | Forces(low): 0.72 (0.72) meV/A | Time/eval: 215.91 mcs/at\n",
      "2024/05/07 13:27:20 I - Iteration   #78   (93 evals):       Loss: 1.0252e-06 | RMSE Energy(low): 0.90 (0.90) meV/at | Forces(low): 0.72 (0.72) meV/A | Time/eval: 216.56 mcs/at\n",
      "2024/05/07 13:27:21 I - Iteration   #79   (94 evals):       Loss: 1.0065e-06 | RMSE Energy(low): 0.89 (0.89) meV/at | Forces(low): 0.71 (0.71) meV/A | Time/eval: 278.94 mcs/at\n",
      "2024/05/07 13:27:21 I - Iteration   #80   (95 evals):       Loss: 9.9669e-07 | RMSE Energy(low): 0.89 (0.89) meV/at | Forces(low): 0.70 (0.70) meV/A | Time/eval: 228.24 mcs/at\n",
      "2024/05/07 13:27:21 I - Iteration   #81   (96 evals):       Loss: 9.7936e-07 | RMSE Energy(low): 0.89 (0.89) meV/at | Forces(low): 0.69 (0.69) meV/A | Time/eval: 208.28 mcs/at\n",
      "2024/05/07 13:27:21 I - Iteration   #82   (97 evals):       Loss: 9.5249e-07 | RMSE Energy(low): 0.88 (0.88) meV/at | Forces(low): 0.67 (0.67) meV/A | Time/eval: 256.85 mcs/at\n",
      "2024/05/07 13:27:21 I - Iteration   #83   (98 evals):       Loss: 9.3556e-07 | RMSE Energy(low): 0.87 (0.87) meV/at | Forces(low): 0.67 (0.67) meV/A | Time/eval: 266.64 mcs/at\n",
      "2024/05/07 13:27:21 I - Iteration   #84   (99 evals):       Loss: 9.3201e-07 | RMSE Energy(low): 0.87 (0.87) meV/at | Forces(low): 0.67 (0.67) meV/A | Time/eval: 229.63 mcs/at\n",
      "2024/05/07 13:27:21 I - Iteration   #85   (100 evals):      Loss: 9.2862e-07 | RMSE Energy(low): 0.87 (0.87) meV/at | Forces(low): 0.67 (0.67) meV/A | Time/eval: 215.32 mcs/at\n",
      "2024/05/07 13:27:21 I - Iteration   #86   (101 evals):      Loss: 9.2617e-07 | RMSE Energy(low): 0.87 (0.87) meV/at | Forces(low): 0.67 (0.67) meV/A | Time/eval: 202.84 mcs/at\n",
      "2024/05/07 13:27:22 I - Iteration   #87   (102 evals):      Loss: 9.2167e-07 | RMSE Energy(low): 0.86 (0.86) meV/at | Forces(low): 0.67 (0.67) meV/A | Time/eval: 235.67 mcs/at\n",
      "2024/05/07 13:27:22 I - Iteration   #88   (103 evals):      Loss: 9.1324e-07 | RMSE Energy(low): 0.86 (0.86) meV/at | Forces(low): 0.66 (0.66) meV/A | Time/eval: 229.46 mcs/at\n",
      "2024/05/07 13:27:22 I - Iteration   #89   (104 evals):      Loss: 8.9753e-07 | RMSE Energy(low): 0.84 (0.84) meV/at | Forces(low): 0.66 (0.66) meV/A | Time/eval: 269.65 mcs/at\n",
      "2024/05/07 13:27:22 I - Iteration   #90   (105 evals):      Loss: 8.6915e-07 | RMSE Energy(low): 0.82 (0.82) meV/at | Forces(low): 0.66 (0.66) meV/A | Time/eval: 204.94 mcs/at\n",
      "2024/05/07 13:27:22 I - Iteration   #91   (106 evals):      Loss: 8.2284e-07 | RMSE Energy(low): 0.78 (0.78) meV/at | Forces(low): 0.66 (0.66) meV/A | Time/eval: 219.34 mcs/at\n",
      "2024/05/07 13:27:22 I - Iteration   #92   (107 evals):      Loss: 7.7923e-07 | RMSE Energy(low): 0.75 (0.75) meV/at | Forces(low): 0.65 (0.65) meV/A | Time/eval: 252.90 mcs/at\n",
      "2024/05/07 13:27:22 I - Iteration   #93   (108 evals):      Loss: 7.5785e-07 | RMSE Energy(low): 0.74 (0.74) meV/at | Forces(low): 0.64 (0.64) meV/A | Time/eval: 225.81 mcs/at\n",
      "2024/05/07 13:27:22 I - Iteration   #94   (109 evals):      Loss: 7.4490e-07 | RMSE Energy(low): 0.73 (0.73) meV/at | Forces(low): 0.64 (0.64) meV/A | Time/eval: 249.44 mcs/at\n",
      "2024/05/07 13:27:23 I - Iteration   #95   (110 evals):      Loss: 7.4028e-07 | RMSE Energy(low): 0.74 (0.74) meV/at | Forces(low): 0.63 (0.63) meV/A | Time/eval: 201.43 mcs/at\n",
      "2024/05/07 13:27:23 I - Iteration   #96   (111 evals):      Loss: 7.3644e-07 | RMSE Energy(low): 0.73 (0.73) meV/at | Forces(low): 0.63 (0.63) meV/A | Time/eval: 247.54 mcs/at\n",
      "2024/05/07 13:27:23 I - Iteration   #97   (112 evals):      Loss: 7.3375e-07 | RMSE Energy(low): 0.74 (0.74) meV/at | Forces(low): 0.62 (0.62) meV/A | Time/eval: 254.56 mcs/at\n",
      "2024/05/07 13:27:23 I - Iteration   #98   (113 evals):      Loss: 7.3191e-07 | RMSE Energy(low): 0.74 (0.74) meV/at | Forces(low): 0.62 (0.62) meV/A | Time/eval: 232.34 mcs/at\n",
      "2024/05/07 13:27:23 I - Iteration   #99   (114 evals):      Loss: 7.2864e-07 | RMSE Energy(low): 0.74 (0.74) meV/at | Forces(low): 0.62 (0.62) meV/A | Time/eval: 216.64 mcs/at\n",
      "2024/05/07 13:27:23 I - \n",
      "--------------------------------------------FIT STATS--------------------------------------------\n",
      "Iteration:  #100 Loss:    Total:  7.2267e-07 (100%) \n",
      "                         Energy:  3.7431e-07 ( 52%) \n",
      "                          Force:  3.3350e-07 ( 46%) \n",
      "                             L1:  1.4191e-08 (  2%) \n",
      "                             L2:  6.7347e-10 (  0%) \n",
      "Number of params./funcs:    221/43                                   Avg. time:     218.47 mcs/at\n",
      "-------------------------------------------------------------------------------------------------\n",
      "           Energy/at, meV/at   Energy_low/at, meV/at      Force, meV/A        Force_low, meV/A   \n",
      "   RMSE:            0.74                 0.74                 0.61                    0.61\n",
      "    MAE:            0.53                 0.53                 0.17                    0.17\n",
      " MAX_AE:            2.88                 2.88                 9.04                    9.04\n",
      "-------------------------------------------------------------------------------------------------\n",
      "2024/05/07 13:27:23 I - Last relative TRAIN loss change -8.20e-03/iter (averaged over last 1 step(s))\n",
      "/home/srmnitc/miniconda3/envs/workshop-ml4ms-3/lib/python3.11/site-packages/scipy/optimize/_minimize.py:708: OptimizeWarning: Maximum number of iterations has been exceeded.\n",
      "  res = _minimize_bfgs(fun, x0, args, jac, callback, **options)\n",
      "2024/05/07 13:27:23 I - Optimization result(success=False, status=1, message=Maximum number of iterations has been exceeded., nfev=115, njev=115)\n",
      "2024/05/07 13:27:23 I - Fitting cycle finished, final statistic:\n",
      "2024/05/07 13:27:23 I - \n",
      "--------------------------------------------Cycle last iteration:--------------------------------------------\n",
      "Iteration:  #101 Loss:    Total:  7.2267e-07 (100%) \n",
      "                         Energy:  3.7431e-07 ( 52%) \n",
      "                          Force:  3.3350e-07 ( 46%) \n",
      "                             L1:  1.4191e-08 (  2%) \n",
      "                             L2:  6.7347e-10 (  0%) \n",
      "Number of params./funcs:    221/43                                   Avg. time:     218.47 mcs/at\n",
      "-------------------------------------------------------------------------------------------------\n",
      "           Energy/at, meV/at   Energy_low/at, meV/at      Force, meV/A        Force_low, meV/A   \n",
      "   RMSE:            0.74                 0.74                 0.61                    0.61\n",
      "    MAE:            0.53                 0.53                 0.17                    0.17\n",
      " MAX_AE:            2.88                 2.88                 9.04                    9.04\n",
      "-------------------------------------------------------------------------------------------------\n",
      "2024/05/07 13:27:23 D - Update current_bbasisconfig.metadata = MapStringString{_fit_cycles: 1, _loss: 7.226713123120002e-07, ace_evaluator_version: 2023.11.25, pacemaker_version: 0.2.7+158.g636a42a, starttime: 2024-05-07 13:26:56.254585, tensorpot_version: 0+untagged.1.g8776209, user: srmnitc}\n",
      "2024/05/07 13:27:23 I - Select best fit #1 among all available (1)\n",
      "2024/05/07 13:27:23 I - Best fitting attempt is #1\n",
      "2024/05/07 13:27:23 I - Intermediate potential saved in interim_potential_best_cycle.yaml\n",
      "2024/05/07 13:27:23 I - Fitting done\n",
      "2024/05/07 13:27:23 D - Update metadata: MapStringString{_loss: 7.226713123120002e-07, ace_evaluator_version: 2023.11.25, intermediate_time: 2024-05-07 13:27:23.889247, pacemaker_version: 0.2.7+158.g636a42a, starttime: 2024-05-07 13:26:56.254585, tensorpot_version: 0+untagged.1.g8776209, user: srmnitc}\n",
      "2024/05/07 13:27:23 I - Final potential is saved to output_potential.yaml\n",
      "2024/05/07 13:27:23 I - Making predictions\n",
      "2024/05/07 13:27:23 I - For train data\n",
      "2024/05/07 13:27:27 I - Computing nearest neighbours distances from 'tp_atoms'\n",
      "2024/05/07 13:27:27 I - Predictions are saved into train_pred.pckl.gzip (13.8KiB)\n",
      "2024/05/07 13:27:27 I - Ploting validation graphs\n",
      "         Current function value: 0.000001\n",
      "         Iterations: 100\n",
      "         Function evaluations: 115\n",
      "         Gradient evaluations: 115\n",
      "Fitting took  25.16 seconds\n",
      "2024-05-07 13:27:31,534 - numexpr.utils - INFO - NumExpr defaulting to 8 threads.\n",
      "Loading B-basis from 'output_potential.yaml'\n",
      "Converting to Ctilde-basis\n",
      "Saving Ctilde-basis to 'output_potential.yace'\n",
      "\n",
      "INFO:pyiron_log:run job: pacemaker_job id: 423, status: collect\n",
      "INFO:pyiron_log:update master: None 423 modal\n"
     ]
    }
   ],
   "source": [
    "job.run()"
   ]
  },
  {
   "cell_type": "markdown",
   "id": "8452c315-cb29-4d82-a578-87d1a7bd8a51",
   "metadata": {},
   "source": [
    "Take a look at the fitting results"
   ]
  },
  {
   "cell_type": "code",
   "execution_count": 69,
   "id": "bbfd6668-157e-41d2-9e55-045c4175d14b",
   "metadata": {},
   "outputs": [
    {
     "data": {
      "image/png": "[encoded data removed]",
      "text/plain": [
       "<Figure size 640x480 with 1 Axes>"
      ]
     },
     "metadata": {},
     "output_type": "display_data"
    }
   ],
   "source": [
    "plt.plot(job[\"output/log/loss\"])\n",
    "plt.xlabel(\"# iter\")\n",
    "plt.ylabel(\"Loss\")\n",
    "plt.loglog();"
   ]
  },
  {
   "cell_type": "markdown",
   "id": "206b4931-94a3-47e6-b672-3cad412d4282",
   "metadata": {},
   "source": [
    "plot RMSE values of energy per atom"
   ]
  },
  {
   "cell_type": "code",
   "execution_count": 70,
   "id": "104c200c-efb6-42cf-b526-45d80220525e",
   "metadata": {},
   "outputs": [
    {
     "data": {
      "image/png": "[encoded data removed]",
      "text/plain": [
       "<Figure size 640x480 with 1 Axes>"
      ]
     },
     "metadata": {},
     "output_type": "display_data"
    }
   ],
   "source": [
    "plt.plot(job[\"output/log/rmse_epa\"])\n",
    "plt.xlabel(\"# iter\")\n",
    "plt.ylabel(\"RMSE E, eV/atom\")\n",
    "plt.loglog();"
   ]
  },
  {
   "cell_type": "markdown",
   "id": "859a6b75-7d96-4427-9150-b3493852fb6c",
   "metadata": {},
   "source": [
    "As we see, the really small potential we fit, has already reached meV accuracy!"
   ]
  },
  {
   "cell_type": "markdown",
   "id": "93472bbc-1fc5-415f-bb15-6ae0bba7b1ae",
   "metadata": {},
   "source": [
    "plot force component RMSE"
   ]
  },
  {
   "cell_type": "code",
   "execution_count": 71,
   "id": "97ca17a0-2efb-421a-bd52-384e542994cc",
   "metadata": {},
   "outputs": [
    {
     "data": {
      "image/png": "[encoded data removed]",
      "text/plain": [
       "<Figure size 640x480 with 1 Axes>"
      ]
     },
     "metadata": {},
     "output_type": "display_data"
    }
   ],
   "source": [
    "plt.plot(job[\"output/log/rmse_f_comp\"])\n",
    "plt.xlabel(\"# iter\")\n",
    "plt.ylabel(\"RMSE F_i, eV/A\")\n",
    "plt.loglog();"
   ]
  },
  {
   "cell_type": "markdown",
   "id": "e8f51d3f-e894-4629-bc53-2453268ac26e",
   "metadata": {},
   "source": [
    "load DataFrame with predictions of energy"
   ]
  },
  {
   "cell_type": "code",
   "execution_count": 72,
   "id": "db84818f-9f8b-42a6-8cbd-6d302848f1f5",
   "metadata": {},
   "outputs": [],
   "source": [
    "ref_df = job.training_data"
   ]
  },
  {
   "cell_type": "code",
   "execution_count": 73,
   "id": "e04ce5d9-b05b-4ee7-8deb-7bbd105ef69a",
   "metadata": {},
   "outputs": [],
   "source": [
    "pred_df = job.predicted_data"
   ]
  },
  {
   "cell_type": "code",
   "execution_count": 74,
   "id": "43316044-b1f7-441c-8351-4606892230e5",
   "metadata": {},
   "outputs": [
    {
     "data": {
      "text/plain": [
       "Text(0, 0.5, 'ACE E, eV/atom')"
      ]
     },
     "execution_count": 74,
     "metadata": {},
     "output_type": "execute_result"
    },
    {
     "data": {
      "image/png": "[encoded data removed]",
      "text/plain": [
       "<Figure size 640x480 with 1 Axes>"
      ]
     },
     "metadata": {},
     "output_type": "display_data"
    }
   ],
   "source": [
    "plt.scatter(pred_df[\"energy_per_atom_true\"],pred_df[\"energy_per_atom\"])\n",
    "plt.xlabel(\"Dataset E, eV/atom\")\n",
    "plt.ylabel(\"ACE E, eV/atom\")"
   ]
  },
  {
   "cell_type": "markdown",
   "id": "758748c5-5cc4-4394-8d82-5d8d73ea09cf",
   "metadata": {},
   "source": [
    "and forces"
   ]
  },
  {
   "cell_type": "code",
   "execution_count": 75,
   "id": "c9da55eb-4de2-4149-89a5-f3e06cfb23f9",
   "metadata": {},
   "outputs": [
    {
     "data": {
      "text/plain": [
       "Text(0, 0.5, 'ACE F_i, eV/A')"
      ]
     },
     "execution_count": 75,
     "metadata": {},
     "output_type": "execute_result"
    },
    {
     "data": {
      "image/png": "[encoded data removed]",
      "text/plain": [
       "<Figure size 640x480 with 1 Axes>"
      ]
     },
     "metadata": {},
     "output_type": "display_data"
    }
   ],
   "source": [
    "plt.scatter(ref_df[\"forces\"],pred_df[\"forces\"])\n",
    "plt.xlabel(\"Dataset F_i, eV/A\")\n",
    "plt.ylabel(\"ACE F_i, eV/A\")"
   ]
  },
  {
   "cell_type": "markdown",
   "id": "3b23d796-a3a3-4519-b69b-ab332ba9f461",
   "metadata": {},
   "source": [
    "Check more in `job.working_directory`/report folder"
   ]
  },
  {
   "cell_type": "code",
   "execution_count": 76,
   "id": "75142478-5118-42b9-acd7-41aca50d1222",
   "metadata": {},
   "outputs": [
    {
     "name": "stdout",
     "output_type": "stream",
     "text": [
      "train_E-dE-dist.png  train_EF-pairplots.png  train_Fi-dFi-dist.png\n",
      "train_E-dE-nn.png    train_F-dF-dist.png\n"
     ]
    }
   ],
   "source": [
    "! ls {job.working_directory}/report"
   ]
  },
  {
   "cell_type": "markdown",
   "id": "3eadb289-3470-45e6-ac8f-aefb3dd08307",
   "metadata": {},
   "source": [
    "---"
   ]
  },
  {
   "cell_type": "markdown",
   "id": "f29416a3-8550-49e5-a8ce-8d355e96cab2",
   "metadata": {},
   "source": [
    "## <font style=\"font-family:roboto;color:#455e6c\"> Bonus: Scaling structures</font>  \n",
    "\n",
    "Another approach used is scaling the structures. We start by creating a bulk fcc again."
   ]
  },
  {
   "cell_type": "code",
   "execution_count": 15,
   "id": "54522956-a9ea-43b8-a9b5-b7389757ecb4",
   "metadata": {},
   "outputs": [],
   "source": [
    "Al = pr.create.structure.bulk('Al', cubic=True, a=4.04)"
   ]
  },
  {
   "cell_type": "markdown",
   "id": "0196c6a5-a1d2-4010-9e2b-b30fbad2cbce",
   "metadata": {},
   "source": [
    "We now scale the structure such that minimum nearest neighbor distance is varied from 2 to 6.5 Å in 0.5 intervals. We will also create a `StructureStorage` which easily save these structures, and run calculations with them later."
   ]
  },
  {
   "cell_type": "code",
   "execution_count": 16,
   "id": "8b97166d-3bec-4f9c-b603-294a36b111dd",
   "metadata": {},
   "outputs": [],
   "source": [
    "store = StructureStorage()"
   ]
  },
  {
   "cell_type": "markdown",
   "id": "c834be45-7374-4ff8-84eb-9dbf4a045616",
   "metadata": {},
   "source": [
    "We start by getting the minimum nearest neighbor distance"
   ]
  },
  {
   "cell_type": "code",
   "execution_count": 17,
   "id": "f55776d4-def9-4aba-8859-0c1f2ed11afc",
   "metadata": {},
   "outputs": [
    {
     "data": {
      "text/plain": [
       "2.856711395993652"
      ]
     },
     "execution_count": 17,
     "metadata": {},
     "output_type": "execute_result"
    }
   ],
   "source": [
    "distances = Al.get_all_distances(mic=True).flatten()\n",
    "min_distance = np.min(distances[np.nonzero(distances)])\n",
    "min_distance"
   ]
  },
  {
   "cell_type": "markdown",
   "id": "6489a50d-8b92-4a6c-946b-ab52222395c7",
   "metadata": {},
   "source": [
    "The range of distances needed, and convert them to fractions"
   ]
  },
  {
   "cell_type": "code",
   "execution_count": 18,
   "id": "76e32f9d-e81b-434c-b964-39c563bbc85f",
   "metadata": {},
   "outputs": [],
   "source": [
    "d_arr = np.arange(2, 7, 0.5)\n",
    "scale = d_arr/np.min(distances[np.nonzero(distances)])"
   ]
  },
  {
   "cell_type": "markdown",
   "id": "ddc1d4fc-8e41-46a7-b9c6-16703da34ce3",
   "metadata": {},
   "source": [
    "Now for each scaling, create a structure and store it"
   ]
  },
  {
   "cell_type": "code",
   "execution_count": 19,
   "id": "99b23427-8b89-4534-a11a-c8778ebbeb8f",
   "metadata": {},
   "outputs": [],
   "source": [
    "for s in scale:\n",
    "    struct = Al.copy()\n",
    "    struct.apply_strain(s)\n",
    "    store.add_structure(struct, identifier=f'fcc_nnscale_{s}')"
   ]
  },
  {
   "cell_type": "markdown",
   "id": "0faedb90-e74d-4b46-a92c-53315404c21d",
   "metadata": {},
   "source": [
    "Note that this procedure has to be repeated for other bulk structures of interest."
   ]
  },
  {
   "cell_type": "markdown",
   "id": "04b44b12-3eeb-46d1-a65f-606730a3e4e3",
   "metadata": {},
   "source": [
    "## <font style=\"font-family:roboto;color:#455e6c\"> Bonus: Structures from Materials Project</font>  \n",
    "\n",
    "For binary AlLi structures, we queried them from materials project. This can be done with pyiron. Note that you have to provide a [Materials Project API key](https://next-gen.materialsproject.org/api#api-key) for this functionality."
   ]
  },
  {
   "cell_type": "code",
   "execution_count": 20,
   "id": "0b969fd2-5bd3-4f7d-91d4-34ba20ad7685",
   "metadata": {},
   "outputs": [],
   "source": [
    "api_key=''"
   ]
  },
  {
   "cell_type": "markdown",
   "id": "8bb72a0d-d4b5-42ec-affc-d4ff342bf767",
   "metadata": {},
   "source": [
    "We can query structures that lie on the convex hull"
   ]
  },
  {
   "cell_type": "code",
   "execution_count": 21,
   "id": "d8dbbaca-e660-4a24-b22b-b3d34a1526b3",
   "metadata": {},
   "outputs": [
    {
     "name": "stderr",
     "output_type": "stream",
     "text": [
      "/home/menon/miniconda3/envs/potentials_v0.0.2/lib/python3.11/site-packages/mp_api/client/mprester.py:227: UserWarning: mpcontribs-client not installed. Install the package to query MPContribs data, or construct pourbaix diagrams: 'pip install mpcontribs-client'\n",
      "  warnings.warn(\n"
     ]
    },
    {
     "data": {
      "application/vnd.jupyter.widget-view+json": {
       "model_id": "706763583edc4fd58fde77d9d4bb56a3",
       "version_major": 2,
       "version_minor": 0
      },
      "text/plain": [
       "Retrieving SummaryDoc documents:   0%|          | 0/4 [00:00<?, ?it/s]"
      ]
     },
     "metadata": {},
     "output_type": "display_data"
    }
   ],
   "source": [
    "structures = pr.create.structure.materialsproject.search(['Al-Li'], is_stable=True, api_key=api_key)"
   ]
  },
  {
   "cell_type": "markdown",
   "id": "25bb6e97-34f1-43f5-a105-7dddce21ae64",
   "metadata": {},
   "source": [
    "We add these structures to the store"
   ]
  },
  {
   "cell_type": "code",
   "execution_count": 22,
   "id": "38ae5fcf-6bac-4b83-9df8-e7e5a5317792",
   "metadata": {},
   "outputs": [],
   "source": [
    "for structure in structures:\n",
    "    store.add_structure(structure, identifier=structure.get_chemical_formula())"
   ]
  },
  {
   "cell_type": "markdown",
   "id": "ee68d714-2ee6-4f27-871c-7deb6d135c2c",
   "metadata": {},
   "source": [
    "Note that you can also visualise the structures."
   ]
  },
  {
   "cell_type": "code",
   "execution_count": 23,
   "id": "43fbfd0b-cb36-431a-b44e-7763a9bfaa1f",
   "metadata": {},
   "outputs": [
    {
     "data": {
      "application/vnd.jupyter.widget-view+json": {
       "model_id": "bc6366a4c05849aa9c50495a470ce751",
       "version_major": 2,
       "version_minor": 0
      },
      "text/plain": [
       "NGLWidget()"
      ]
     },
     "metadata": {},
     "output_type": "display_data"
    }
   ],
   "source": [
    "structures.get_structure(frame=3).plot3d()"
   ]
  },
  {
   "cell_type": "markdown",
   "id": "f35756f5-97c5-4a75-b0b9-862af12c9a55",
   "metadata": {},
   "source": [
    "We need to relax these structure, but also perfrom EV curves, and scaling of the nearest neighbor distance as before. This is skipped for now."
   ]
  },
  {
   "cell_type": "markdown",
   "id": "8a2d7ac8-1b67-4fe3-a658-b0635bbcdcb7",
   "metadata": {},
   "source": [
    "## <font style=\"font-family:roboto;color:#455e6c\"> Bonus: How does an actual potential file look like ? </font> "
   ]
  },
  {
   "cell_type": "markdown",
   "id": "280529e1-823e-4def-9a9f-b17727b282b8",
   "metadata": {},
   "source": [
    "`output_potential.yaml`:\n",
    "\n",
    "```yaml\n",
    "species:\n",
    "    # Pure Al interaction block\n",
    "  - speciesblock: Al\n",
    "    radbase: SBessel\n",
    "    radcoefficients: [[[1.995274603767268, -1.1940566258712266,...]]]\n",
    "  \n",
    "    nbody:\n",
    "      # first order/ two-body functions = pair functions\n",
    "      - {type: Al Al, nr: [1], nl: [0], c: [2.0970219095074687, -3.9539202281610351]}\n",
    "      - {type: Al Al, nr: [2], nl: [0], c: [-1.8968648691718397, -2.3146574133175974]}\n",
    "      - {type: Al Al, nr: [3], nl: [0], c: [1.3504952496800906, 1.5291190439028692]}\n",
    "      - {type: Al Al, nr: [4], nl: [0], c: [0.040517989827027742, 0.11933504671036224]}\n",
    "      ...\n",
    "      # second order/ three-body functions \n",
    "      - {type: Al Al Al, nr: [1, 1], nl: [0, 0], c: [0.57788490809100468, -1.8642896163994958]}\n",
    "      - {type: Al Al Al, nr: [1, 1], nl: [1, 1], c: [-1.0126646532267587, -1.2336078784112348]}\n",
    "      - {type: Al Al Al, nr: [1, 1], nl: [2, 2], c: [-0.19324470046809467, 0.63954472122968498]}\n",
    "      - {type: Al Al Al, nr: [1, 1], nl: [3, 3], c: [-0.22018334529075642, 0.32822679746839439]}\n",
    "      ...\n",
    "      # fifth order/ six-body functions \n",
    "      - {type: Al Al Al Al Al Al, nr: [1, 1, 1, 1, 1], nl: [0, 0, 0, 0, 0], lint: [0, 0, 0], c: [-0.71...]}\n",
    "  \n",
    "  \n",
    "  # binary Al-Li interaction block    \n",
    "  - speciesblock: Al Li      \n",
    "     ...\n",
    "     nbody:\n",
    "      - {type: Al Li, nr: [1], nl: [0], c: [0.91843424537280882, -2.4170371138562308]}\n",
    "      - {type: Al Li, nr: [2], nl: [0], c: [-0.88380210517336399, -0.97055273167339651]}\n",
    "      ...\n",
    "      - {type: Al Al Al Li Li, nr: [1, 1, 1, 1], nl: [1, 1, 0, 0], lint: [0, 0], c: [-0.0050,...]}\n",
    "      ...\n",
    "  # Pure Li interaction block      \n",
    "  - speciesblock: Li\n",
    "      nbody:\n",
    "       ...\n",
    "       - {type: Li Li Li, nr: [4, 4], nl: [3, 3], c: [-0.0059111333449957159, 0.035]}\n",
    "       - {type: Li Li Li Li, nr: [1, 1, 1], nl: [0, 0, 0], lint: [0], c: [0.210,...]}\n",
    "       ...\n",
    "  # binary Al-Li interaction block    \n",
    "  - speciesblock: Li Al\n",
    "      nbody:\n",
    "       ...\n",
    "       - {type: Li Al Al, nr: [4, 4], nl: [3, 3], c: [0.014680736321211739, -0.030618474343919122]}\n",
    "       - {type: Li Al Li, nr: [1, 1], nl: [0, 0], c: [-0.22827705573988896, 0.28367909613209036]}\n",
    "       ...\n",
    "  \n",
    "```"
   ]
  },
  {
   "cell_type": "markdown",
   "id": "cbe29f62-9d93-4df3-a9f4-0a30418d4daf",
   "metadata": {},
   "source": [
    "`output_potential.yaml` is in B-basis form. For efficient LAMMPS implementaion it should be converted to so-called `C-tilde` form.  This is already done by `pyiron`, but it could be also done manually by `pace_yaml2yace` utility. Check [here](https://pacemaker.readthedocs.io/en/latest/pacemaker/quickstart/#lammps) for more details"
   ]
  },
  {
   "cell_type": "markdown",
   "id": "34fcc170-85a5-40be-ab79-2bab747f0c69",
   "metadata": {},
   "source": [
    "## <font style=\"font-family:roboto;color:#455e6c\"> Further reading </font> \n",
    "\n",
    "* [Documentation](https://pacemaker.readthedocs.io/en/latest/)\n",
    "* [`pacemaker` repository](https://github.com/ICAMS/python-ace)\n",
    "* [Bochkarev, A., Lysogorskiy, Y., Menon, S., Qamar, M., Mrovec, M. and Drautz, R. Efficient parametrization of the atomic cluster expansion. Physical Review Materials 6(1) 013804 (2022)](https://journals.aps.org/prmaterials/abstract/10.1103/PhysRevMaterials.6.013804)\n",
    "* [Lysogorskiy, Y., Oord, C. v. d., Bochkarev, A., Menon, S., Rinaldi, M., Hammerschmidt, T., Mrovec, M., Thompson, A., Csányi, G., Ortner, C. and  Drautz, R. Performant implementation of the atomic cluster expansion (PACE) and application to copper and silicon. npj Computational Materials 7(1), 1-12 (2021)](https://www.nature.com/articles/s41524-021-00559-9)\n",
    "* [Drautz, R. Atomic cluster expansion for accurate and transferable interatomic potentials. Physical Review B, 99(1), 014104 (2019)](https://journals.aps.org/prb/abstract/10.1103/PhysRevB.99.014104)"
   ]
  },
  {
   "cell_type": "markdown",
   "id": "d823c8b6-831c-43b9-9688-41ee3e7dfe43",
   "metadata": {},
   "source": [
    "## <font style=\"font-family:roboto;color:#455e6c\"> Software used in this notebook </font>  \n",
    "\n",
    "- [pacemaker](https://github.com/ICAMS/python-ace)\n",
    "- [pyiron_atomistics](https://github.com/pyiron/pyiron_atomistics)\n",
    "- [LAMMPS](https://www.lammps.org/)\n",
    "- [pyXtal](https://pyxtal.readthedocs.io/en/latest/)"
   ]
  }
 ],
 "metadata": {
  "kernelspec": {
   "display_name": "Python 3 (ipykernel)",
   "language": "python",
   "name": "python3"
  },
  "language_info": {
   "codemirror_mode": {
    "name": "ipython",
    "version": 3
   },
   "file_extension": ".py",
   "mimetype": "text/x-python",
   "name": "python",
   "nbconvert_exporter": "python",
   "pygments_lexer": "ipython3",
   "version": "3.11.6"
  }
 },
 "nbformat": 4,
 "nbformat_minor": 5
}
