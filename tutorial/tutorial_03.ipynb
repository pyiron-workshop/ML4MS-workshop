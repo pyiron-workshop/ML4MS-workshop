{
 "cells": [
  {
   "cell_type": "markdown",
   "id": "3ced8bb9-a168-4b89-bac4-50e4e26df964",
   "metadata": {},
   "source": [
    "# <font style=\"font-family:roboto;color:#455e6c\"> Validation of interatomic potentials </font>  "
   ]
  },
  {
   "cell_type": "markdown",
   "id": "d5546d59-0ff2-4b8c-a5a6-768d4cfd75ed",
   "metadata": {},
   "source": [
    "<div class=\"admonition note\" name=\"html-admonition\" style=\"background:#e3f2fd; padding: 10px\">\n",
    "<font style=\"font-family:roboto;color:#455e6c\"> <b> Machine Learning Modalities for Materials Science Workshop, Jožef Stefan Institute, Ljubljana </b> </font> </br>\n",
    "<font style=\"font-family:roboto;color:#455e6c\"> 14 May 2024 </font>\n",
    "</div>"
   ]
  },
  {
   "cell_type": "markdown",
   "id": "e14f714a-bab5-450d-a8d6-fea64d1ca815",
   "metadata": {},
   "source": [
    "In this notebook, we will run some validation calculations for interatomic potentials"
   ]
  },
  {
   "cell_type": "markdown",
   "id": "7d2ddc01-8e19-4dcb-be58-120f4c59a429",
   "metadata": {},
   "source": [
    "## <font style=\"font-family:roboto;color:#455e6c\"> Equation of State </font> "
   ]
  },
  {
   "cell_type": "markdown",
   "id": "d694a0e8-f9fc-46af-9366-cb56b80d9f5f",
   "metadata": {},
   "source": [
    "We can try to calculate an EV curve with the potential we just created in the last session. We start by importing the necessary modules"
   ]
  },
  {
   "cell_type": "code",
   "execution_count": 1,
   "id": "b9121e9f-dbd1-437b-8d87-9df902feebe0",
   "metadata": {},
   "outputs": [],
   "source": [
    "%config IPCompleter.evaluation='unsafe'"
   ]
  },
  {
   "cell_type": "code",
   "execution_count": 2,
   "id": "17470693-9b25-4897-aa43-54851df89e94",
   "metadata": {},
   "outputs": [
    {
     "data": {
      "application/vnd.jupyter.widget-view+json": {
       "model_id": "3f6c8124d69e4dec9edd045fc4baae99",
       "version_major": 2,
       "version_minor": 0
      },
      "text/plain": []
     },
     "metadata": {},
     "output_type": "display_data"
    }
   ],
   "source": [
    "from pyiron_atomistics import Project\n",
    "import numpy as np\n",
    "import matplotlib.pyplot as plt\n",
    "import pandas as pd"
   ]
  },
  {
   "cell_type": "markdown",
   "id": "31527bb4-dca3-47b8-9873-11d4ebcb5b5a",
   "metadata": {},
   "source": [
    "First we create a project, which points to the calculations we did"
   ]
  },
  {
   "cell_type": "code",
   "execution_count": 3,
   "id": "357a7314-b89c-45f5-a83a-752fd20a8455",
   "metadata": {},
   "outputs": [],
   "source": [
    "pr = Project('fitting')"
   ]
  },
  {
   "cell_type": "markdown",
   "id": "8cd8d706-2c04-4b42-99d0-5469b40408e7",
   "metadata": {},
   "source": [
    "Now we can get the potential we fitted to run with LAMMPS. For that, first we load the training job"
   ]
  },
  {
   "cell_type": "code",
   "execution_count": 4,
   "id": "cc0a56e9-4df0-4874-98af-768dbf75d837",
   "metadata": {},
   "outputs": [],
   "source": [
    "job = pr.load('pacemaker_job')"
   ]
  },
  {
   "cell_type": "code",
   "execution_count": 5,
   "id": "268d1793-c2fc-4ed4-b06f-39c52dbd03aa",
   "metadata": {},
   "outputs": [],
   "source": [
    "pace_lammps_potential = job.get_lammps_potential()"
   ]
  },
  {
   "cell_type": "code",
   "execution_count": 6,
   "id": "0ab20546-6490-4f52-bd88-ca85edb0f526",
   "metadata": {},
   "outputs": [
    {
     "data": {
      "text/html": [
       "<div>\n",
       "<style scoped>\n",
       "    .dataframe tbody tr th:only-of-type {\n",
       "        vertical-align: middle;\n",
       "    }\n",
       "\n",
       "    .dataframe tbody tr th {\n",
       "        vertical-align: top;\n",
       "    }\n",
       "\n",
       "    .dataframe thead th {\n",
       "        text-align: right;\n",
       "    }\n",
       "</style>\n",
       "<table border=\"1\" class=\"dataframe\">\n",
       "  <thead>\n",
       "    <tr style=\"text-align: right;\">\n",
       "      <th></th>\n",
       "      <th>Config</th>\n",
       "      <th>Filename</th>\n",
       "      <th>Model</th>\n",
       "      <th>Name</th>\n",
       "      <th>Species</th>\n",
       "    </tr>\n",
       "  </thead>\n",
       "  <tbody>\n",
       "    <tr>\n",
       "      <th>0</th>\n",
       "      <td>[pair_style pace\\n, pair_coeff  * * /mnt/c/Use...</td>\n",
       "      <td></td>\n",
       "      <td>ACE</td>\n",
       "      <td>pacemaker_job</td>\n",
       "      <td>[Al]</td>\n",
       "    </tr>\n",
       "  </tbody>\n",
       "</table>\n",
       "</div>"
      ],
      "text/plain": [
       "                                              Config Filename Model  \\\n",
       "0  [pair_style pace\\n, pair_coeff  * * /mnt/c/Use...            ACE   \n",
       "\n",
       "            Name Species  \n",
       "0  pacemaker_job    [Al]  "
      ]
     },
     "execution_count": 6,
     "metadata": {},
     "output_type": "execute_result"
    }
   ],
   "source": [
    "pace_lammps_potential"
   ]
  },
  {
   "cell_type": "markdown",
   "id": "dd7b7382-bac2-41d4-b1c7-c2b685807e01",
   "metadata": {},
   "source": [
    "Now as we saw before, we can do an EV curve calculation for Al fcc"
   ]
  },
  {
   "cell_type": "code",
   "execution_count": 7,
   "id": "d6ad351e-5778-4c9c-ba7f-609ded612396",
   "metadata": {},
   "outputs": [],
   "source": [
    "lammps_job = pr.create.job.Lammps(\"ref_Al\", delete_existing_job=True)\n",
    "lammps_job.structure = pr.create.structure.bulk(\"Al\", cubic=True)\n",
    "lammps_job.potential = pace_lammps_potential"
   ]
  },
  {
   "cell_type": "code",
   "execution_count": 8,
   "id": "7c5ad159-f8cc-427c-b44f-18e93f57e5ae",
   "metadata": {},
   "outputs": [],
   "source": [
    "murn = pr.create.job.Murnaghan(\"Al_murn_ace\")\n",
    "murn.ref_job = lammps_job"
   ]
  },
  {
   "cell_type": "code",
   "execution_count": 9,
   "id": "44970e19-6216-4441-b7d1-c4c8072532b4",
   "metadata": {},
   "outputs": [
    {
     "name": "stderr",
     "output_type": "stream",
     "text": [
      "2024-05-07 14:14:02,132 - pyiron_log - WARNING - The job Al_murn_ace is being loaded instead of running. To re-run use the argument 'delete_existing_job=True in create_job'\n"
     ]
    }
   ],
   "source": [
    "murn.run()"
   ]
  },
  {
   "cell_type": "code",
   "execution_count": 10,
   "id": "9cde8aae-b60c-4529-b90e-c9c5ce448428",
   "metadata": {},
   "outputs": [
    {
     "data": {
      "image/png": "[encoded data removed]",
      "text/plain": [
       "<Figure size 640x480 with 1 Axes>"
      ]
     },
     "metadata": {},
     "output_type": "display_data"
    },
    {
     "data": {
      "text/plain": [
       "<Axes: title={'center': 'Murnaghan: error: 3.8552355664996005e-07'}, xlabel='Volume ($\\\\AA^3$)', ylabel='energy (eV)'>"
      ]
     },
     "execution_count": 10,
     "metadata": {},
     "output_type": "execute_result"
    }
   ],
   "source": [
    "murn.plot()"
   ]
  },
  {
   "cell_type": "markdown",
   "id": "1c962d56-4996-4192-a54f-c9e99b58f6e2",
   "metadata": {},
   "source": [
    "We can now compare this with DFT results. The DFT results are provided in the form of a csv file"
   ]
  },
  {
   "cell_type": "code",
   "execution_count": 11,
   "id": "bd065058-6842-4bbd-8316-d03c4ef711f5",
   "metadata": {},
   "outputs": [],
   "source": [
    "dft_ref = pd.read_csv('dft_ref.csv')"
   ]
  },
  {
   "cell_type": "code",
   "execution_count": 12,
   "id": "83ad98bf-bb3c-4f7a-b48c-ba81be42d85a",
   "metadata": {},
   "outputs": [
    {
     "data": {
      "text/html": [
       "<div>\n",
       "<style scoped>\n",
       "    .dataframe tbody tr th:only-of-type {\n",
       "        vertical-align: middle;\n",
       "    }\n",
       "\n",
       "    .dataframe tbody tr th {\n",
       "        vertical-align: top;\n",
       "    }\n",
       "\n",
       "    .dataframe thead th {\n",
       "        text-align: right;\n",
       "    }\n",
       "</style>\n",
       "<table border=\"1\" class=\"dataframe\">\n",
       "  <thead>\n",
       "    <tr style=\"text-align: right;\">\n",
       "      <th></th>\n",
       "      <th>Unnamed: 0.1</th>\n",
       "      <th>Unnamed: 0</th>\n",
       "      <th>energy</th>\n",
       "      <th>number_of_atoms</th>\n",
       "      <th>volume</th>\n",
       "      <th>energy_per_atom</th>\n",
       "      <th>compound</th>\n",
       "    </tr>\n",
       "  </thead>\n",
       "  <tbody>\n",
       "    <tr>\n",
       "      <th>0</th>\n",
       "      <td>22</td>\n",
       "      <td>886</td>\n",
       "      <td>-14.818128</td>\n",
       "      <td>4</td>\n",
       "      <td>14.835973</td>\n",
       "      <td>-3.433909</td>\n",
       "      <td>Alfcc</td>\n",
       "    </tr>\n",
       "    <tr>\n",
       "      <th>1</th>\n",
       "      <td>23</td>\n",
       "      <td>887</td>\n",
       "      <td>-14.893430</td>\n",
       "      <td>4</td>\n",
       "      <td>15.165661</td>\n",
       "      <td>-3.452735</td>\n",
       "      <td>Alfcc</td>\n",
       "    </tr>\n",
       "    <tr>\n",
       "      <th>2</th>\n",
       "      <td>24</td>\n",
       "      <td>888</td>\n",
       "      <td>-14.948596</td>\n",
       "      <td>4</td>\n",
       "      <td>15.495350</td>\n",
       "      <td>-3.466526</td>\n",
       "      <td>Alfcc</td>\n",
       "    </tr>\n",
       "    <tr>\n",
       "      <th>3</th>\n",
       "      <td>25</td>\n",
       "      <td>889</td>\n",
       "      <td>-14.985750</td>\n",
       "      <td>4</td>\n",
       "      <td>15.825038</td>\n",
       "      <td>-3.475815</td>\n",
       "      <td>Alfcc</td>\n",
       "    </tr>\n",
       "    <tr>\n",
       "      <th>4</th>\n",
       "      <td>26</td>\n",
       "      <td>890</td>\n",
       "      <td>-15.006807</td>\n",
       "      <td>4</td>\n",
       "      <td>16.154726</td>\n",
       "      <td>-3.481079</td>\n",
       "      <td>Alfcc</td>\n",
       "    </tr>\n",
       "  </tbody>\n",
       "</table>\n",
       "</div>"
      ],
      "text/plain": [
       "   Unnamed: 0.1  Unnamed: 0     energy  number_of_atoms     volume  \\\n",
       "0            22         886 -14.818128                4  14.835973   \n",
       "1            23         887 -14.893430                4  15.165661   \n",
       "2            24         888 -14.948596                4  15.495350   \n",
       "3            25         889 -14.985750                4  15.825038   \n",
       "4            26         890 -15.006807                4  16.154726   \n",
       "\n",
       "   energy_per_atom compound  \n",
       "0        -3.433909    Alfcc  \n",
       "1        -3.452735    Alfcc  \n",
       "2        -3.466526    Alfcc  \n",
       "3        -3.475815    Alfcc  \n",
       "4        -3.481079    Alfcc  "
      ]
     },
     "execution_count": 12,
     "metadata": {},
     "output_type": "execute_result"
    }
   ],
   "source": [
    "dft_ref.head()"
   ]
  },
  {
   "cell_type": "code",
   "execution_count": 13,
   "id": "00f77a37-16a0-4e10-b347-43e2d4b4235d",
   "metadata": {
    "scrolled": true
   },
   "outputs": [
    {
     "data": {
      "image/png": "[encoded data removed]",
      "text/plain": [
       "<Figure size 640x480 with 1 Axes>"
      ]
     },
     "metadata": {},
     "output_type": "display_data"
    }
   ],
   "source": [
    "plt.plot(dft_ref['volume'], dft_ref['energy_per_atom'], 'o', label='Ref')\n",
    "plt.plot(murn['output/volume']/len(murn.structure), murn['output/energy']/len(murn.structure), 'o', label='fitted potential')\n",
    "plt.legend();"
   ]
  },
  {
   "cell_type": "markdown",
   "id": "3cfa4be0-700e-4998-bd02-afbfd6fe6875",
   "metadata": {},
   "source": [
    "For the simple potential, we have quite nice agreement with the DFT data!"
   ]
  },
  {
   "cell_type": "markdown",
   "id": "d4f72861-4cf5-4dd3-b71a-e51adc57ee53",
   "metadata": {},
   "source": [
    "## <font style=\"font-family:roboto;color:#455e6c\"> Phonons </font> "
   ]
  },
  {
   "cell_type": "markdown",
   "id": "46b2e433-39a4-4ac7-b83c-98b3101652ab",
   "metadata": {},
   "source": [
    "Now we can get phonon density of states using Phonopy"
   ]
  },
  {
   "cell_type": "code",
   "execution_count": 16,
   "id": "bf1627ff-24c1-4be5-8b61-b5221945f80f",
   "metadata": {},
   "outputs": [
    {
     "name": "stdout",
     "output_type": "stream",
     "text": [
      "The job phonopy_job was saved and received the ID: 437\n",
      "The job elastic_ref_0 was saved and received the ID: 438\n"
     ]
    }
   ],
   "source": [
    "job_ref = pr.create.job.Lammps('phonopy_ref')\n",
    "job_ref.structure = murn.get_structure()\n",
    "job_ref.potential = pace_lammps_potential\n",
    "job_ref.calc_minimize()\n",
    "\n",
    "phonopy_job = job_ref.create_job(pr.job_type.PhonopyJob, f\"phonopy_job\")\n",
    "job_ref.calc_static()\n",
    "phonopy_job.run()"
   ]
  },
  {
   "cell_type": "code",
   "execution_count": 20,
   "id": "a16b7915-a829-4bc2-a696-08dfc0a418ad",
   "metadata": {},
   "outputs": [
    {
     "data": {
      "text/plain": [
       "Text(0.5, 0, 'Frequency (THz)')"
      ]
     },
     "execution_count": 20,
     "metadata": {},
     "output_type": "execute_result"
    },
    {
     "data": {
      "image/png": "[encoded data removed]",
      "text/plain": [
       "<Figure size 640x480 with 1 Axes>"
      ]
     },
     "metadata": {},
     "output_type": "display_data"
    }
   ],
   "source": [
    "plt.plot(phonopy_job[\"output/dos_energies\"], phonopy_job[\"output/dos_total\"], \n",
    "                lw=1.5,)\n",
    "plt.ylabel(\"DOS\")\n",
    "plt.xlabel(\"Frequency (THz)\")"
   ]
  },
  {
   "cell_type": "markdown",
   "id": "18597e04-9350-4b55-ba26-9c430a74f83a",
   "metadata": {},
   "source": [
    "## <font style=\"font-family:roboto;color:#455e6c\"> Thermodynamics </font> "
   ]
  },
  {
   "cell_type": "markdown",
   "id": "74ece7ea-8a48-4b52-a07d-f21d744bfcd4",
   "metadata": {},
   "source": [
    "We can also calculate more complex properties for our potential, such as the melting temperature, or phase diagram itself. Since these calculations are more expensive, we will once again switch to an EAM potential."
   ]
  },
  {
   "cell_type": "markdown",
   "id": "702703f2-50a5-4e6c-86e0-bbc0cc8ff287",
   "metadata": {},
   "source": [
    "But before that, a little bit about phase diagrams"
   ]
  },
  {
   "cell_type": "markdown",
   "id": "78970fe8-505f-486f-aca0-2c14c98b14e0",
   "metadata": {},
   "source": [
    "### <font style=\"font-family:roboto;color:#455e6c\"> A simple phase diagram </font> "
   ]
  },
  {
   "cell_type": "markdown",
   "id": "1c85dd18-33ca-4af4-8ba9-133248579543",
   "metadata": {},
   "source": [
    "<img src=\"img/phase_dia_1.png\" width=\"40%\">"
   ]
  },
  {
   "cell_type": "markdown",
   "id": "f151ab56-d89c-49a1-ae1f-b4e93fca3bb9",
   "metadata": {},
   "source": [
    "Phase diagrams provide a wealth of information such as: coexisting lines, melting temperature, phase stability, nucleation mechanism."
   ]
  },
  {
   "cell_type": "markdown",
   "id": "15ccfcbb-0c35-41f3-b0c4-ed2cc3a01381",
   "metadata": {},
   "source": [
    "### <font style=\"font-family:roboto;color:#455e6c\"> Calculation of phase diagrams: the essential ingredients </font> "
   ]
  },
  {
   "cell_type": "markdown",
   "id": "dd21802f-c27a-49c3-85e3-548380a0db87",
   "metadata": {},
   "source": [
    "<img src=\"img/cimg4.png\" width=\"50%\">"
   ]
  },
  {
   "cell_type": "markdown",
   "id": "16d17289-3b38-4fc7-a944-291b3a9ac571",
   "metadata": {},
   "source": [
    "Phase diagrams can be evaluated from free energy diagrams. The required input are:\n",
    "- $G(P, T)$ for unary systems\n",
    "- $G(x, T)$ for binary systems\n",
    "\n",
    "To calculate this, we employ thermodynamic integration, in conjuction with a number of methodological improvements."
   ]
  },
  {
   "cell_type": "markdown",
   "id": "300ff40c-312a-4898-b7ed-7006a5a7515f",
   "metadata": {},
   "source": [
    "<div class=\"admonition note\" name=\"html-admonition\" style=\"background: #FFEDD1; padding: 10px\">\n",
    "<p class=\"title\"><b>Theory behind free energy calculation </b></p>\n",
    "Please see the end of this notebook, or  <a href=\"https://journals.aps.org/prmaterials/abstract/10.1103/PhysRevMaterials.5.103801\">this publication</a> for a longer discussion on the theory and algorithms.\n",
    "</div>"
   ]
  },
  {
   "cell_type": "markdown",
   "id": "d160d6ae-9e34-4c1e-9da5-13b8f8855652",
   "metadata": {},
   "source": [
    "Start with creating a new project"
   ]
  },
  {
   "cell_type": "code",
   "execution_count": 26,
   "id": "03667429-d134-4373-8d01-cd59538e7da4",
   "metadata": {},
   "outputs": [],
   "source": [
    "pr = Project('thermodynamics') "
   ]
  },
  {
   "cell_type": "markdown",
   "id": "beacc36f-cb3c-4725-a802-98c915fd81d4",
   "metadata": {},
   "source": [
    "Due to our limited time, we will show the calculation of melting temperature, the end point on the phase diagram. We leverage a software tool for calculation of free energies, [calphy](https://calphy.org) along with pyiron for efficient and automated free energy calculations. For a detailed tutorial, see [here](https://workshop.pyiron.org/potentials-workshop-2022/phase_diagram/Intro.html)."
   ]
  },
  {
   "cell_type": "markdown",
   "id": "0dcf7f66-8a76-4aa8-a733-702ea8ed3c34",
   "metadata": {},
   "source": [
    "### <font style=\"font-family:roboto;color:#455e6c\"> Calculation of melting temperature </font> "
   ]
  },
  {
   "cell_type": "markdown",
   "id": "0dad7f8e-f556-4535-b821-2716c9f7e33c",
   "metadata": {},
   "source": [
    "#### <font style=\"font-family:roboto;color:#455e6c\"> Solid free energy </font> "
   ]
  },
  {
   "cell_type": "code",
   "execution_count": 27,
   "id": "7094e951-5ef7-4f88-9ccc-efac3e003c3b",
   "metadata": {},
   "outputs": [],
   "source": [
    "al_sol = pr.create.job.Calphy(\"Al_fcc\", \n",
    "                              delete_aborted_job=True, \n",
    "                              delete_existing_job=True)"
   ]
  },
  {
   "cell_type": "markdown",
   "id": "0e564ca6-557d-4437-8720-48e14507078f",
   "metadata": {},
   "source": [
    "There are a number of input the job can take. We can gain some information about the job from the docstrings."
   ]
  },
  {
   "cell_type": "code",
   "execution_count": 28,
   "id": "265eebfd-ebf4-4211-8c89-3283a2d0ea08",
   "metadata": {},
   "outputs": [],
   "source": [
    "structure = pr.create.structure.ase.bulk('Al', cubic=True).repeat(3)"
   ]
  },
  {
   "cell_type": "code",
   "execution_count": 29,
   "id": "6705fe2e-068c-4cb9-88e7-2a95314feb38",
   "metadata": {},
   "outputs": [
    {
     "data": {
      "application/vnd.jupyter.widget-view+json": {
       "model_id": "701f0391592c4e2e8438ea89e39eb450",
       "version_major": 2,
       "version_minor": 0
      },
      "text/plain": [
       "NGLWidget()"
      ]
     },
     "metadata": {},
     "output_type": "display_data"
    }
   ],
   "source": [
    "structure.plot3d()"
   ]
  },
  {
   "cell_type": "code",
   "execution_count": 30,
   "id": "c3b74687-cba4-480b-a0f1-5dcf29c1aecc",
   "metadata": {},
   "outputs": [],
   "source": [
    "al_sol.structure = structure"
   ]
  },
  {
   "cell_type": "code",
   "execution_count": 31,
   "id": "ae5122de-74fd-4881-9f43-0f44735791c4",
   "metadata": {},
   "outputs": [],
   "source": [
    "al_sol.potential = '2009--Mendelev-M-I--Al-Mg--LAMMPS--ipr1'"
   ]
  },
  {
   "cell_type": "code",
   "execution_count": 32,
   "id": "6e1268b1-5782-43d4-9411-1d125306a105",
   "metadata": {},
   "outputs": [],
   "source": [
    "al_sol.input.equilibration_control = 'berendsen'"
   ]
  },
  {
   "cell_type": "code",
   "execution_count": 33,
   "id": "c77f5f0a-cb67-4c04-a2ed-34cad1bf7882",
   "metadata": {},
   "outputs": [],
   "source": [
    "al_sol.calc_free_energy(temperature=[800, 1100], \n",
    "                     pressure=0, \n",
    "                     reference_phase=\"solid\",\n",
    "                     n_equilibration_steps=2500,\n",
    "                     n_switching_steps=2500)"
   ]
  },
  {
   "cell_type": "markdown",
   "id": "24e72113-424a-471a-9191-139ec2b22acb",
   "metadata": {},
   "source": [
    "Before we actually run the calculation, let us discuss the various parameters. `temperature` keyword gives the temperature range over which the free energy is to be calculated. Since we provide `500`, the free energy is calculated at this temperature. `pressure` denotes the pressure of the calculation, we chose 0 in this case. Since we are using a solid FCC lattice, we set `reference_phase` to `\"solid\"`. This means that the Einstein crystal will be used as the reference system. Finally, we have `n_equilibration_steps` and `n_switching_steps`. `n_equilibration_steps` denotes the number of MD steps over which the system is equilibrated to the required temperature and pressure. `n_switching_steps` are the number of MD steps over which the system is continuously transformed between the given interatomic potential, and the reference Einstein crystal."
   ]
  },
  {
   "cell_type": "markdown",
   "id": "a8a35656-44f3-4043-82d1-e00c58d6bd35",
   "metadata": {},
   "source": [
    "Now we can actually run the calculation"
   ]
  },
  {
   "cell_type": "code",
   "execution_count": 34,
   "id": "999cf3d3-0556-4e1a-b049-b72fe372399d",
   "metadata": {},
   "outputs": [
    {
     "name": "stdout",
     "output_type": "stream",
     "text": [
      "The job Al_fcc was saved and received the ID: 439\n",
      "Job 439 is running!\n"
     ]
    }
   ],
   "source": [
    "al_sol.run()"
   ]
  },
  {
   "cell_type": "markdown",
   "id": "f1e727f1-504a-4256-a7fb-723f3b10f855",
   "metadata": {},
   "source": [
    "#### <font style=\"font-family:roboto;color:#455e6c\"> Liquid free energy </font> "
   ]
  },
  {
   "cell_type": "code",
   "execution_count": 35,
   "id": "f96248b0-b968-4442-8cc8-629fc9d6f72b",
   "metadata": {},
   "outputs": [
    {
     "name": "stdout",
     "output_type": "stream",
     "text": [
      "The job Al_lqd was saved and received the ID: 440\n",
      "Job 440 is running!\n"
     ]
    }
   ],
   "source": [
    "al_lqd = pr.create.job.Calphy(\"Al_lqd\", delete_aborted_job=True)\n",
    "al_lqd.structure = structure\n",
    "al_lqd.potential = '2009--Mendelev-M-I--Al-Mg--LAMMPS--ipr1'\n",
    "al_lqd.calc_free_energy(temperature=[800, 1100], \n",
    "                     pressure=0, \n",
    "                     reference_phase=\"liquid\",\n",
    "                     n_equilibration_steps=2500,\n",
    "                     n_switching_steps=2500)\n",
    "al_lqd.run()"
   ]
  },
  {
   "cell_type": "markdown",
   "id": "2cdf6730-e121-402f-b903-45a32b8eaa22",
   "metadata": {},
   "source": [
    "Finally, the results"
   ]
  },
  {
   "cell_type": "code",
   "execution_count": 36,
   "id": "36b5d758-ae82-45f7-89bf-ddc641db18ba",
   "metadata": {},
   "outputs": [
    {
     "data": {
      "image/png": "[encoded data removed]",
      "text/plain": [
       "<Figure size 640x480 with 1 Axes>"
      ]
     },
     "metadata": {},
     "output_type": "display_data"
    }
   ],
   "source": [
    "plt.plot(al_sol.output.temperature, al_sol.output.energy_free,\n",
    "        label=\"Al solid\", color='#C62828')\n",
    "plt.plot(al_lqd.output.temperature, al_lqd.output.energy_free,\n",
    "        label=\"Al liquid\", color='#006899')\n",
    "plt.xlabel(\"Temperature (K)\")\n",
    "plt.ylabel(\"Free energy (eV/K)\")\n",
    "plt.legend();"
   ]
  },
  {
   "cell_type": "markdown",
   "id": "ce69eb03-7d16-4316-a2bd-20cecc38281a",
   "metadata": {},
   "source": [
    "We can see that calculated melting temperature, where the free energy of both solid and liquid phases are equal, is between 850-900 K. Note that we used really small system size, and switching times for these calculations, we would need approximately 1000 atoms, and more than 50 ps switching time to get accurate results."
   ]
  },
  {
   "cell_type": "markdown",
   "id": "4295a73b-8b8a-44cf-85c4-770447419cdb",
   "metadata": {},
   "source": [
    "---"
   ]
  },
  {
   "cell_type": "markdown",
   "id": "812fd592-1d9d-459c-9053-7a3abca19e63",
   "metadata": {},
   "source": [
    "### <font style=\"color:#455e6c\" face=\"Helvetica\" > Calculation of free energies: Thermodynamic integration </font>"
   ]
  },
  {
   "cell_type": "markdown",
   "id": "4624d3ba-a402-430f-b5c1-3f672c2d0cb8",
   "metadata": {},
   "source": [
    "<img src=\"img/fig1.png\" width=\"1000\">"
   ]
  },
  {
   "cell_type": "markdown",
   "id": "c3a1afc8-f7dd-4db8-bee1-ccd823f08a32",
   "metadata": {},
   "source": [
    "- free energy of reference system are known: Einstein crystal, [Uhlenbeck-Ford model](https://doi.org/10.1063/1.4967775)\n",
    "- the two systems are coupled by \n",
    "$$\n",
    "H(\\lambda) = \\lambda H_f + (1-\\lambda)\\lambda H_i\n",
    "$$\n",
    "- Run calculations for each $\\lambda$ and integrate \n",
    "$$\n",
    "G_f = G_i + \\int_{\\lambda=0}^1 d\\lambda \\bigg \\langle  \\frac{\\partial H(\\lambda)}{\\partial \\lambda } \\bigg \\rangle\n",
    "$$"
   ]
  },
  {
   "cell_type": "markdown",
   "id": "20403e25-25ac-46e9-8581-bd77554db70e",
   "metadata": {},
   "source": [
    "To calculate $F$,\n",
    "\n",
    "- for each phase\n",
    "    - for each pressure\n",
    "        - for each temperature\n",
    "            - for each $\\lambda$\n",
    "\n",
    "If we choose 100 different $\\lambda$ values; 100 calculations are needed for each temperature and pressure! \n",
    "\n",
    "**Dimensionality: (phase, $P$, $T$, $\\lambda$)**"
   ]
  },
  {
   "cell_type": "markdown",
   "id": "9f0fedde-6cfe-4df2-9b75-5505c1ea0cbb",
   "metadata": {},
   "source": [
    "### <font style=\"color:#455e6c\" face=\"Helvetica\" > Speeding things up: Non-equilibrium calculations </font>"
   ]
  },
  {
   "cell_type": "markdown",
   "id": "81dd68ff-f28f-465b-aae2-cabc61b84c4b",
   "metadata": {},
   "source": [
    "##### Non-Equilibrium Hamiltonian Interpolation\n",
    "\n",
    "<img src=\"img/cimg5.png\" width=\"600\">"
   ]
  },
  {
   "cell_type": "markdown",
   "id": "accaf693-8e50-4fa9-a96f-58bb4da2838c",
   "metadata": {},
   "source": [
    "In this method:\n",
    "\n",
    "- Discrete $\\lambda$ parameter is replaced by a time dependent $\\lambda(t)$\n",
    "- Instead of running calculations at each $\\lambda$, run a single, short, non-equilibrium calculation"
   ]
  },
  {
   "cell_type": "markdown",
   "id": "5512643c-724c-42ed-90c3-eae1f2273e56",
   "metadata": {},
   "source": [
    "$$\n",
    "G_f = G_i + \\int_{t_i}^{t_f} dt \\frac{d\\lambda (t)}{dt}  \\frac{ H(\\lambda)}{\\partial \\lambda }\n",
    "$$"
   ]
  },
  {
   "cell_type": "markdown",
   "id": "9e2dafd2-11be-43e9-96a4-056720afa789",
   "metadata": {},
   "source": [
    "As discussed:\n",
    "- the coupling parameter $\\lambda$ earlier is replaced by a time dependent parameter\n",
    "- The equation also no longer has an ensemble average  \n",
    "\n",
    "These aspects makes it quite easy and fast to estimate this integral."
   ]
  },
  {
   "cell_type": "markdown",
   "id": "de8e7094-358e-4d94-83a1-b42e7df847cd",
   "metadata": {},
   "source": [
    "However:\n",
    "- this equation holds when the switching betwen the system of interest and reference system is carried out infinitely slowly\n",
    "- Practically, this is not not possible. "
   ]
  },
  {
   "cell_type": "markdown",
   "id": "10686a30-50fd-49e3-a80e-8e83c5d36126",
   "metadata": {},
   "source": [
    "Therefore we can write:\n",
    "\n",
    "$$\n",
    "\\Delta G = W_{rev} = W_s - E_d\n",
    "$$\n",
    "\n",
    "$$\n",
    "W_s = \\int_{t_i}^{t_f} dt \\frac{d\\lambda (t)}{dt}  \\frac{ H(\\lambda)}{\\partial \\lambda }\n",
    "$$\n",
    "\n",
    "- $E_d$ is the energy dissipation\n",
    "- $E_d \\to 0$ when $t_f-t_i \\to \\infty$"
   ]
  },
  {
   "cell_type": "markdown",
   "id": "0d48aa00-11be-4926-84ac-8b68c1540d1b",
   "metadata": {},
   "source": [
    "So far, so good, but how is this useful?\n",
    "\n",
    "- Instead of a single transformation from system of interest to reference, we switch back too\n",
    "- These are called forward $(i \\to f)$ and backward $(f \\to i)$ switching\n",
    "- $t_f - t_i = t_{sw}$ is the switching time in each direction\n",
    "- If $t_{sw}$ is long enough, $E_d^{i \\to f} = E_d^{f \\to i}$\n",
    "- and $\\Delta G = \\frac{1}{2} (W_s^{i \\to f} - W_s^{f \\to i})$"
   ]
  },
  {
   "cell_type": "markdown",
   "id": "3e0aee3c-2d36-43ee-9958-1903448abf7c",
   "metadata": {},
   "source": [
    "Now, we have all the components required for actual calculations.\n",
    "\n",
    "We have also managed to successfully reduce the dimensionality\n",
    "\n",
    "- for each phase\n",
    "    - for each pressure\n",
    "        - for each temperature\n",
    "            - ~~for each $\\lambda$~~\n",
    "\n",
    "**Dimensionality: (phase, $P$, $T$)**\n",
    "\n",
    "\n",
    "So, how do we calculate the free energy of a system modelled with a given interatomic potential?"
   ]
  },
  {
   "cell_type": "markdown",
   "id": "a80c4cca-263b-433a-9c78-6d9d6efa6505",
   "metadata": {},
   "source": [
    "### <font style=\"color:#455e6c\" face=\"Helvetica\" > Free energy for solids </font>"
   ]
  },
  {
   "cell_type": "markdown",
   "id": "dc1aace2-b761-4ad0-8c2a-ed74727d8f56",
   "metadata": {},
   "source": [
    "#### Task: Find free energy of Al in FCC lattice at 500 K and 0 pressure"
   ]
  },
  {
   "cell_type": "markdown",
   "id": "78432cde-1f4d-4660-9482-522f4269b003",
   "metadata": {},
   "source": [
    "1. Create an Al FCC lattice\n",
    "2. Choose an interatomic potential\n",
    "3. Run MD calculations at 500 K and 0 pressure to equilibrate the system\n",
    "4. Introduce the reference system\n",
    "5. Switch....\n",
    "6. ....."
   ]
  },
  {
   "cell_type": "markdown",
   "id": "2dd2407a-5a76-4daa-8d98-2aac21e92c38",
   "metadata": {},
   "source": [
    "Steps 1-3 should be fairly easy, we saw this in the last days and also in the first session. But how do we introduce a reference system?\n",
    "\n",
    "- A reference system is simply one for which the free energy is analytically known ($G_i$)\n",
    "- We calculate the free energy difference between this and the system of interest.\n",
    "\n",
    "In case of solids, a good choice of a reference system is the Einstein crystal. An Einstein crystal is a set of independent harmonic oscillators attached to the lattice positions. \n"
   ]
  },
  {
   "cell_type": "markdown",
   "id": "9a3a49a3-f9cf-40ba-925f-b279b5a850ba",
   "metadata": {},
   "source": [
    "The free energy of the Einstein crystal is:\n",
    "\n",
    "$$\n",
    "F_E = 3 k_B T \\sum_{i} ln \\bigg ( \\frac{\\hbar \\omega_i}{k_B T} \\bigg )\n",
    "$$\n",
    "\n",
    "We need to calculate:\n",
    "\n",
    "- $\\omega$\n",
    "- A common way is $$  \\frac{1}{2} k_i \\langle (\\Delta \\pmb{r}_i)^2 \\rangle = \\frac{3}{2} k_\\mathrm{B} T $$\n",
    "- $\\langle (\\Delta \\pmb{r}_i)^2 \\rangle$ is the mean squared displacement."
   ]
  },
  {
   "cell_type": "markdown",
   "id": "d92404b0-b6f9-4618-940b-578b49173fdc",
   "metadata": {},
   "source": [
    "Now that we know about the reference system, let's update our pseudo workflow:\n",
    "\n",
    "1. Create an Al fcc lattice\n",
    "2. Choose an interatomic potential\n",
    "3. Run MD calculations at 500 K and 0 pressure to equilibrate the system\n",
    "4. Calculate the mean squared displacement, therefore spring constants\n",
    "5. Switch system of interest to reference system\n",
    "6. Equilibrate the system\n",
    "7. Switch back to system of interest\n",
    "8. Find the work done\n",
    "9. Add to the free energy of the Einstein crystal"
   ]
  },
  {
   "cell_type": "markdown",
   "id": "c2863841-09e1-471d-bab8-b76588171fe4",
   "metadata": {},
   "source": [
    "As you can see, there are a number of steps that need to be done. This is where **calphy** and **pyiron** come in. These tools automatise all of the above steps and makes it easy to perform these calculations."
   ]
  },
  {
   "cell_type": "markdown",
   "id": "990080c9-5966-488f-abf3-86f6dace4e6c",
   "metadata": {},
   "source": [
    "### <font style=\"color:#455e6c\" face=\"Helvetica\" > Free energy as function of temperature </font>\n",
    "\n",
    "<img src=\"img/cimg6.png\" width=\"600\">\n",
    "\n",
    "Gibb's free energy via reversible scaling at a constant pressure is given by,\n",
    "\n",
    "$ G(N,P,T_f) = G(N,P,T_i) + \\dfrac{3}{3}Nk_BT_f\\ln{\\dfrac{T_f}{T_i}} + \\dfrac{T_f}{T_i}\\Delta G $,\n",
    "\n",
    "Therefore, $G(N,P,T_f)$ can be computed from $G(N,P,T_i)$ via the free energy difference $\\Delta G$. \n",
    "\n",
    "Here, $\\Delta G = \\dfrac{1}{2}[W_{if}-W_{fi}$] --- (2)\n",
    "\n",
    "The reversible work is related to the internal energy $U$ by,\n",
    "$W = \\int_{1}^{\\lambda_f}<U> \\,d\\lambda$ --- (3)\n",
    "\n",
    "Using MD $W$ can be computed as:\n",
    "- equilibrate for time $t_{eq}$ in NPT ensemble\n",
    "- switch $\\lambda$ : $1->\\dfrac{T_f}{T_i}$ over time $t_{sw}$\n",
    "- calculate work $W_{if}$ from (3)\n",
    "- equilibrate for time $t_{eq}$ in NPT ensemble\n",
    "- switch $\\lambda$ : $\\dfrac{T_f}{T_i}->1$ over time $t_{sw}$\n",
    "- calculate work $W_{fi}$ from (3)."
   ]
  },
  {
   "cell_type": "markdown",
   "id": "89e753a1-95d6-46af-98c5-f962d2fa0dae",
   "metadata": {},
   "source": [
    "### <font style=\"color:#455e6c\" face=\"Helvetica\" > Free energy for liquids </font>\n",
    "\n",
    "**How is the liquid prepared in this calculation?**\n",
    "\n",
    "- Start from the given structure\n",
    "- This structure is heated until it melts.\n",
    "- Melting of the structure is automatically detected by calphy\n",
    "- Once melted, it is equilibrated to the required temperature and pressure."
   ]
  },
  {
   "cell_type": "markdown",
   "id": "6a7086d0-4946-4919-a8dd-8703cf20568c",
   "metadata": {},
   "source": [
    "**What about the reference system for liquid?**\n",
    "\n",
    "The reference system for the Liquid structure is also different. In this case, the Uhlenbeck-Ford system is used as the reference system for liquid.\n",
    "\n",
    "The Uhlenbeck-Ford model is described by,\n",
    "\n",
    "$$\n",
    "E = - \\epsilon \\log(1-\\exp(-r^2/\\sigma^2))\n",
    "$$\n",
    "\n",
    "where,\n",
    "\n",
    "$$\n",
    "\\epsilon = p k_B T\n",
    "$$\n",
    "\n",
    "$\\epsilon$ and $\\sigma$ are energy and length scales, respectively.\n",
    "\n",
    "It is purely repulsive liquid model which does not undergo any phase transformations."
   ]
  },
  {
   "cell_type": "markdown",
   "id": "fdf95b84-a6ee-426c-ab4a-25604fce0485",
   "metadata": {},
   "source": [
    "### <font style=\"color:#455e6c\" face=\"Helvetica\" > Comparison of melting temperature methods </font>"
   ]
  },
  {
   "cell_type": "markdown",
   "id": "b75d2005-0c47-4b73-91ff-b10681201047",
   "metadata": {},
   "source": [
    "<img src=\"img/tm_methods.png\" width=\"900\">"
   ]
  },
  {
   "cell_type": "markdown",
   "id": "0429296a-8e33-4d8c-9c50-21e27c4a7d32",
   "metadata": {},
   "source": [
    "### <font style=\"color:#455e6c\" face=\"Helvetica\" > Further reading </font>\n",
    "- [Menon et al. \"From electrons to phase diagrams with classical and machine learning potentials: automated workflows for materials science with pyiron\"](https://arxiv.org/pdf/2403.05724.pdf)\n",
    "- [Menon, Sarath, Yury Lysogorskiy, Jutta Rogal, and Ralf Drautz. “Automated Free-Energy Calculation from Atomistic Simulations.” Physical Review Materials 5, no. 10 (October 11, 2021): 103801.](https://doi.org/10.1103/PhysRevMaterials.5.103801).\n",
    "- [Freitas, Rodrigo, Mark Asta, and Maurice de Koning. “Nonequilibrium Free-Energy Calculation of Solids Using LAMMPS.” Computational Materials Science 112 (February 2016): 333–41.](https://doi.org/10.1016/j.commatsci.2015.10.050).\n",
    "- [Paula Leite, Rodolfo, and Maurice de Koning. “Nonequilibrium Free-Energy Calculations of Fluids Using LAMMPS.” Computational Materials Science 159 (March 2019): 316–26.](https://doi.org/10.1016/j.commatsci.2018.12.029).\n",
    "- [Koning, Maurice de, A. Antonelli, and Sidney Yip. “Optimized Free-Energy Evaluation Using a Single Reversible-Scaling Simulation.” Physical Review Letters 83, no. 20 (November 15, 1999): 3973–77.](https://doi.org/10.1103/PhysRevLett.83.3973).\n",
    "- [Paula Leite, Rodolfo, Rodrigo Freitas, Rodolfo Azevedo, and Maurice de Koning. “The Uhlenbeck-Ford Model: Exact Virial Coefficients and Application as a Reference System in Fluid-Phase Free-Energy Calculations.” The Journal of Chemical Physics 145, no. 19 (November 21, 2016): 194101.](https://doi.org/10.1063/1.4967775).\n",
    "\n"
   ]
  },
  {
   "cell_type": "markdown",
   "id": "9c99291e-f9fb-436e-beb8-11b0d1047af8",
   "metadata": {},
   "source": [
    "### <font style=\"font-family:roboto;color:#455e6c\"> Software used in this notebook </font>  \n",
    "\n",
    "- [calphy](https://calphy.org)\n",
    "- [pyiron_atomistics](https://github.com/pyiron/pyiron_atomistics)\n",
    "- [LAMMPS](https://www.lammps.org/)"
   ]
  }
 ],
 "metadata": {
  "kernelspec": {
   "display_name": "Python 3 (ipykernel)",
   "language": "python",
   "name": "python3"
  },
  "language_info": {
   "codemirror_mode": {
    "name": "ipython",
    "version": 3
   },
   "file_extension": ".py",
   "mimetype": "text/x-python",
   "name": "python",
   "nbconvert_exporter": "python",
   "pygments_lexer": "ipython3",
   "version": "3.11.6"
  }
 },
 "nbformat": 4,
 "nbformat_minor": 5
}
